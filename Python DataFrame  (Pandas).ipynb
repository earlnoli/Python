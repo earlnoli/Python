{
  "cells": [
    {
      "metadata": {
        "collapsed": true
      },
      "cell_type": "markdown",
      "source": "# Python Data Frame (Pandas)"
    },
    {
      "metadata": {
        "trusted": true
      },
      "cell_type": "code",
      "source": "import pandas as pd    #python data analysis\nimport numpy as np     #numeric python\nimport matplotlib.pyplot as plt\n%matplotlib inline\n\n#read from CSV\ndt_nba = pd.read_csv(\"data//nba.csv\")\ndt_nba = dt_nba.dropna(how=\"all\") #remove all row where all data is null\ndt_nba.head(10)",
      "execution_count": 1,
      "outputs": [
        {
          "output_type": "execute_result",
          "execution_count": 1,
          "data": {
            "text/html": "<div>\n<style scoped>\n    .dataframe tbody tr th:only-of-type {\n        vertical-align: middle;\n    }\n\n    .dataframe tbody tr th {\n        vertical-align: top;\n    }\n\n    .dataframe thead th {\n        text-align: right;\n    }\n</style>\n<table border=\"1\" class=\"dataframe\">\n  <thead>\n    <tr style=\"text-align: right;\">\n      <th></th>\n      <th>Name</th>\n      <th>Team</th>\n      <th>Number</th>\n      <th>Position</th>\n      <th>Age</th>\n      <th>Height</th>\n      <th>Weight</th>\n      <th>College</th>\n      <th>Salary</th>\n    </tr>\n  </thead>\n  <tbody>\n    <tr>\n      <th>0</th>\n      <td>Avery Bradley</td>\n      <td>Boston Celtics</td>\n      <td>0.0</td>\n      <td>PG</td>\n      <td>25.0</td>\n      <td>6-2</td>\n      <td>180.0</td>\n      <td>Texas</td>\n      <td>7730337.0</td>\n    </tr>\n    <tr>\n      <th>1</th>\n      <td>Jae Crowder</td>\n      <td>Boston Celtics</td>\n      <td>99.0</td>\n      <td>SF</td>\n      <td>25.0</td>\n      <td>6-6</td>\n      <td>235.0</td>\n      <td>Marquette</td>\n      <td>6796117.0</td>\n    </tr>\n    <tr>\n      <th>2</th>\n      <td>John Holland</td>\n      <td>Boston Celtics</td>\n      <td>30.0</td>\n      <td>SG</td>\n      <td>27.0</td>\n      <td>6-5</td>\n      <td>205.0</td>\n      <td>Boston University</td>\n      <td>NaN</td>\n    </tr>\n    <tr>\n      <th>3</th>\n      <td>R.J. Hunter</td>\n      <td>Boston Celtics</td>\n      <td>28.0</td>\n      <td>SG</td>\n      <td>22.0</td>\n      <td>6-5</td>\n      <td>185.0</td>\n      <td>Georgia State</td>\n      <td>1148640.0</td>\n    </tr>\n    <tr>\n      <th>4</th>\n      <td>Jonas Jerebko</td>\n      <td>Boston Celtics</td>\n      <td>8.0</td>\n      <td>PF</td>\n      <td>29.0</td>\n      <td>6-10</td>\n      <td>231.0</td>\n      <td>NaN</td>\n      <td>5000000.0</td>\n    </tr>\n    <tr>\n      <th>5</th>\n      <td>Amir Johnson</td>\n      <td>Boston Celtics</td>\n      <td>90.0</td>\n      <td>PF</td>\n      <td>29.0</td>\n      <td>6-9</td>\n      <td>240.0</td>\n      <td>NaN</td>\n      <td>12000000.0</td>\n    </tr>\n    <tr>\n      <th>6</th>\n      <td>Jordan Mickey</td>\n      <td>Boston Celtics</td>\n      <td>55.0</td>\n      <td>PF</td>\n      <td>21.0</td>\n      <td>6-8</td>\n      <td>235.0</td>\n      <td>LSU</td>\n      <td>1170960.0</td>\n    </tr>\n    <tr>\n      <th>7</th>\n      <td>Kelly Olynyk</td>\n      <td>Boston Celtics</td>\n      <td>41.0</td>\n      <td>C</td>\n      <td>25.0</td>\n      <td>7-0</td>\n      <td>238.0</td>\n      <td>Gonzaga</td>\n      <td>2165160.0</td>\n    </tr>\n    <tr>\n      <th>8</th>\n      <td>Terry Rozier</td>\n      <td>Boston Celtics</td>\n      <td>12.0</td>\n      <td>PG</td>\n      <td>22.0</td>\n      <td>6-2</td>\n      <td>190.0</td>\n      <td>Louisville</td>\n      <td>1824360.0</td>\n    </tr>\n    <tr>\n      <th>9</th>\n      <td>Marcus Smart</td>\n      <td>Boston Celtics</td>\n      <td>36.0</td>\n      <td>PG</td>\n      <td>22.0</td>\n      <td>6-4</td>\n      <td>220.0</td>\n      <td>Oklahoma State</td>\n      <td>3431040.0</td>\n    </tr>\n  </tbody>\n</table>\n</div>",
            "text/plain": "            Name            Team  Number Position   Age Height  Weight  \\\n0  Avery Bradley  Boston Celtics     0.0       PG  25.0    6-2   180.0   \n1    Jae Crowder  Boston Celtics    99.0       SF  25.0    6-6   235.0   \n2   John Holland  Boston Celtics    30.0       SG  27.0    6-5   205.0   \n3    R.J. Hunter  Boston Celtics    28.0       SG  22.0    6-5   185.0   \n4  Jonas Jerebko  Boston Celtics     8.0       PF  29.0   6-10   231.0   \n5   Amir Johnson  Boston Celtics    90.0       PF  29.0    6-9   240.0   \n6  Jordan Mickey  Boston Celtics    55.0       PF  21.0    6-8   235.0   \n7   Kelly Olynyk  Boston Celtics    41.0        C  25.0    7-0   238.0   \n8   Terry Rozier  Boston Celtics    12.0       PG  22.0    6-2   190.0   \n9   Marcus Smart  Boston Celtics    36.0       PG  22.0    6-4   220.0   \n\n             College      Salary  \n0              Texas   7730337.0  \n1          Marquette   6796117.0  \n2  Boston University         NaN  \n3      Georgia State   1148640.0  \n4                NaN   5000000.0  \n5                NaN  12000000.0  \n6                LSU   1170960.0  \n7            Gonzaga   2165160.0  \n8         Louisville   1824360.0  \n9     Oklahoma State   3431040.0  "
          },
          "metadata": {}
        }
      ]
    },
    {
      "metadata": {
        "trusted": true
      },
      "cell_type": "code",
      "source": "pd.__version__",
      "execution_count": 2,
      "outputs": [
        {
          "output_type": "execute_result",
          "execution_count": 2,
          "data": {
            "text/plain": "'0.22.0'"
          },
          "metadata": {}
        }
      ]
    },
    {
      "metadata": {
        "trusted": true
      },
      "cell_type": "code",
      "source": "type(dt_nba)",
      "execution_count": 3,
      "outputs": [
        {
          "output_type": "execute_result",
          "execution_count": 3,
          "data": {
            "text/plain": "pandas.core.frame.DataFrame"
          },
          "metadata": {}
        }
      ]
    },
    {
      "metadata": {
        "trusted": true
      },
      "cell_type": "code",
      "source": "#list of column names\ndt_nba.columns",
      "execution_count": 4,
      "outputs": [
        {
          "output_type": "execute_result",
          "execution_count": 4,
          "data": {
            "text/plain": "Index(['Name', 'Team', 'Number', 'Position', 'Age', 'Height', 'Weight',\n       'College', 'Salary'],\n      dtype='object')"
          },
          "metadata": {}
        }
      ]
    },
    {
      "metadata": {
        "trusted": true
      },
      "cell_type": "code",
      "source": "#data types of each of the data frame\ndt_nba.dtypes.to_dict()",
      "execution_count": 5,
      "outputs": [
        {
          "output_type": "execute_result",
          "execution_count": 5,
          "data": {
            "text/plain": "{'Name': dtype('O'),\n 'Team': dtype('O'),\n 'Number': dtype('float64'),\n 'Position': dtype('O'),\n 'Age': dtype('float64'),\n 'Height': dtype('O'),\n 'Weight': dtype('float64'),\n 'College': dtype('O'),\n 'Salary': dtype('float64')}"
          },
          "metadata": {}
        }
      ]
    },
    {
      "metadata": {
        "trusted": true
      },
      "cell_type": "code",
      "source": "dt_nba.index",
      "execution_count": 6,
      "outputs": [
        {
          "output_type": "execute_result",
          "execution_count": 6,
          "data": {
            "text/plain": "Int64Index([  0,   1,   2,   3,   4,   5,   6,   7,   8,   9,\n            ...\n            447, 448, 449, 450, 451, 452, 453, 454, 455, 456],\n           dtype='int64', length=457)"
          },
          "metadata": {}
        }
      ]
    },
    {
      "metadata": {
        "trusted": true
      },
      "cell_type": "code",
      "source": "dt_nba.values",
      "execution_count": 7,
      "outputs": [
        {
          "output_type": "execute_result",
          "execution_count": 7,
          "data": {
            "text/plain": "array([['Avery Bradley', 'Boston Celtics', 0.0, ..., 180.0, 'Texas',\n        7730337.0],\n       ['Jae Crowder', 'Boston Celtics', 99.0, ..., 235.0, 'Marquette',\n        6796117.0],\n       ['John Holland', 'Boston Celtics', 30.0, ..., 205.0,\n        'Boston University', nan],\n       ...,\n       ['Raul Neto', 'Utah Jazz', 25.0, ..., 179.0, nan, 900000.0],\n       ['Tibor Pleiss', 'Utah Jazz', 21.0, ..., 256.0, nan, 2900000.0],\n       ['Jeff Withey', 'Utah Jazz', 24.0, ..., 231.0, 'Kansas', 947276.0]],\n      dtype=object)"
          },
          "metadata": {}
        }
      ]
    },
    {
      "metadata": {
        "trusted": true
      },
      "cell_type": "code",
      "source": "#show Rows x Columns\ndt_nba.shape  ",
      "execution_count": 8,
      "outputs": [
        {
          "output_type": "execute_result",
          "execution_count": 8,
          "data": {
            "text/plain": "(457, 9)"
          },
          "metadata": {}
        }
      ]
    },
    {
      "metadata": {
        "trusted": true
      },
      "cell_type": "code",
      "source": "dt_nba.dtypes",
      "execution_count": 9,
      "outputs": [
        {
          "output_type": "execute_result",
          "execution_count": 9,
          "data": {
            "text/plain": "Name         object\nTeam         object\nNumber      float64\nPosition     object\nAge         float64\nHeight       object\nWeight      float64\nCollege      object\nSalary      float64\ndtype: object"
          },
          "metadata": {}
        }
      ]
    },
    {
      "metadata": {
        "trusted": true
      },
      "cell_type": "code",
      "source": "dt_nba.axes",
      "execution_count": 10,
      "outputs": [
        {
          "output_type": "execute_result",
          "execution_count": 10,
          "data": {
            "text/plain": "[Int64Index([  0,   1,   2,   3,   4,   5,   6,   7,   8,   9,\n             ...\n             447, 448, 449, 450, 451, 452, 453, 454, 455, 456],\n            dtype='int64', length=457),\n Index(['Name', 'Team', 'Number', 'Position', 'Age', 'Height', 'Weight',\n        'College', 'Salary'],\n       dtype='object')]"
          },
          "metadata": {}
        }
      ]
    },
    {
      "metadata": {
        "trusted": true
      },
      "cell_type": "code",
      "source": "#show information with regards to all datatypes of data frame.\n\ndt_nba.info()",
      "execution_count": 11,
      "outputs": [
        {
          "output_type": "stream",
          "text": "<class 'pandas.core.frame.DataFrame'>\nInt64Index: 457 entries, 0 to 456\nData columns (total 9 columns):\nName        457 non-null object\nTeam        457 non-null object\nNumber      457 non-null float64\nPosition    457 non-null object\nAge         457 non-null float64\nHeight      457 non-null object\nWeight      457 non-null float64\nCollege     373 non-null object\nSalary      446 non-null float64\ndtypes: float64(4), object(5)\nmemory usage: 35.7+ KB\n",
          "name": "stdout"
        }
      ]
    },
    {
      "metadata": {
        "trusted": true
      },
      "cell_type": "code",
      "source": "#COUNT on all data types\n\ndt_nba.get_dtype_counts()\n",
      "execution_count": 12,
      "outputs": [
        {
          "output_type": "execute_result",
          "execution_count": 12,
          "data": {
            "text/plain": "float64    4\nobject     5\ndtype: int64"
          },
          "metadata": {}
        }
      ]
    },
    {
      "metadata": {
        "trusted": true
      },
      "cell_type": "code",
      "source": "dt_nba.std().round(4)",
      "execution_count": 13,
      "outputs": [
        {
          "output_type": "execute_result",
          "execution_count": 13,
          "data": {
            "text/plain": "Number    1.596610e+01\nAge       4.404000e+00\nWeight    2.636830e+01\nSalary    5.229238e+06\ndtype: float64"
          },
          "metadata": {}
        }
      ]
    },
    {
      "metadata": {
        "trusted": true
      },
      "cell_type": "code",
      "source": "dt_nba.median()",
      "execution_count": 14,
      "outputs": [
        {
          "output_type": "execute_result",
          "execution_count": 14,
          "data": {
            "text/plain": "Number         13.0\nAge            26.0\nWeight        220.0\nSalary    2839073.0\ndtype: float64"
          },
          "metadata": {}
        }
      ]
    },
    {
      "metadata": {
        "trusted": true
      },
      "cell_type": "code",
      "source": "pd.options.display.float_format = '{:.4f}'.format\ndt_nba.std()",
      "execution_count": 15,
      "outputs": [
        {
          "output_type": "execute_result",
          "execution_count": 15,
          "data": {
            "text/plain": "Number        15.9661\nAge            4.4040\nWeight        26.3683\nSalary   5229237.5989\ndtype: float64"
          },
          "metadata": {}
        }
      ]
    },
    {
      "metadata": {
        "trusted": true
      },
      "cell_type": "code",
      "source": "list(dt_nba)",
      "execution_count": 16,
      "outputs": [
        {
          "output_type": "execute_result",
          "execution_count": 16,
          "data": {
            "text/plain": "['Name',\n 'Team',\n 'Number',\n 'Position',\n 'Age',\n 'Height',\n 'Weight',\n 'College',\n 'Salary']"
          },
          "metadata": {}
        }
      ]
    },
    {
      "metadata": {
        "trusted": true
      },
      "cell_type": "code",
      "source": "#convert dataframe to dictionary : to get data will need to specify columns\n\n#   dict(dt_nba)[:5] # WONT WORK\n\n#   dict(dt_nba)[\"$ColumnName][:5] # WILL WORK\ndict(dt_nba)[\"Name\"][:5]",
      "execution_count": 17,
      "outputs": [
        {
          "output_type": "execute_result",
          "execution_count": 17,
          "data": {
            "text/plain": "0    Avery Bradley\n1      Jae Crowder\n2     John Holland\n3      R.J. Hunter\n4    Jonas Jerebko\nName: Name, dtype: object"
          },
          "metadata": {}
        }
      ]
    },
    {
      "metadata": {
        "trusted": true
      },
      "cell_type": "code",
      "source": "#convert dataframe to dictionary : to get data will need to specify columns\ndict(dt_nba)[\"Age\"][:5]",
      "execution_count": 18,
      "outputs": [
        {
          "output_type": "execute_result",
          "execution_count": 18,
          "data": {
            "text/plain": "0   25.0000\n1   25.0000\n2   27.0000\n3   22.0000\n4   29.0000\nName: Age, dtype: float64"
          },
          "metadata": {}
        }
      ]
    },
    {
      "metadata": {
        "trusted": true
      },
      "cell_type": "code",
      "source": "dt_nba.tail(5)  # head and tail  ",
      "execution_count": 19,
      "outputs": [
        {
          "output_type": "execute_result",
          "execution_count": 19,
          "data": {
            "text/html": "<div>\n<style scoped>\n    .dataframe tbody tr th:only-of-type {\n        vertical-align: middle;\n    }\n\n    .dataframe tbody tr th {\n        vertical-align: top;\n    }\n\n    .dataframe thead th {\n        text-align: right;\n    }\n</style>\n<table border=\"1\" class=\"dataframe\">\n  <thead>\n    <tr style=\"text-align: right;\">\n      <th></th>\n      <th>Name</th>\n      <th>Team</th>\n      <th>Number</th>\n      <th>Position</th>\n      <th>Age</th>\n      <th>Height</th>\n      <th>Weight</th>\n      <th>College</th>\n      <th>Salary</th>\n    </tr>\n  </thead>\n  <tbody>\n    <tr>\n      <th>452</th>\n      <td>Trey Lyles</td>\n      <td>Utah Jazz</td>\n      <td>41.0000</td>\n      <td>PF</td>\n      <td>20.0000</td>\n      <td>6-10</td>\n      <td>234.0000</td>\n      <td>Kentucky</td>\n      <td>2239800.0000</td>\n    </tr>\n    <tr>\n      <th>453</th>\n      <td>Shelvin Mack</td>\n      <td>Utah Jazz</td>\n      <td>8.0000</td>\n      <td>PG</td>\n      <td>26.0000</td>\n      <td>6-3</td>\n      <td>203.0000</td>\n      <td>Butler</td>\n      <td>2433333.0000</td>\n    </tr>\n    <tr>\n      <th>454</th>\n      <td>Raul Neto</td>\n      <td>Utah Jazz</td>\n      <td>25.0000</td>\n      <td>PG</td>\n      <td>24.0000</td>\n      <td>6-1</td>\n      <td>179.0000</td>\n      <td>NaN</td>\n      <td>900000.0000</td>\n    </tr>\n    <tr>\n      <th>455</th>\n      <td>Tibor Pleiss</td>\n      <td>Utah Jazz</td>\n      <td>21.0000</td>\n      <td>C</td>\n      <td>26.0000</td>\n      <td>7-3</td>\n      <td>256.0000</td>\n      <td>NaN</td>\n      <td>2900000.0000</td>\n    </tr>\n    <tr>\n      <th>456</th>\n      <td>Jeff Withey</td>\n      <td>Utah Jazz</td>\n      <td>24.0000</td>\n      <td>C</td>\n      <td>26.0000</td>\n      <td>7-0</td>\n      <td>231.0000</td>\n      <td>Kansas</td>\n      <td>947276.0000</td>\n    </tr>\n  </tbody>\n</table>\n</div>",
            "text/plain": "             Name       Team  Number Position     Age Height   Weight  \\\n452    Trey Lyles  Utah Jazz 41.0000       PF 20.0000   6-10 234.0000   \n453  Shelvin Mack  Utah Jazz  8.0000       PG 26.0000    6-3 203.0000   \n454     Raul Neto  Utah Jazz 25.0000       PG 24.0000    6-1 179.0000   \n455  Tibor Pleiss  Utah Jazz 21.0000        C 26.0000    7-3 256.0000   \n456   Jeff Withey  Utah Jazz 24.0000        C 26.0000    7-0 231.0000   \n\n      College       Salary  \n452  Kentucky 2239800.0000  \n453    Butler 2433333.0000  \n454       NaN  900000.0000  \n455       NaN 2900000.0000  \n456    Kansas  947276.0000  "
          },
          "metadata": {}
        }
      ]
    },
    {
      "metadata": {},
      "cell_type": "markdown",
      "source": "## Data Extraction"
    },
    {
      "metadata": {},
      "cell_type": "markdown",
      "source": "### Extract Column"
    },
    {
      "metadata": {
        "trusted": true
      },
      "cell_type": "code",
      "source": "# dataframe.ColumnName <--- will not work if column has space\n\ndt_nba.Name[:5]",
      "execution_count": 20,
      "outputs": [
        {
          "output_type": "execute_result",
          "execution_count": 20,
          "data": {
            "text/plain": "0    Avery Bradley\n1      Jae Crowder\n2     John Holland\n3      R.J. Hunter\n4    Jonas Jerebko\nName: Name, dtype: object"
          },
          "metadata": {}
        }
      ]
    },
    {
      "metadata": {
        "trusted": true
      },
      "cell_type": "code",
      "source": "# dataframe[\"ColumnName\"]\n\ndt_nba[\"Name\"][:5]",
      "execution_count": 21,
      "outputs": [
        {
          "output_type": "execute_result",
          "execution_count": 21,
          "data": {
            "text/plain": "0    Avery Bradley\n1      Jae Crowder\n2     John Holland\n3      R.J. Hunter\n4    Jonas Jerebko\nName: Name, dtype: object"
          },
          "metadata": {}
        }
      ]
    },
    {
      "metadata": {},
      "cell_type": "markdown",
      "source": "### Multiple Columns"
    },
    {
      "metadata": {
        "trusted": true
      },
      "cell_type": "code",
      "source": "#the column names must be in Array\ndt_nba[[\"Name\",\"Team\",\"Salary\"]][:5]",
      "execution_count": 22,
      "outputs": [
        {
          "output_type": "execute_result",
          "execution_count": 22,
          "data": {
            "text/html": "<div>\n<style scoped>\n    .dataframe tbody tr th:only-of-type {\n        vertical-align: middle;\n    }\n\n    .dataframe tbody tr th {\n        vertical-align: top;\n    }\n\n    .dataframe thead th {\n        text-align: right;\n    }\n</style>\n<table border=\"1\" class=\"dataframe\">\n  <thead>\n    <tr style=\"text-align: right;\">\n      <th></th>\n      <th>Name</th>\n      <th>Team</th>\n      <th>Salary</th>\n    </tr>\n  </thead>\n  <tbody>\n    <tr>\n      <th>0</th>\n      <td>Avery Bradley</td>\n      <td>Boston Celtics</td>\n      <td>7730337.0000</td>\n    </tr>\n    <tr>\n      <th>1</th>\n      <td>Jae Crowder</td>\n      <td>Boston Celtics</td>\n      <td>6796117.0000</td>\n    </tr>\n    <tr>\n      <th>2</th>\n      <td>John Holland</td>\n      <td>Boston Celtics</td>\n      <td>nan</td>\n    </tr>\n    <tr>\n      <th>3</th>\n      <td>R.J. Hunter</td>\n      <td>Boston Celtics</td>\n      <td>1148640.0000</td>\n    </tr>\n    <tr>\n      <th>4</th>\n      <td>Jonas Jerebko</td>\n      <td>Boston Celtics</td>\n      <td>5000000.0000</td>\n    </tr>\n  </tbody>\n</table>\n</div>",
            "text/plain": "            Name            Team       Salary\n0  Avery Bradley  Boston Celtics 7730337.0000\n1    Jae Crowder  Boston Celtics 6796117.0000\n2   John Holland  Boston Celtics          nan\n3    R.J. Hunter  Boston Celtics 1148640.0000\n4  Jonas Jerebko  Boston Celtics 5000000.0000"
          },
          "metadata": {}
        }
      ]
    },
    {
      "metadata": {
        "trusted": true
      },
      "cell_type": "code",
      "source": "columns_to_select = [\"Name\",\"Team\",\"Salary\"]\ndt_nba[columns_to_select][:5]",
      "execution_count": 23,
      "outputs": [
        {
          "output_type": "execute_result",
          "execution_count": 23,
          "data": {
            "text/html": "<div>\n<style scoped>\n    .dataframe tbody tr th:only-of-type {\n        vertical-align: middle;\n    }\n\n    .dataframe tbody tr th {\n        vertical-align: top;\n    }\n\n    .dataframe thead th {\n        text-align: right;\n    }\n</style>\n<table border=\"1\" class=\"dataframe\">\n  <thead>\n    <tr style=\"text-align: right;\">\n      <th></th>\n      <th>Name</th>\n      <th>Team</th>\n      <th>Salary</th>\n    </tr>\n  </thead>\n  <tbody>\n    <tr>\n      <th>0</th>\n      <td>Avery Bradley</td>\n      <td>Boston Celtics</td>\n      <td>7730337.0000</td>\n    </tr>\n    <tr>\n      <th>1</th>\n      <td>Jae Crowder</td>\n      <td>Boston Celtics</td>\n      <td>6796117.0000</td>\n    </tr>\n    <tr>\n      <th>2</th>\n      <td>John Holland</td>\n      <td>Boston Celtics</td>\n      <td>nan</td>\n    </tr>\n    <tr>\n      <th>3</th>\n      <td>R.J. Hunter</td>\n      <td>Boston Celtics</td>\n      <td>1148640.0000</td>\n    </tr>\n    <tr>\n      <th>4</th>\n      <td>Jonas Jerebko</td>\n      <td>Boston Celtics</td>\n      <td>5000000.0000</td>\n    </tr>\n  </tbody>\n</table>\n</div>",
            "text/plain": "            Name            Team       Salary\n0  Avery Bradley  Boston Celtics 7730337.0000\n1    Jae Crowder  Boston Celtics 6796117.0000\n2   John Holland  Boston Celtics          nan\n3    R.J. Hunter  Boston Celtics 1148640.0000\n4  Jonas Jerebko  Boston Celtics 5000000.0000"
          },
          "metadata": {}
        }
      ]
    },
    {
      "metadata": {},
      "cell_type": "markdown",
      "source": "### Create New Column"
    },
    {
      "metadata": {
        "trusted": true
      },
      "cell_type": "code",
      "source": "\ndt_nba['SalaryCopy']=dt_nba[\"Salary\"]\n\ndt_nba[[\"Name\",\"Team\",\"Salary\",\"SalaryCopy\"]][:5]\n\n",
      "execution_count": 24,
      "outputs": [
        {
          "output_type": "execute_result",
          "execution_count": 24,
          "data": {
            "text/html": "<div>\n<style scoped>\n    .dataframe tbody tr th:only-of-type {\n        vertical-align: middle;\n    }\n\n    .dataframe tbody tr th {\n        vertical-align: top;\n    }\n\n    .dataframe thead th {\n        text-align: right;\n    }\n</style>\n<table border=\"1\" class=\"dataframe\">\n  <thead>\n    <tr style=\"text-align: right;\">\n      <th></th>\n      <th>Name</th>\n      <th>Team</th>\n      <th>Salary</th>\n      <th>SalaryCopy</th>\n    </tr>\n  </thead>\n  <tbody>\n    <tr>\n      <th>0</th>\n      <td>Avery Bradley</td>\n      <td>Boston Celtics</td>\n      <td>7730337.0000</td>\n      <td>7730337.0000</td>\n    </tr>\n    <tr>\n      <th>1</th>\n      <td>Jae Crowder</td>\n      <td>Boston Celtics</td>\n      <td>6796117.0000</td>\n      <td>6796117.0000</td>\n    </tr>\n    <tr>\n      <th>2</th>\n      <td>John Holland</td>\n      <td>Boston Celtics</td>\n      <td>nan</td>\n      <td>nan</td>\n    </tr>\n    <tr>\n      <th>3</th>\n      <td>R.J. Hunter</td>\n      <td>Boston Celtics</td>\n      <td>1148640.0000</td>\n      <td>1148640.0000</td>\n    </tr>\n    <tr>\n      <th>4</th>\n      <td>Jonas Jerebko</td>\n      <td>Boston Celtics</td>\n      <td>5000000.0000</td>\n      <td>5000000.0000</td>\n    </tr>\n  </tbody>\n</table>\n</div>",
            "text/plain": "            Name            Team       Salary   SalaryCopy\n0  Avery Bradley  Boston Celtics 7730337.0000 7730337.0000\n1    Jae Crowder  Boston Celtics 6796117.0000 6796117.0000\n2   John Holland  Boston Celtics          nan          nan\n3    R.J. Hunter  Boston Celtics 1148640.0000 1148640.0000\n4  Jonas Jerebko  Boston Celtics 5000000.0000 5000000.0000"
          },
          "metadata": {}
        }
      ]
    },
    {
      "metadata": {},
      "cell_type": "markdown",
      "source": "### Create New Column with calculation"
    },
    {
      "metadata": {
        "trusted": true
      },
      "cell_type": "code",
      "source": "#Different way to do calculated fields\n\n#1) direct\ndt_nba['SalaryPlus10%A'] = dt_nba[\"Salary\"] + (dt_nba[\"Salary\"] * .1)\n\ndef GetSalaryIncrement(val):\n    return val * 1.1\n\n#2) function usage\ndt_nba['SalaryPlus10%B'] = GetSalaryIncrement(dt_nba[\"Salary\"])\n\n#3) map - function\ndt_nba['SalaryPlus10%C'] = dt_nba[\"Salary\"].map(GetSalaryIncrement)\n\n#4) apply - function\ndt_nba['SalaryPlus10%D'] = dt_nba[\"Salary\"].apply(GetSalaryIncrement)\n\ndt_nba[[\"Name\",\"Team\",\"Salary\",\"SalaryPlus10%A\",\"SalaryPlus10%B\",\"SalaryPlus10%C\",'SalaryPlus10%D']][:5]",
      "execution_count": 25,
      "outputs": [
        {
          "output_type": "execute_result",
          "execution_count": 25,
          "data": {
            "text/html": "<div>\n<style scoped>\n    .dataframe tbody tr th:only-of-type {\n        vertical-align: middle;\n    }\n\n    .dataframe tbody tr th {\n        vertical-align: top;\n    }\n\n    .dataframe thead th {\n        text-align: right;\n    }\n</style>\n<table border=\"1\" class=\"dataframe\">\n  <thead>\n    <tr style=\"text-align: right;\">\n      <th></th>\n      <th>Name</th>\n      <th>Team</th>\n      <th>Salary</th>\n      <th>SalaryPlus10%A</th>\n      <th>SalaryPlus10%B</th>\n      <th>SalaryPlus10%C</th>\n      <th>SalaryPlus10%D</th>\n    </tr>\n  </thead>\n  <tbody>\n    <tr>\n      <th>0</th>\n      <td>Avery Bradley</td>\n      <td>Boston Celtics</td>\n      <td>7730337.0000</td>\n      <td>8503370.7000</td>\n      <td>8503370.7000</td>\n      <td>8503370.7000</td>\n      <td>8503370.7000</td>\n    </tr>\n    <tr>\n      <th>1</th>\n      <td>Jae Crowder</td>\n      <td>Boston Celtics</td>\n      <td>6796117.0000</td>\n      <td>7475728.7000</td>\n      <td>7475728.7000</td>\n      <td>7475728.7000</td>\n      <td>7475728.7000</td>\n    </tr>\n    <tr>\n      <th>2</th>\n      <td>John Holland</td>\n      <td>Boston Celtics</td>\n      <td>nan</td>\n      <td>nan</td>\n      <td>nan</td>\n      <td>nan</td>\n      <td>nan</td>\n    </tr>\n    <tr>\n      <th>3</th>\n      <td>R.J. Hunter</td>\n      <td>Boston Celtics</td>\n      <td>1148640.0000</td>\n      <td>1263504.0000</td>\n      <td>1263504.0000</td>\n      <td>1263504.0000</td>\n      <td>1263504.0000</td>\n    </tr>\n    <tr>\n      <th>4</th>\n      <td>Jonas Jerebko</td>\n      <td>Boston Celtics</td>\n      <td>5000000.0000</td>\n      <td>5500000.0000</td>\n      <td>5500000.0000</td>\n      <td>5500000.0000</td>\n      <td>5500000.0000</td>\n    </tr>\n  </tbody>\n</table>\n</div>",
            "text/plain": "            Name            Team       Salary  SalaryPlus10%A  SalaryPlus10%B  \\\n0  Avery Bradley  Boston Celtics 7730337.0000    8503370.7000    8503370.7000   \n1    Jae Crowder  Boston Celtics 6796117.0000    7475728.7000    7475728.7000   \n2   John Holland  Boston Celtics          nan             nan             nan   \n3    R.J. Hunter  Boston Celtics 1148640.0000    1263504.0000    1263504.0000   \n4  Jonas Jerebko  Boston Celtics 5000000.0000    5500000.0000    5500000.0000   \n\n   SalaryPlus10%C  SalaryPlus10%D  \n0    8503370.7000    8503370.7000  \n1    7475728.7000    7475728.7000  \n2             nan             nan  \n3    1263504.0000    1263504.0000  \n4    5500000.0000    5500000.0000  "
          },
          "metadata": {}
        }
      ]
    },
    {
      "metadata": {},
      "cell_type": "markdown",
      "source": "### Group By"
    },
    {
      "metadata": {
        "trusted": true
      },
      "cell_type": "code",
      "source": "\n#CREATE a GROUP BY SELECT\n#as_index=False is needed to make the return values shown per row \n#         rather than have a parent group by structure\ndt_nba[[\"Team\",\"Age\",\"Salary\"]].groupby(['Team','Age'],as_index=False).mean()[:10]",
      "execution_count": 26,
      "outputs": [
        {
          "output_type": "execute_result",
          "execution_count": 26,
          "data": {
            "text/html": "<div>\n<style scoped>\n    .dataframe tbody tr th:only-of-type {\n        vertical-align: middle;\n    }\n\n    .dataframe tbody tr th {\n        vertical-align: top;\n    }\n\n    .dataframe thead th {\n        text-align: right;\n    }\n</style>\n<table border=\"1\" class=\"dataframe\">\n  <thead>\n    <tr style=\"text-align: right;\">\n      <th></th>\n      <th>Team</th>\n      <th>Age</th>\n      <th>Salary</th>\n    </tr>\n  </thead>\n  <tbody>\n    <tr>\n      <th>0</th>\n      <td>Atlanta Hawks</td>\n      <td>22.0000</td>\n      <td>1763400.0000</td>\n    </tr>\n    <tr>\n      <th>1</th>\n      <td>Atlanta Hawks</td>\n      <td>24.0000</td>\n      <td>944222.2500</td>\n    </tr>\n    <tr>\n      <th>2</th>\n      <td>Atlanta Hawks</td>\n      <td>26.0000</td>\n      <td>2000000.0000</td>\n    </tr>\n    <tr>\n      <th>3</th>\n      <td>Atlanta Hawks</td>\n      <td>27.0000</td>\n      <td>5666666.5000</td>\n    </tr>\n    <tr>\n      <th>4</th>\n      <td>Atlanta Hawks</td>\n      <td>30.0000</td>\n      <td>12000000.0000</td>\n    </tr>\n    <tr>\n      <th>5</th>\n      <td>Atlanta Hawks</td>\n      <td>31.0000</td>\n      <td>9809303.0000</td>\n    </tr>\n    <tr>\n      <th>6</th>\n      <td>Atlanta Hawks</td>\n      <td>32.0000</td>\n      <td>4000000.0000</td>\n    </tr>\n    <tr>\n      <th>7</th>\n      <td>Atlanta Hawks</td>\n      <td>35.0000</td>\n      <td>4300709.5000</td>\n    </tr>\n    <tr>\n      <th>8</th>\n      <td>Boston Celtics</td>\n      <td>20.0000</td>\n      <td>1749840.0000</td>\n    </tr>\n    <tr>\n      <th>9</th>\n      <td>Boston Celtics</td>\n      <td>21.0000</td>\n      <td>1170960.0000</td>\n    </tr>\n  </tbody>\n</table>\n</div>",
            "text/plain": "             Team     Age        Salary\n0   Atlanta Hawks 22.0000  1763400.0000\n1   Atlanta Hawks 24.0000   944222.2500\n2   Atlanta Hawks 26.0000  2000000.0000\n3   Atlanta Hawks 27.0000  5666666.5000\n4   Atlanta Hawks 30.0000 12000000.0000\n5   Atlanta Hawks 31.0000  9809303.0000\n6   Atlanta Hawks 32.0000  4000000.0000\n7   Atlanta Hawks 35.0000  4300709.5000\n8  Boston Celtics 20.0000  1749840.0000\n9  Boston Celtics 21.0000  1170960.0000"
          },
          "metadata": {}
        }
      ]
    },
    {
      "metadata": {
        "trusted": true
      },
      "cell_type": "code",
      "source": "#without the as_index=False >> the Team is treated as parent aggregate\ndt_nba[[\"Team\",\"Age\",\"Salary\"]].groupby(['Team','Age']).mean()[:10]",
      "execution_count": 27,
      "outputs": [
        {
          "output_type": "execute_result",
          "execution_count": 27,
          "data": {
            "text/html": "<div>\n<style scoped>\n    .dataframe tbody tr th:only-of-type {\n        vertical-align: middle;\n    }\n\n    .dataframe tbody tr th {\n        vertical-align: top;\n    }\n\n    .dataframe thead th {\n        text-align: right;\n    }\n</style>\n<table border=\"1\" class=\"dataframe\">\n  <thead>\n    <tr style=\"text-align: right;\">\n      <th></th>\n      <th></th>\n      <th>Salary</th>\n    </tr>\n    <tr>\n      <th>Team</th>\n      <th>Age</th>\n      <th></th>\n    </tr>\n  </thead>\n  <tbody>\n    <tr>\n      <th rowspan=\"8\" valign=\"top\">Atlanta Hawks</th>\n      <th>22.0000</th>\n      <td>1763400.0000</td>\n    </tr>\n    <tr>\n      <th>24.0000</th>\n      <td>944222.2500</td>\n    </tr>\n    <tr>\n      <th>26.0000</th>\n      <td>2000000.0000</td>\n    </tr>\n    <tr>\n      <th>27.0000</th>\n      <td>5666666.5000</td>\n    </tr>\n    <tr>\n      <th>30.0000</th>\n      <td>12000000.0000</td>\n    </tr>\n    <tr>\n      <th>31.0000</th>\n      <td>9809303.0000</td>\n    </tr>\n    <tr>\n      <th>32.0000</th>\n      <td>4000000.0000</td>\n    </tr>\n    <tr>\n      <th>35.0000</th>\n      <td>4300709.5000</td>\n    </tr>\n    <tr>\n      <th rowspan=\"2\" valign=\"top\">Boston Celtics</th>\n      <th>20.0000</th>\n      <td>1749840.0000</td>\n    </tr>\n    <tr>\n      <th>21.0000</th>\n      <td>1170960.0000</td>\n    </tr>\n  </tbody>\n</table>\n</div>",
            "text/plain": "                              Salary\nTeam           Age                  \nAtlanta Hawks  22.0000  1763400.0000\n               24.0000   944222.2500\n               26.0000  2000000.0000\n               27.0000  5666666.5000\n               30.0000 12000000.0000\n               31.0000  9809303.0000\n               32.0000  4000000.0000\n               35.0000  4300709.5000\nBoston Celtics 20.0000  1749840.0000\n               21.0000  1170960.0000"
          },
          "metadata": {}
        }
      ]
    },
    {
      "metadata": {},
      "cell_type": "markdown",
      "source": "### Partition By  (Apply Groupby results to individual rows)"
    },
    {
      "metadata": {
        "trusted": true
      },
      "cell_type": "code",
      "source": "#PARTITION BY = groupby + transform\n\n#code below is equilavent to =AVG(Salary) OVER (PARTITION BY Team)\ndt_nba.groupby('Team')['Salary'].transform('mean')[0:20]",
      "execution_count": 28,
      "outputs": [
        {
          "output_type": "execute_result",
          "execution_count": 28,
          "data": {
            "text/plain": "0    4181504.8571\n1    4181504.8571\n2    4181504.8571\n3    4181504.8571\n4    4181504.8571\n5    4181504.8571\n6    4181504.8571\n7    4181504.8571\n8    4181504.8571\n9    4181504.8571\n10   4181504.8571\n11   4181504.8571\n12   4181504.8571\n13   4181504.8571\n14   4181504.8571\n15   3501898.3333\n16   3501898.3333\n17   3501898.3333\n18   3501898.3333\n19   3501898.3333\nName: Salary, dtype: float64"
          },
          "metadata": {}
        }
      ]
    },
    {
      "metadata": {
        "trusted": true
      },
      "cell_type": "code",
      "source": "#multiple partition by\ndt_nba.groupby(['Team','Age'])['Salary'].transform('mean')[0:20]",
      "execution_count": 29,
      "outputs": [
        {
          "output_type": "execute_result",
          "execution_count": 29,
          "data": {
            "text/plain": "0    5563871.3333\n1    5563871.3333\n2    5169189.5000\n3    2134680.0000\n4    8500000.0000\n5    8500000.0000\n6    1170960.0000\n7    5563871.3333\n8    2134680.0000\n9    2134680.0000\n10   2569260.0000\n11   5169189.5000\n12   5169189.5000\n13   1749840.0000\n14   2616975.0000\n15   7330732.5000\n16    845059.0000\n17   7378758.6667\n18   1237860.0000\n19   6300000.0000\nName: Salary, dtype: float64"
          },
          "metadata": {}
        }
      ]
    },
    {
      "metadata": {
        "trusted": true
      },
      "cell_type": "code",
      "source": "def GetSalaryIncrement(val):\n    return val * 1.1\n\ndt_nba['TeamAvgSalary']         =dt_nba.groupby('Team')['Salary'].transform('mean')\ndt_nba['SalaryPlus10TeamAvgSal']=dt_nba.groupby('Team')['Salary'].transform('mean')*0.1+dt_nba[\"Salary\"]\n\ndt_nba[[\"Name\",\"Team\",\"Salary\",\"TeamAvgSalary\",\"SalaryPlus10TeamAvgSal\"]][:20]\n",
      "execution_count": 30,
      "outputs": [
        {
          "output_type": "execute_result",
          "execution_count": 30,
          "data": {
            "text/html": "<div>\n<style scoped>\n    .dataframe tbody tr th:only-of-type {\n        vertical-align: middle;\n    }\n\n    .dataframe tbody tr th {\n        vertical-align: top;\n    }\n\n    .dataframe thead th {\n        text-align: right;\n    }\n</style>\n<table border=\"1\" class=\"dataframe\">\n  <thead>\n    <tr style=\"text-align: right;\">\n      <th></th>\n      <th>Name</th>\n      <th>Team</th>\n      <th>Salary</th>\n      <th>TeamAvgSalary</th>\n      <th>SalaryPlus10TeamAvgSal</th>\n    </tr>\n  </thead>\n  <tbody>\n    <tr>\n      <th>0</th>\n      <td>Avery Bradley</td>\n      <td>Boston Celtics</td>\n      <td>7730337.0000</td>\n      <td>4181504.8571</td>\n      <td>8148487.4857</td>\n    </tr>\n    <tr>\n      <th>1</th>\n      <td>Jae Crowder</td>\n      <td>Boston Celtics</td>\n      <td>6796117.0000</td>\n      <td>4181504.8571</td>\n      <td>7214267.4857</td>\n    </tr>\n    <tr>\n      <th>2</th>\n      <td>John Holland</td>\n      <td>Boston Celtics</td>\n      <td>nan</td>\n      <td>4181504.8571</td>\n      <td>nan</td>\n    </tr>\n    <tr>\n      <th>3</th>\n      <td>R.J. Hunter</td>\n      <td>Boston Celtics</td>\n      <td>1148640.0000</td>\n      <td>4181504.8571</td>\n      <td>1566790.4857</td>\n    </tr>\n    <tr>\n      <th>4</th>\n      <td>Jonas Jerebko</td>\n      <td>Boston Celtics</td>\n      <td>5000000.0000</td>\n      <td>4181504.8571</td>\n      <td>5418150.4857</td>\n    </tr>\n    <tr>\n      <th>5</th>\n      <td>Amir Johnson</td>\n      <td>Boston Celtics</td>\n      <td>12000000.0000</td>\n      <td>4181504.8571</td>\n      <td>12418150.4857</td>\n    </tr>\n    <tr>\n      <th>6</th>\n      <td>Jordan Mickey</td>\n      <td>Boston Celtics</td>\n      <td>1170960.0000</td>\n      <td>4181504.8571</td>\n      <td>1589110.4857</td>\n    </tr>\n    <tr>\n      <th>7</th>\n      <td>Kelly Olynyk</td>\n      <td>Boston Celtics</td>\n      <td>2165160.0000</td>\n      <td>4181504.8571</td>\n      <td>2583310.4857</td>\n    </tr>\n    <tr>\n      <th>8</th>\n      <td>Terry Rozier</td>\n      <td>Boston Celtics</td>\n      <td>1824360.0000</td>\n      <td>4181504.8571</td>\n      <td>2242510.4857</td>\n    </tr>\n    <tr>\n      <th>9</th>\n      <td>Marcus Smart</td>\n      <td>Boston Celtics</td>\n      <td>3431040.0000</td>\n      <td>4181504.8571</td>\n      <td>3849190.4857</td>\n    </tr>\n    <tr>\n      <th>10</th>\n      <td>Jared Sullinger</td>\n      <td>Boston Celtics</td>\n      <td>2569260.0000</td>\n      <td>4181504.8571</td>\n      <td>2987410.4857</td>\n    </tr>\n    <tr>\n      <th>11</th>\n      <td>Isaiah Thomas</td>\n      <td>Boston Celtics</td>\n      <td>6912869.0000</td>\n      <td>4181504.8571</td>\n      <td>7331019.4857</td>\n    </tr>\n    <tr>\n      <th>12</th>\n      <td>Evan Turner</td>\n      <td>Boston Celtics</td>\n      <td>3425510.0000</td>\n      <td>4181504.8571</td>\n      <td>3843660.4857</td>\n    </tr>\n    <tr>\n      <th>13</th>\n      <td>James Young</td>\n      <td>Boston Celtics</td>\n      <td>1749840.0000</td>\n      <td>4181504.8571</td>\n      <td>2167990.4857</td>\n    </tr>\n    <tr>\n      <th>14</th>\n      <td>Tyler Zeller</td>\n      <td>Boston Celtics</td>\n      <td>2616975.0000</td>\n      <td>4181504.8571</td>\n      <td>3035125.4857</td>\n    </tr>\n    <tr>\n      <th>15</th>\n      <td>Bojan Bogdanovic</td>\n      <td>Brooklyn Nets</td>\n      <td>3425510.0000</td>\n      <td>3501898.3333</td>\n      <td>3775699.8333</td>\n    </tr>\n    <tr>\n      <th>16</th>\n      <td>Markel Brown</td>\n      <td>Brooklyn Nets</td>\n      <td>845059.0000</td>\n      <td>3501898.3333</td>\n      <td>1195248.8333</td>\n    </tr>\n    <tr>\n      <th>17</th>\n      <td>Wayne Ellington</td>\n      <td>Brooklyn Nets</td>\n      <td>1500000.0000</td>\n      <td>3501898.3333</td>\n      <td>1850189.8333</td>\n    </tr>\n    <tr>\n      <th>18</th>\n      <td>Rondae Hollis-Jefferson</td>\n      <td>Brooklyn Nets</td>\n      <td>1335480.0000</td>\n      <td>3501898.3333</td>\n      <td>1685669.8333</td>\n    </tr>\n    <tr>\n      <th>19</th>\n      <td>Jarrett Jack</td>\n      <td>Brooklyn Nets</td>\n      <td>6300000.0000</td>\n      <td>3501898.3333</td>\n      <td>6650189.8333</td>\n    </tr>\n  </tbody>\n</table>\n</div>",
            "text/plain": "                       Name            Team        Salary  TeamAvgSalary  \\\n0             Avery Bradley  Boston Celtics  7730337.0000   4181504.8571   \n1               Jae Crowder  Boston Celtics  6796117.0000   4181504.8571   \n2              John Holland  Boston Celtics           nan   4181504.8571   \n3               R.J. Hunter  Boston Celtics  1148640.0000   4181504.8571   \n4             Jonas Jerebko  Boston Celtics  5000000.0000   4181504.8571   \n5              Amir Johnson  Boston Celtics 12000000.0000   4181504.8571   \n6             Jordan Mickey  Boston Celtics  1170960.0000   4181504.8571   \n7              Kelly Olynyk  Boston Celtics  2165160.0000   4181504.8571   \n8              Terry Rozier  Boston Celtics  1824360.0000   4181504.8571   \n9              Marcus Smart  Boston Celtics  3431040.0000   4181504.8571   \n10          Jared Sullinger  Boston Celtics  2569260.0000   4181504.8571   \n11            Isaiah Thomas  Boston Celtics  6912869.0000   4181504.8571   \n12              Evan Turner  Boston Celtics  3425510.0000   4181504.8571   \n13              James Young  Boston Celtics  1749840.0000   4181504.8571   \n14             Tyler Zeller  Boston Celtics  2616975.0000   4181504.8571   \n15         Bojan Bogdanovic   Brooklyn Nets  3425510.0000   3501898.3333   \n16             Markel Brown   Brooklyn Nets   845059.0000   3501898.3333   \n17          Wayne Ellington   Brooklyn Nets  1500000.0000   3501898.3333   \n18  Rondae Hollis-Jefferson   Brooklyn Nets  1335480.0000   3501898.3333   \n19             Jarrett Jack   Brooklyn Nets  6300000.0000   3501898.3333   \n\n    SalaryPlus10TeamAvgSal  \n0             8148487.4857  \n1             7214267.4857  \n2                      nan  \n3             1566790.4857  \n4             5418150.4857  \n5            12418150.4857  \n6             1589110.4857  \n7             2583310.4857  \n8             2242510.4857  \n9             3849190.4857  \n10            2987410.4857  \n11            7331019.4857  \n12            3843660.4857  \n13            2167990.4857  \n14            3035125.4857  \n15            3775699.8333  \n16            1195248.8333  \n17            1850189.8333  \n18            1685669.8333  \n19            6650189.8333  "
          },
          "metadata": {}
        }
      ]
    },
    {
      "metadata": {
        "trusted": true
      },
      "cell_type": "code",
      "source": "",
      "execution_count": null,
      "outputs": []
    },
    {
      "metadata": {},
      "cell_type": "markdown",
      "source": "### Check Number of Values - value_counts()"
    },
    {
      "metadata": {
        "trusted": true
      },
      "cell_type": "code",
      "source": "dt_nba[\"Position\"].value_counts()",
      "execution_count": 31,
      "outputs": [
        {
          "output_type": "execute_result",
          "execution_count": 31,
          "data": {
            "text/plain": "SG    102\nPF    100\nPG     92\nSF     85\nC      78\nName: Position, dtype: int64"
          },
          "metadata": {}
        }
      ]
    },
    {
      "metadata": {
        "trusted": true
      },
      "cell_type": "code",
      "source": "dt_nba[\"Team\"].value_counts().head(10)",
      "execution_count": 32,
      "outputs": [
        {
          "output_type": "execute_result",
          "execution_count": 32,
          "data": {
            "text/plain": "New Orleans Pelicans     19\nMemphis Grizzlies        18\nMilwaukee Bucks          16\nNew York Knicks          16\nBoston Celtics           15\nPhiladelphia 76ers       15\nDenver Nuggets           15\nGolden State Warriors    15\nLos Angeles Clippers     15\nPhoenix Suns             15\nName: Team, dtype: int64"
          },
          "metadata": {}
        }
      ]
    },
    {
      "metadata": {
        "trusted": true
      },
      "cell_type": "code",
      "source": "",
      "execution_count": null,
      "outputs": []
    }
  ],
  "metadata": {
    "kernelspec": {
      "name": "python36",
      "display_name": "Python 3.6",
      "language": "python"
    },
    "language_info": {
      "mimetype": "text/x-python",
      "nbconvert_exporter": "python",
      "name": "python",
      "pygments_lexer": "ipython3",
      "version": "3.6.6",
      "file_extension": ".py",
      "codemirror_mode": {
        "version": 3,
        "name": "ipython"
      }
    }
  },
  "nbformat": 4,
  "nbformat_minor": 2
}