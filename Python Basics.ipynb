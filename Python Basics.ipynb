{
  "cells": [
    {
      "metadata": {},
      "cell_type": "markdown",
      "source": "# Python Basics\n\n\n## 1) Types"
    },
    {
      "metadata": {
        "trusted": true
      },
      "cell_type": "code",
      "source": "# comments\n\n1+1",
      "execution_count": 1,
      "outputs": [
        {
          "output_type": "execute_result",
          "execution_count": 1,
          "data": {
            "text/plain": "2"
          },
          "metadata": {}
        }
      ]
    },
    {
      "metadata": {
        "trusted": true
      },
      "cell_type": "code",
      "source": "#string type\ntype(\"hello\")",
      "execution_count": 2,
      "outputs": [
        {
          "output_type": "execute_result",
          "execution_count": 2,
          "data": {
            "text/plain": "str"
          },
          "metadata": {}
        }
      ]
    },
    {
      "metadata": {
        "trusted": true
      },
      "cell_type": "code",
      "source": "#boolean type\ntype(True)",
      "execution_count": 3,
      "outputs": [
        {
          "output_type": "execute_result",
          "execution_count": 3,
          "data": {
            "text/plain": "bool"
          },
          "metadata": {}
        }
      ]
    },
    {
      "metadata": {
        "trusted": true
      },
      "cell_type": "code",
      "source": "#type of type output\ntype(type(True))",
      "execution_count": 4,
      "outputs": [
        {
          "output_type": "execute_result",
          "execution_count": 4,
          "data": {
            "text/plain": "type"
          },
          "metadata": {}
        }
      ]
    },
    {
      "metadata": {
        "trusted": true
      },
      "cell_type": "code",
      "source": "first_name = \"Earl\"\nlast_name = \"P\"\nfull_name = first_name +' '+ last_name\n\nfull_name",
      "execution_count": 5,
      "outputs": [
        {
          "output_type": "execute_result",
          "execution_count": 5,
          "data": {
            "text/plain": "'Earl P'"
          },
          "metadata": {}
        }
      ]
    },
    {
      "metadata": {
        "trusted": true
      },
      "cell_type": "code",
      "source": "from datetime import datetime\n\ndatetime_object = datetime.strptime('Mar 1 2019  6:33PM', '%b %d %Y %I:%M%p')\n\ndatetime_object",
      "execution_count": 6,
      "outputs": [
        {
          "output_type": "execute_result",
          "execution_count": 6,
          "data": {
            "text/plain": "datetime.datetime(2019, 3, 1, 18, 33)"
          },
          "metadata": {}
        }
      ]
    },
    {
      "metadata": {
        "trusted": true
      },
      "cell_type": "code",
      "source": "1 == int(\"1\")  #covert string to int using int()",
      "execution_count": 7,
      "outputs": [
        {
          "output_type": "execute_result",
          "execution_count": 7,
          "data": {
            "text/plain": "True"
          },
          "metadata": {}
        }
      ]
    },
    {
      "metadata": {},
      "cell_type": "markdown",
      "source": "## 2) List / Dictionary"
    },
    {
      "metadata": {
        "trusted": true
      },
      "cell_type": "code",
      "source": "# List  /  Array\n\n[1,2,4]",
      "execution_count": 8,
      "outputs": [
        {
          "output_type": "execute_result",
          "execution_count": 8,
          "data": {
            "text/plain": "[1, 2, 4]"
          },
          "metadata": {}
        }
      ]
    },
    {
      "metadata": {
        "trusted": true
      },
      "cell_type": "code",
      "source": "arr_data = [100,200,\"300\"]\narr_data",
      "execution_count": 9,
      "outputs": [
        {
          "output_type": "execute_result",
          "execution_count": 9,
          "data": {
            "text/plain": "[100, 200, '300']"
          },
          "metadata": {}
        }
      ]
    },
    {
      "metadata": {
        "trusted": true
      },
      "cell_type": "code",
      "source": "type(arr_data)",
      "execution_count": 10,
      "outputs": [
        {
          "output_type": "execute_result",
          "execution_count": 10,
          "data": {
            "text/plain": "list"
          },
          "metadata": {}
        }
      ]
    },
    {
      "metadata": {
        "trusted": true
      },
      "cell_type": "code",
      "source": "arr_data[2]",
      "execution_count": 11,
      "outputs": [
        {
          "output_type": "execute_result",
          "execution_count": 11,
          "data": {
            "text/plain": "'300'"
          },
          "metadata": {}
        }
      ]
    },
    {
      "metadata": {
        "trusted": true
      },
      "cell_type": "code",
      "source": "#Dictionaty / List\n\nmenu =  {\"Filet Mognon\" : 30.00  ,\n         \"Big Mac\" : 10.50,\n         \"Cupcake\":3.52\n        }\n\nmenu",
      "execution_count": 12,
      "outputs": [
        {
          "output_type": "execute_result",
          "execution_count": 12,
          "data": {
            "text/plain": "{'Filet Mognon': 30.0, 'Big Mac': 10.5, 'Cupcake': 3.52}"
          },
          "metadata": {}
        }
      ]
    },
    {
      "metadata": {
        "trusted": true
      },
      "cell_type": "code",
      "source": "menu[\"Big Mac\"]",
      "execution_count": 13,
      "outputs": [
        {
          "output_type": "execute_result",
          "execution_count": 13,
          "data": {
            "text/plain": "10.5"
          },
          "metadata": {}
        }
      ]
    },
    {
      "metadata": {},
      "cell_type": "markdown",
      "source": "## 3) Functions"
    },
    {
      "metadata": {
        "trusted": true
      },
      "cell_type": "code",
      "source": "def convert_to_Fahrenheit(celsius):\n    fah =( celsius  * 1.8 ) + 32\n    return fah\n\n\nconvert_to_Fahrenheit(21)",
      "execution_count": 14,
      "outputs": [
        {
          "output_type": "execute_result",
          "execution_count": 14,
          "data": {
            "text/plain": "69.80000000000001"
          },
          "metadata": {}
        }
      ]
    },
    {
      "metadata": {
        "trusted": true
      },
      "cell_type": "code",
      "source": "convert_to_Fahrenheit(28)",
      "execution_count": 15,
      "outputs": [
        {
          "output_type": "execute_result",
          "execution_count": 15,
          "data": {
            "text/plain": "82.4"
          },
          "metadata": {}
        }
      ]
    },
    {
      "metadata": {},
      "cell_type": "markdown",
      "source": "# 4) Pandas - Series"
    },
    {
      "metadata": {
        "trusted": true
      },
      "cell_type": "code",
      "source": "import pandas as pd\n\nice_cream = [\"chocolate\",\"vanilla\",\"rum\",\"mango\",\"strawberry\"]\n\n#pandas series\npd.Series(ice_cream)",
      "execution_count": 16,
      "outputs": [
        {
          "output_type": "execute_result",
          "execution_count": 16,
          "data": {
            "text/plain": "0     chocolate\n1       vanilla\n2           rum\n3         mango\n4    strawberry\ndtype: object"
          },
          "metadata": {}
        }
      ]
    },
    {
      "metadata": {
        "trusted": true
      },
      "cell_type": "code",
      "source": "lottery = [1,42,45,56,12,90]\n\nlottery_series = pd.Series(lottery)\nlottery_series",
      "execution_count": 17,
      "outputs": [
        {
          "output_type": "execute_result",
          "execution_count": 17,
          "data": {
            "text/plain": "0     1\n1    42\n2    45\n3    56\n4    12\n5    90\ndtype: int64"
          },
          "metadata": {}
        }
      ]
    },
    {
      "metadata": {
        "trusted": true
      },
      "cell_type": "code",
      "source": "lottery_series[2:4]",
      "execution_count": 18,
      "outputs": [
        {
          "output_type": "execute_result",
          "execution_count": 18,
          "data": {
            "text/plain": "2    45\n3    56\ndtype: int64"
          },
          "metadata": {}
        }
      ]
    },
    {
      "metadata": {},
      "cell_type": "markdown",
      "source": "## 5) Pandas - Series from Dictionary"
    },
    {
      "metadata": {
        "trusted": true
      },
      "cell_type": "code",
      "source": "menu ",
      "execution_count": 19,
      "outputs": [
        {
          "output_type": "execute_result",
          "execution_count": 19,
          "data": {
            "text/plain": "{'Filet Mognon': 30.0, 'Big Mac': 10.5, 'Cupcake': 3.52}"
          },
          "metadata": {}
        }
      ]
    },
    {
      "metadata": {
        "trusted": true
      },
      "cell_type": "code",
      "source": "#type of series is the data within the series.  The first column is the key\n\nmenu_series = pd.Series(menu)\nmenu_series",
      "execution_count": 20,
      "outputs": [
        {
          "output_type": "execute_result",
          "execution_count": 20,
          "data": {
            "text/plain": "Big Mac         10.50\nCupcake          3.52\nFilet Mognon    30.00\ndtype: float64"
          },
          "metadata": {}
        }
      ]
    },
    {
      "metadata": {
        "trusted": true
      },
      "cell_type": "code",
      "source": "menu_series.values",
      "execution_count": 21,
      "outputs": [
        {
          "output_type": "execute_result",
          "execution_count": 21,
          "data": {
            "text/plain": "array([10.5 ,  3.52, 30.  ])"
          },
          "metadata": {}
        }
      ]
    },
    {
      "metadata": {
        "trusted": true
      },
      "cell_type": "code",
      "source": "menu_series.index",
      "execution_count": 22,
      "outputs": [
        {
          "output_type": "execute_result",
          "execution_count": 22,
          "data": {
            "text/plain": "Index(['Big Mac', 'Cupcake', 'Filet Mognon'], dtype='object')"
          },
          "metadata": {}
        }
      ]
    },
    {
      "metadata": {
        "trusted": true
      },
      "cell_type": "code",
      "source": "menu_series.index[2]",
      "execution_count": 23,
      "outputs": [
        {
          "output_type": "execute_result",
          "execution_count": 23,
          "data": {
            "text/plain": "'Filet Mognon'"
          },
          "metadata": {}
        }
      ]
    },
    {
      "metadata": {
        "trusted": true
      },
      "cell_type": "code",
      "source": "type(menu_series.index[2])",
      "execution_count": 24,
      "outputs": [
        {
          "output_type": "execute_result",
          "execution_count": 24,
          "data": {
            "text/plain": "str"
          },
          "metadata": {}
        }
      ]
    },
    {
      "metadata": {
        "trusted": true
      },
      "cell_type": "code",
      "source": "menu_series.values.sum()",
      "execution_count": 25,
      "outputs": [
        {
          "output_type": "execute_result",
          "execution_count": 25,
          "data": {
            "text/plain": "44.019999999999996"
          },
          "metadata": {}
        }
      ]
    },
    {
      "metadata": {
        "trusted": true
      },
      "cell_type": "code",
      "source": "menu_series.values.mean()",
      "execution_count": 26,
      "outputs": [
        {
          "output_type": "execute_result",
          "execution_count": 26,
          "data": {
            "text/plain": "14.673333333333332"
          },
          "metadata": {}
        }
      ]
    },
    {
      "metadata": {
        "trusted": true
      },
      "cell_type": "code",
      "source": "menu_series.values.mean()",
      "execution_count": 27,
      "outputs": [
        {
          "output_type": "execute_result",
          "execution_count": 27,
          "data": {
            "text/plain": "14.673333333333332"
          },
          "metadata": {}
        }
      ]
    },
    {
      "metadata": {
        "trusted": true
      },
      "cell_type": "code",
      "source": "labels = [\"Apple\",\"Google\",\"Microsoft\",\"Acer\"]\nprice = [323,100.4,203,7.9]\n\npd.Series(data=price,index=labels)\n",
      "execution_count": 28,
      "outputs": [
        {
          "output_type": "execute_result",
          "execution_count": 28,
          "data": {
            "text/plain": "Apple        323.0\nGoogle       100.4\nMicrosoft    203.0\nAcer           7.9\ndtype: float64"
          },
          "metadata": {}
        }
      ]
    },
    {
      "metadata": {},
      "cell_type": "markdown",
      "source": "# 6) Read Data"
    },
    {
      "metadata": {
        "trusted": true
      },
      "cell_type": "code",
      "source": "\n\ndf_nba = pd.read_csv(\"data//nba.csv\", usecols=[\"Name\",\"Age\",\"Weight\"])\n\ndf_nba[:10]",
      "execution_count": 29,
      "outputs": [
        {
          "output_type": "execute_result",
          "execution_count": 29,
          "data": {
            "text/html": "<div>\n<style scoped>\n    .dataframe tbody tr th:only-of-type {\n        vertical-align: middle;\n    }\n\n    .dataframe tbody tr th {\n        vertical-align: top;\n    }\n\n    .dataframe thead th {\n        text-align: right;\n    }\n</style>\n<table border=\"1\" class=\"dataframe\">\n  <thead>\n    <tr style=\"text-align: right;\">\n      <th></th>\n      <th>Name</th>\n      <th>Age</th>\n      <th>Weight</th>\n    </tr>\n  </thead>\n  <tbody>\n    <tr>\n      <th>0</th>\n      <td>Avery Bradley</td>\n      <td>25.0</td>\n      <td>180.0</td>\n    </tr>\n    <tr>\n      <th>1</th>\n      <td>Jae Crowder</td>\n      <td>25.0</td>\n      <td>235.0</td>\n    </tr>\n    <tr>\n      <th>2</th>\n      <td>John Holland</td>\n      <td>27.0</td>\n      <td>205.0</td>\n    </tr>\n    <tr>\n      <th>3</th>\n      <td>R.J. Hunter</td>\n      <td>22.0</td>\n      <td>185.0</td>\n    </tr>\n    <tr>\n      <th>4</th>\n      <td>Jonas Jerebko</td>\n      <td>29.0</td>\n      <td>231.0</td>\n    </tr>\n    <tr>\n      <th>5</th>\n      <td>Amir Johnson</td>\n      <td>29.0</td>\n      <td>240.0</td>\n    </tr>\n    <tr>\n      <th>6</th>\n      <td>Jordan Mickey</td>\n      <td>21.0</td>\n      <td>235.0</td>\n    </tr>\n    <tr>\n      <th>7</th>\n      <td>Kelly Olynyk</td>\n      <td>25.0</td>\n      <td>238.0</td>\n    </tr>\n    <tr>\n      <th>8</th>\n      <td>Terry Rozier</td>\n      <td>22.0</td>\n      <td>190.0</td>\n    </tr>\n    <tr>\n      <th>9</th>\n      <td>Marcus Smart</td>\n      <td>22.0</td>\n      <td>220.0</td>\n    </tr>\n  </tbody>\n</table>\n</div>",
            "text/plain": "            Name   Age  Weight\n0  Avery Bradley  25.0   180.0\n1    Jae Crowder  25.0   235.0\n2   John Holland  27.0   205.0\n3    R.J. Hunter  22.0   185.0\n4  Jonas Jerebko  29.0   231.0\n5   Amir Johnson  29.0   240.0\n6  Jordan Mickey  21.0   235.0\n7   Kelly Olynyk  25.0   238.0\n8   Terry Rozier  22.0   190.0\n9   Marcus Smart  22.0   220.0"
          },
          "metadata": {}
        }
      ]
    },
    {
      "metadata": {
        "trusted": true
      },
      "cell_type": "code",
      "source": "\n#squeeze=True makes the data convert into a series (given one columns)\ndf_google = pd.read_csv(\"data//google_stock_price.csv\",squeeze=True)\n\ndf_google[:10]",
      "execution_count": 30,
      "outputs": [
        {
          "output_type": "execute_result",
          "execution_count": 30,
          "data": {
            "text/plain": "0    50.12\n1    54.10\n2    54.65\n3    52.38\n4    52.95\n5    53.90\n6    53.02\n7    50.95\n8    51.13\n9    50.07\nName: Stock Price, dtype: float64"
          },
          "metadata": {}
        }
      ]
    },
    {
      "metadata": {
        "trusted": true
      },
      "cell_type": "code",
      "source": "type(df_google)",
      "execution_count": 31,
      "outputs": [
        {
          "output_type": "execute_result",
          "execution_count": 31,
          "data": {
            "text/plain": "pandas.core.series.Series"
          },
          "metadata": {}
        }
      ]
    },
    {
      "metadata": {
        "trusted": true
      },
      "cell_type": "code",
      "source": "df_google.head(10)",
      "execution_count": 32,
      "outputs": [
        {
          "output_type": "execute_result",
          "execution_count": 32,
          "data": {
            "text/plain": "0    50.12\n1    54.10\n2    54.65\n3    52.38\n4    52.95\n5    53.90\n6    53.02\n7    50.95\n8    51.13\n9    50.07\nName: Stock Price, dtype: float64"
          },
          "metadata": {}
        }
      ]
    },
    {
      "metadata": {
        "trusted": true
      },
      "cell_type": "code",
      "source": "#sorting : uses pre-existing python functions  (max,min,sorted)\nsorted_google_data = sorted(df_google)\n\n{ \"No Of Data\":len(df_google)\n ,\"Max\":max(df_google)\n ,\"Min\":min(df_google)\n ,\"Sorted Data\":sorted_google_data[:10]\n ,\"Sorted Data(sort_values)\":df_google.sort_values(ascending=False).head(10)}\n",
      "execution_count": 33,
      "outputs": [
        {
          "output_type": "execute_result",
          "execution_count": 33,
          "data": {
            "text/plain": "{'No Of Data': 3012,\n 'Max': 782.22,\n 'Min': 49.95,\n 'Sorted Data': [49.95,\n  50.07,\n  50.12,\n  50.7,\n  50.74,\n  50.95,\n  51.1,\n  51.1,\n  51.13,\n  52.38],\n 'Sorted Data(sort_values)': 3011    782.22\n 2859    776.60\n 3009    773.18\n 3007    772.88\n 3010    771.61\n 3008    771.07\n 2860    771.00\n 3006    768.79\n 2840    767.04\n 2843    766.81\n Name: Stock Price, dtype: float64}"
          },
          "metadata": {}
        }
      ]
    },
    {
      "metadata": {},
      "cell_type": "markdown",
      "source": "# 7) Collection"
    },
    {
      "metadata": {
        "trusted": true
      },
      "cell_type": "code",
      "source": "#INDEX LIST in a Series\n\n2843 in df_google.index  # .index shows all indexes",
      "execution_count": 39,
      "outputs": [
        {
          "output_type": "execute_result",
          "execution_count": 39,
          "data": {
            "text/plain": "True"
          },
          "metadata": {}
        }
      ]
    },
    {
      "metadata": {
        "trusted": true
      },
      "cell_type": "code",
      "source": "#VALUES LIST in a Series\n\n771.0 in df_google.values  # .values shows values within the series",
      "execution_count": 40,
      "outputs": [
        {
          "output_type": "execute_result",
          "execution_count": 40,
          "data": {
            "text/plain": "True"
          },
          "metadata": {}
        }
      ]
    },
    {
      "metadata": {
        "trusted": true
      },
      "cell_type": "code",
      "source": "#get list of data with precise index positions\ndf_google[[1,5,10]]",
      "execution_count": 42,
      "outputs": [
        {
          "output_type": "execute_result",
          "execution_count": 42,
          "data": {
            "text/plain": "1     54.1\n5     53.9\n10    50.7\nName: Stock Price, dtype: float64"
          },
          "metadata": {}
        }
      ]
    },
    {
      "metadata": {
        "trusted": true
      },
      "cell_type": "code",
      "source": "#get list of data within range\n[df_google[50:55+1], df_google[55:60+1]]",
      "execution_count": 49,
      "outputs": [
        {
          "output_type": "execute_result",
          "execution_count": 49,
          "data": {
            "text/plain": "[50    95.22\n 51    97.92\n 52    97.34\n 53    95.74\n 54    92.26\n 55    84.59\n Name: Stock Price, dtype: float64, 55    84.59\n 56    86.19\n 57    84.27\n 58    83.85\n 59    91.42\n 60    90.91\n Name: Stock Price, dtype: float64]"
          },
          "metadata": {}
        }
      ]
    },
    {
      "metadata": {
        "trusted": true
      },
      "cell_type": "code",
      "source": "#get list of data within range (begin not indicated)\ndf_google[:5]",
      "execution_count": 44,
      "outputs": [
        {
          "output_type": "execute_result",
          "execution_count": 44,
          "data": {
            "text/plain": "0    50.12\n1    54.10\n2    54.65\n3    52.38\n4    52.95\nName: Stock Price, dtype: float64"
          },
          "metadata": {}
        }
      ]
    },
    {
      "metadata": {
        "trusted": true
      },
      "cell_type": "code",
      "source": "df_google.values",
      "execution_count": 37,
      "outputs": [
        {
          "output_type": "execute_result",
          "execution_count": 37,
          "data": {
            "text/plain": "array([ 50.12,  54.1 ,  54.65, ..., 773.18, 771.61, 782.22])"
          },
          "metadata": {}
        }
      ]
    },
    {
      "metadata": {
        "trusted": true
      },
      "cell_type": "code",
      "source": "#squeeze will make a value pair\n#index_col - declare the index of the dictionary\ndf_pokemon = pd.read_csv(\"data//pokemon.csv\",index_col=\"Pokemon\",squeeze=True)\ndf_pokemon.sort_index(inplace=True)\ndf_pokemon.head(8)",
      "execution_count": 115,
      "outputs": [
        {
          "output_type": "execute_result",
          "execution_count": 115,
          "data": {
            "text/plain": "Pokemon\nAbomasnow       Grass\nAbra          Psychic\nAbsol            Dark\nAccelgor          Bug\nAegislash       Steel\nAerodactyl       Rock\nAggron          Steel\nAipom          Normal\nName: Type, dtype: object"
          },
          "metadata": {}
        }
      ]
    },
    {
      "metadata": {
        "trusted": true
      },
      "cell_type": "code",
      "source": "df_pokemon[\"Charmander\":\"Cherubi\"],df_pokemon[[\"Ivysaur\",\"Charizard\"]]",
      "execution_count": 120,
      "outputs": [
        {
          "output_type": "execute_result",
          "execution_count": 120,
          "data": {
            "text/plain": "(Pokemon\n Charmander      Fire\n Charmeleon      Fire\n Chatot        Normal\n Cherrim        Grass\n Cherubi        Grass\n Name: Type, dtype: object, Pokemon\n Ivysaur      Grass\n Charizard     Fire\n Name: Type, dtype: object)"
          },
          "metadata": {}
        }
      ]
    },
    {
      "metadata": {
        "trusted": true
      },
      "cell_type": "code",
      "source": "df_pokemon.get(key=[\"Charizard\",\"Digimon\"])  # get returns NAN if not exists",
      "execution_count": 121,
      "outputs": [
        {
          "output_type": "execute_result",
          "execution_count": 121,
          "data": {
            "text/plain": "Pokemon\nCharizard    Fire\nDigimon       NaN\nName: Type, dtype: object"
          },
          "metadata": {}
        }
      ]
    },
    {
      "metadata": {
        "trusted": true
      },
      "cell_type": "code",
      "source": "df_pokemon.count() #excluses NAN  vs   len(df_pokemon)",
      "execution_count": 122,
      "outputs": [
        {
          "output_type": "execute_result",
          "execution_count": 122,
          "data": {
            "text/plain": "721"
          },
          "metadata": {}
        }
      ]
    },
    {
      "metadata": {
        "trusted": true
      },
      "cell_type": "code",
      "source": "df_google.std() #standard deviation",
      "execution_count": 124,
      "outputs": [
        {
          "output_type": "execute_result",
          "execution_count": 124,
          "data": {
            "text/plain": "173.18720477113106"
          },
          "metadata": {}
        }
      ]
    },
    {
      "metadata": {
        "trusted": true
      },
      "cell_type": "code",
      "source": "{\n\"Median\" : df_google.median()\n,\"Mean\" : df_google.mean()\n,\"Max\" : df_google.max()\n,\"Min\" : df_google.min()   \n,\"Index Max\" : df_google.idxmax() #index that holds highest value\n,\"Index Min\" : df_google.idxmin() #index that holds lowest value\n}\n    ",
      "execution_count": 140,
      "outputs": [
        {
          "output_type": "execute_result",
          "execution_count": 140,
          "data": {
            "text/plain": "{'Median': 283.315,\n 'Mean': 334.31009296148744,\n 'Max': 782.22,\n 'Min': 49.95,\n 'Index Max': 3011,\n 'Index Min': 11}"
          },
          "metadata": {}
        }
      ]
    },
    {
      "metadata": {
        "trusted": true
      },
      "cell_type": "code",
      "source": "#group by count\ndf_pokemon.value_counts(ascending=True)",
      "execution_count": 143,
      "outputs": [
        {
          "output_type": "execute_result",
          "execution_count": 143,
          "data": {
            "text/plain": "Flying        3\nFairy        17\nSteel        22\nGhost        23\nIce          23\nDragon       24\nFighting     25\nPoison       28\nDark         28\nGround       30\nElectric     36\nRock         41\nFire         47\nPsychic      47\nBug          63\nGrass        66\nNormal       93\nWater       105\nName: Type, dtype: int64"
          },
          "metadata": {}
        }
      ]
    },
    {
      "metadata": {
        "trusted": true
      },
      "cell_type": "code",
      "source": "#normalize with breakdown by percentage (SUM=100%)\ndf_pokemon.value_counts(normalize=True).sum(),df_pokemon.value_counts(normalize=True)",
      "execution_count": 148,
      "outputs": [
        {
          "output_type": "execute_result",
          "execution_count": 148,
          "data": {
            "text/plain": "(0.9999999999999999, Water       0.145631\n Normal      0.128988\n Grass       0.091540\n Bug         0.087379\n Psychic     0.065187\n Fire        0.065187\n Rock        0.056865\n Electric    0.049931\n Ground      0.041609\n Dark        0.038835\n Poison      0.038835\n Fighting    0.034674\n Dragon      0.033287\n Ice         0.031900\n Ghost       0.031900\n Steel       0.030513\n Fairy       0.023578\n Flying      0.004161\n Name: Type, dtype: float64)"
          },
          "metadata": {}
        }
      ]
    },
    {
      "metadata": {
        "trusted": true
      },
      "cell_type": "code",
      "source": " #mode is a series\ntype(df_google.mode()),df_google.mode()",
      "execution_count": 137,
      "outputs": [
        {
          "output_type": "execute_result",
          "execution_count": 137,
          "data": {
            "text/plain": "(pandas.core.series.Series, 0    291.21\n dtype: float64)"
          },
          "metadata": {}
        }
      ]
    }
  ],
  "metadata": {
    "kernelspec": {
      "name": "python36",
      "display_name": "Python 3.6",
      "language": "python"
    },
    "language_info": {
      "mimetype": "text/x-python",
      "nbconvert_exporter": "python",
      "name": "python",
      "pygments_lexer": "ipython3",
      "version": "3.6.6",
      "file_extension": ".py",
      "codemirror_mode": {
        "version": 3,
        "name": "ipython"
      }
    }
  },
  "nbformat": 4,
  "nbformat_minor": 1
}