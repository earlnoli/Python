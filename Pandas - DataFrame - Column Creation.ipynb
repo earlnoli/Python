{
  "cells": [
    {
      "metadata": {
        "collapsed": true
      },
      "cell_type": "markdown",
      "source": "# Python - Pandas - Data Frame - Select"
    },
    {
      "metadata": {
        "trusted": true
      },
      "cell_type": "code",
      "source": "import pandas as pd    #python data analysis\nimport numpy as np     #numeric python\nimport matplotlib.pyplot as plt\n%matplotlib inline\n\n#format settings\npd.options.display.float_format = '{:.4f}'.format\n\n#read from CSV\nstr_path_data = \"..//..//data//\"\ndt_nba = pd.read_csv(str_path_data + \"nba.csv\")\ndt_nba = dt_nba.dropna(how=\"all\") #remove all row where all data is null\ndt_nba.head(10)",
      "execution_count": 1,
      "outputs": [
        {
          "output_type": "execute_result",
          "execution_count": 1,
          "data": {
            "text/html": "<div>\n<style scoped>\n    .dataframe tbody tr th:only-of-type {\n        vertical-align: middle;\n    }\n\n    .dataframe tbody tr th {\n        vertical-align: top;\n    }\n\n    .dataframe thead th {\n        text-align: right;\n    }\n</style>\n<table border=\"1\" class=\"dataframe\">\n  <thead>\n    <tr style=\"text-align: right;\">\n      <th></th>\n      <th>Name</th>\n      <th>Team</th>\n      <th>Number</th>\n      <th>Position</th>\n      <th>Age</th>\n      <th>Height</th>\n      <th>Weight</th>\n      <th>College</th>\n      <th>Salary</th>\n    </tr>\n  </thead>\n  <tbody>\n    <tr>\n      <th>0</th>\n      <td>Avery Bradley</td>\n      <td>Boston Celtics</td>\n      <td>0.0000</td>\n      <td>PG</td>\n      <td>25.0000</td>\n      <td>6-2</td>\n      <td>180.0000</td>\n      <td>Texas</td>\n      <td>7730337.0000</td>\n    </tr>\n    <tr>\n      <th>1</th>\n      <td>Jae Crowder</td>\n      <td>Boston Celtics</td>\n      <td>99.0000</td>\n      <td>SF</td>\n      <td>25.0000</td>\n      <td>6-6</td>\n      <td>235.0000</td>\n      <td>Marquette</td>\n      <td>6796117.0000</td>\n    </tr>\n    <tr>\n      <th>2</th>\n      <td>John Holland</td>\n      <td>Boston Celtics</td>\n      <td>30.0000</td>\n      <td>SG</td>\n      <td>27.0000</td>\n      <td>6-5</td>\n      <td>205.0000</td>\n      <td>Boston University</td>\n      <td>nan</td>\n    </tr>\n    <tr>\n      <th>3</th>\n      <td>R.J. Hunter</td>\n      <td>Boston Celtics</td>\n      <td>28.0000</td>\n      <td>SG</td>\n      <td>22.0000</td>\n      <td>6-5</td>\n      <td>185.0000</td>\n      <td>Georgia State</td>\n      <td>1148640.0000</td>\n    </tr>\n    <tr>\n      <th>4</th>\n      <td>Jonas Jerebko</td>\n      <td>Boston Celtics</td>\n      <td>8.0000</td>\n      <td>PF</td>\n      <td>29.0000</td>\n      <td>6-10</td>\n      <td>231.0000</td>\n      <td>NaN</td>\n      <td>5000000.0000</td>\n    </tr>\n    <tr>\n      <th>5</th>\n      <td>Amir Johnson</td>\n      <td>Boston Celtics</td>\n      <td>90.0000</td>\n      <td>PF</td>\n      <td>29.0000</td>\n      <td>6-9</td>\n      <td>240.0000</td>\n      <td>NaN</td>\n      <td>12000000.0000</td>\n    </tr>\n    <tr>\n      <th>6</th>\n      <td>Jordan Mickey</td>\n      <td>Boston Celtics</td>\n      <td>55.0000</td>\n      <td>PF</td>\n      <td>21.0000</td>\n      <td>6-8</td>\n      <td>235.0000</td>\n      <td>LSU</td>\n      <td>1170960.0000</td>\n    </tr>\n    <tr>\n      <th>7</th>\n      <td>Kelly Olynyk</td>\n      <td>Boston Celtics</td>\n      <td>41.0000</td>\n      <td>C</td>\n      <td>25.0000</td>\n      <td>7-0</td>\n      <td>238.0000</td>\n      <td>Gonzaga</td>\n      <td>2165160.0000</td>\n    </tr>\n    <tr>\n      <th>8</th>\n      <td>Terry Rozier</td>\n      <td>Boston Celtics</td>\n      <td>12.0000</td>\n      <td>PG</td>\n      <td>22.0000</td>\n      <td>6-2</td>\n      <td>190.0000</td>\n      <td>Louisville</td>\n      <td>1824360.0000</td>\n    </tr>\n    <tr>\n      <th>9</th>\n      <td>Marcus Smart</td>\n      <td>Boston Celtics</td>\n      <td>36.0000</td>\n      <td>PG</td>\n      <td>22.0000</td>\n      <td>6-4</td>\n      <td>220.0000</td>\n      <td>Oklahoma State</td>\n      <td>3431040.0000</td>\n    </tr>\n  </tbody>\n</table>\n</div>",
            "text/plain": "            Name            Team  Number Position     Age Height   Weight  \\\n0  Avery Bradley  Boston Celtics  0.0000       PG 25.0000    6-2 180.0000   \n1    Jae Crowder  Boston Celtics 99.0000       SF 25.0000    6-6 235.0000   \n2   John Holland  Boston Celtics 30.0000       SG 27.0000    6-5 205.0000   \n3    R.J. Hunter  Boston Celtics 28.0000       SG 22.0000    6-5 185.0000   \n4  Jonas Jerebko  Boston Celtics  8.0000       PF 29.0000   6-10 231.0000   \n5   Amir Johnson  Boston Celtics 90.0000       PF 29.0000    6-9 240.0000   \n6  Jordan Mickey  Boston Celtics 55.0000       PF 21.0000    6-8 235.0000   \n7   Kelly Olynyk  Boston Celtics 41.0000        C 25.0000    7-0 238.0000   \n8   Terry Rozier  Boston Celtics 12.0000       PG 22.0000    6-2 190.0000   \n9   Marcus Smart  Boston Celtics 36.0000       PG 22.0000    6-4 220.0000   \n\n             College        Salary  \n0              Texas  7730337.0000  \n1          Marquette  6796117.0000  \n2  Boston University           nan  \n3      Georgia State  1148640.0000  \n4                NaN  5000000.0000  \n5                NaN 12000000.0000  \n6                LSU  1170960.0000  \n7            Gonzaga  2165160.0000  \n8         Louisville  1824360.0000  \n9     Oklahoma State  3431040.0000  "
          },
          "metadata": {}
        }
      ]
    },
    {
      "metadata": {
        "trusted": true
      },
      "cell_type": "code",
      "source": "#Columns\nlist(dt_nba)",
      "execution_count": 2,
      "outputs": [
        {
          "output_type": "execute_result",
          "execution_count": 2,
          "data": {
            "text/plain": "['Name',\n 'Team',\n 'Number',\n 'Position',\n 'Age',\n 'Height',\n 'Weight',\n 'College',\n 'Salary']"
          },
          "metadata": {}
        }
      ]
    },
    {
      "metadata": {},
      "cell_type": "markdown",
      "source": "## Create New Column"
    },
    {
      "metadata": {
        "trusted": true
      },
      "cell_type": "code",
      "source": "\n#  A new column is declared if the column name does not exists.\n#  if the column exists, then the column is overwritten\n\ndt_nba[\"SalaryCopy\"] = dt_nba[\"Salary\"]\n\ndt_nba[[\"Name\",\"Team\",\"Salary\",\"SalaryCopy\"]].head()",
      "execution_count": 3,
      "outputs": [
        {
          "output_type": "execute_result",
          "execution_count": 3,
          "data": {
            "text/html": "<div>\n<style scoped>\n    .dataframe tbody tr th:only-of-type {\n        vertical-align: middle;\n    }\n\n    .dataframe tbody tr th {\n        vertical-align: top;\n    }\n\n    .dataframe thead th {\n        text-align: right;\n    }\n</style>\n<table border=\"1\" class=\"dataframe\">\n  <thead>\n    <tr style=\"text-align: right;\">\n      <th></th>\n      <th>Name</th>\n      <th>Team</th>\n      <th>Salary</th>\n      <th>SalaryCopy</th>\n    </tr>\n  </thead>\n  <tbody>\n    <tr>\n      <th>0</th>\n      <td>Avery Bradley</td>\n      <td>Boston Celtics</td>\n      <td>7730337.0000</td>\n      <td>7730337.0000</td>\n    </tr>\n    <tr>\n      <th>1</th>\n      <td>Jae Crowder</td>\n      <td>Boston Celtics</td>\n      <td>6796117.0000</td>\n      <td>6796117.0000</td>\n    </tr>\n    <tr>\n      <th>2</th>\n      <td>John Holland</td>\n      <td>Boston Celtics</td>\n      <td>nan</td>\n      <td>nan</td>\n    </tr>\n    <tr>\n      <th>3</th>\n      <td>R.J. Hunter</td>\n      <td>Boston Celtics</td>\n      <td>1148640.0000</td>\n      <td>1148640.0000</td>\n    </tr>\n    <tr>\n      <th>4</th>\n      <td>Jonas Jerebko</td>\n      <td>Boston Celtics</td>\n      <td>5000000.0000</td>\n      <td>5000000.0000</td>\n    </tr>\n  </tbody>\n</table>\n</div>",
            "text/plain": "            Name            Team       Salary   SalaryCopy\n0  Avery Bradley  Boston Celtics 7730337.0000 7730337.0000\n1    Jae Crowder  Boston Celtics 6796117.0000 6796117.0000\n2   John Holland  Boston Celtics          nan          nan\n3    R.J. Hunter  Boston Celtics 1148640.0000 1148640.0000\n4  Jonas Jerebko  Boston Celtics 5000000.0000 5000000.0000"
          },
          "metadata": {}
        }
      ]
    },
    {
      "metadata": {},
      "cell_type": "markdown",
      "source": "## Multiple ways to add/update column values"
    },
    {
      "metadata": {
        "trusted": true
      },
      "cell_type": "code",
      "source": "#Different way to do calculated fields\n\n\n#calculation for new column\ndef GetSalaryIncrement(val):\n    return val * 1.1\n\n\n#1) direct columns\ndt_nba[\"SalaryPlus10%A\"] = dt_nba[\"Salary\"] + (dt_nba[\"Salary\"] * .1)\n\n#2) function usage\ndt_nba['SalaryPlus10%B'] = GetSalaryIncrement(dt_nba[\"Salary\"])\n\n#3) map - function\ndt_nba['SalaryPlus10%C'] = dt_nba[\"Salary\"].map(GetSalaryIncrement)\n\n#4) apply - function\ndt_nba['SalaryPlus10%D'] = dt_nba[\"Salary\"].apply(GetSalaryIncrement)\n\n\ndt_nba[[\"Name\",\"Team\",\"Salary\",\"SalaryPlus10%A\",\"SalaryPlus10%B\",\"SalaryPlus10%C\",'SalaryPlus10%D']][:5]",
      "execution_count": 4,
      "outputs": [
        {
          "output_type": "execute_result",
          "execution_count": 4,
          "data": {
            "text/html": "<div>\n<style scoped>\n    .dataframe tbody tr th:only-of-type {\n        vertical-align: middle;\n    }\n\n    .dataframe tbody tr th {\n        vertical-align: top;\n    }\n\n    .dataframe thead th {\n        text-align: right;\n    }\n</style>\n<table border=\"1\" class=\"dataframe\">\n  <thead>\n    <tr style=\"text-align: right;\">\n      <th></th>\n      <th>Name</th>\n      <th>Team</th>\n      <th>Salary</th>\n      <th>SalaryPlus10%A</th>\n      <th>SalaryPlus10%B</th>\n      <th>SalaryPlus10%C</th>\n      <th>SalaryPlus10%D</th>\n    </tr>\n  </thead>\n  <tbody>\n    <tr>\n      <th>0</th>\n      <td>Avery Bradley</td>\n      <td>Boston Celtics</td>\n      <td>7730337.0000</td>\n      <td>8503370.7000</td>\n      <td>8503370.7000</td>\n      <td>8503370.7000</td>\n      <td>8503370.7000</td>\n    </tr>\n    <tr>\n      <th>1</th>\n      <td>Jae Crowder</td>\n      <td>Boston Celtics</td>\n      <td>6796117.0000</td>\n      <td>7475728.7000</td>\n      <td>7475728.7000</td>\n      <td>7475728.7000</td>\n      <td>7475728.7000</td>\n    </tr>\n    <tr>\n      <th>2</th>\n      <td>John Holland</td>\n      <td>Boston Celtics</td>\n      <td>nan</td>\n      <td>nan</td>\n      <td>nan</td>\n      <td>nan</td>\n      <td>nan</td>\n    </tr>\n    <tr>\n      <th>3</th>\n      <td>R.J. Hunter</td>\n      <td>Boston Celtics</td>\n      <td>1148640.0000</td>\n      <td>1263504.0000</td>\n      <td>1263504.0000</td>\n      <td>1263504.0000</td>\n      <td>1263504.0000</td>\n    </tr>\n    <tr>\n      <th>4</th>\n      <td>Jonas Jerebko</td>\n      <td>Boston Celtics</td>\n      <td>5000000.0000</td>\n      <td>5500000.0000</td>\n      <td>5500000.0000</td>\n      <td>5500000.0000</td>\n      <td>5500000.0000</td>\n    </tr>\n  </tbody>\n</table>\n</div>",
            "text/plain": "            Name            Team       Salary  SalaryPlus10%A  SalaryPlus10%B  \\\n0  Avery Bradley  Boston Celtics 7730337.0000    8503370.7000    8503370.7000   \n1    Jae Crowder  Boston Celtics 6796117.0000    7475728.7000    7475728.7000   \n2   John Holland  Boston Celtics          nan             nan             nan   \n3    R.J. Hunter  Boston Celtics 1148640.0000    1263504.0000    1263504.0000   \n4  Jonas Jerebko  Boston Celtics 5000000.0000    5500000.0000    5500000.0000   \n\n   SalaryPlus10%C  SalaryPlus10%D  \n0    8503370.7000    8503370.7000  \n1    7475728.7000    7475728.7000  \n2             nan             nan  \n3    1263504.0000    1263504.0000  \n4    5500000.0000    5500000.0000  "
          },
          "metadata": {}
        }
      ]
    }
  ],
  "metadata": {
    "kernelspec": {
      "name": "python36",
      "display_name": "Python 3.6",
      "language": "python"
    },
    "language_info": {
      "mimetype": "text/x-python",
      "nbconvert_exporter": "python",
      "name": "python",
      "pygments_lexer": "ipython3",
      "version": "3.6.6",
      "file_extension": ".py",
      "codemirror_mode": {
        "version": 3,
        "name": "ipython"
      }
    }
  },
  "nbformat": 4,
  "nbformat_minor": 2
}