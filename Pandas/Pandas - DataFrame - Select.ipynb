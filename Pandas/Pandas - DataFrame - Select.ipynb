{
  "cells": [
    {
      "metadata": {
        "collapsed": true
      },
      "cell_type": "markdown",
      "source": "# Python - Pandas - Data Frame - Select"
    },
    {
      "metadata": {
        "trusted": true
      },
      "cell_type": "code",
      "source": "import pandas as pd    #python data analysis\nimport numpy as np     #numeric python\nimport matplotlib.pyplot as plt\n%matplotlib inline\n\n#read from CSV\nstr_path_data = \"..//..//data//\"\ndt_nba = pd.read_csv(str_path_data + \"nba.csv\")\ndt_nba = dt_nba.dropna(how=\"all\") #remove all row where all data is null\ndt_nba.head(10)",
      "execution_count": 1,
      "outputs": [
        {
          "output_type": "execute_result",
          "execution_count": 1,
          "data": {
            "text/html": "<div>\n<style scoped>\n    .dataframe tbody tr th:only-of-type {\n        vertical-align: middle;\n    }\n\n    .dataframe tbody tr th {\n        vertical-align: top;\n    }\n\n    .dataframe thead th {\n        text-align: right;\n    }\n</style>\n<table border=\"1\" class=\"dataframe\">\n  <thead>\n    <tr style=\"text-align: right;\">\n      <th></th>\n      <th>Name</th>\n      <th>Team</th>\n      <th>Number</th>\n      <th>Position</th>\n      <th>Age</th>\n      <th>Height</th>\n      <th>Weight</th>\n      <th>College</th>\n      <th>Salary</th>\n    </tr>\n  </thead>\n  <tbody>\n    <tr>\n      <th>0</th>\n      <td>Avery Bradley</td>\n      <td>Boston Celtics</td>\n      <td>0.0</td>\n      <td>PG</td>\n      <td>25.0</td>\n      <td>6-2</td>\n      <td>180.0</td>\n      <td>Texas</td>\n      <td>7730337.0</td>\n    </tr>\n    <tr>\n      <th>1</th>\n      <td>Jae Crowder</td>\n      <td>Boston Celtics</td>\n      <td>99.0</td>\n      <td>SF</td>\n      <td>25.0</td>\n      <td>6-6</td>\n      <td>235.0</td>\n      <td>Marquette</td>\n      <td>6796117.0</td>\n    </tr>\n    <tr>\n      <th>2</th>\n      <td>John Holland</td>\n      <td>Boston Celtics</td>\n      <td>30.0</td>\n      <td>SG</td>\n      <td>27.0</td>\n      <td>6-5</td>\n      <td>205.0</td>\n      <td>Boston University</td>\n      <td>NaN</td>\n    </tr>\n    <tr>\n      <th>3</th>\n      <td>R.J. Hunter</td>\n      <td>Boston Celtics</td>\n      <td>28.0</td>\n      <td>SG</td>\n      <td>22.0</td>\n      <td>6-5</td>\n      <td>185.0</td>\n      <td>Georgia State</td>\n      <td>1148640.0</td>\n    </tr>\n    <tr>\n      <th>4</th>\n      <td>Jonas Jerebko</td>\n      <td>Boston Celtics</td>\n      <td>8.0</td>\n      <td>PF</td>\n      <td>29.0</td>\n      <td>6-10</td>\n      <td>231.0</td>\n      <td>NaN</td>\n      <td>5000000.0</td>\n    </tr>\n    <tr>\n      <th>5</th>\n      <td>Amir Johnson</td>\n      <td>Boston Celtics</td>\n      <td>90.0</td>\n      <td>PF</td>\n      <td>29.0</td>\n      <td>6-9</td>\n      <td>240.0</td>\n      <td>NaN</td>\n      <td>12000000.0</td>\n    </tr>\n    <tr>\n      <th>6</th>\n      <td>Jordan Mickey</td>\n      <td>Boston Celtics</td>\n      <td>55.0</td>\n      <td>PF</td>\n      <td>21.0</td>\n      <td>6-8</td>\n      <td>235.0</td>\n      <td>LSU</td>\n      <td>1170960.0</td>\n    </tr>\n    <tr>\n      <th>7</th>\n      <td>Kelly Olynyk</td>\n      <td>Boston Celtics</td>\n      <td>41.0</td>\n      <td>C</td>\n      <td>25.0</td>\n      <td>7-0</td>\n      <td>238.0</td>\n      <td>Gonzaga</td>\n      <td>2165160.0</td>\n    </tr>\n    <tr>\n      <th>8</th>\n      <td>Terry Rozier</td>\n      <td>Boston Celtics</td>\n      <td>12.0</td>\n      <td>PG</td>\n      <td>22.0</td>\n      <td>6-2</td>\n      <td>190.0</td>\n      <td>Louisville</td>\n      <td>1824360.0</td>\n    </tr>\n    <tr>\n      <th>9</th>\n      <td>Marcus Smart</td>\n      <td>Boston Celtics</td>\n      <td>36.0</td>\n      <td>PG</td>\n      <td>22.0</td>\n      <td>6-4</td>\n      <td>220.0</td>\n      <td>Oklahoma State</td>\n      <td>3431040.0</td>\n    </tr>\n  </tbody>\n</table>\n</div>",
            "text/plain": "            Name            Team  Number Position   Age Height  Weight  \\\n0  Avery Bradley  Boston Celtics     0.0       PG  25.0    6-2   180.0   \n1    Jae Crowder  Boston Celtics    99.0       SF  25.0    6-6   235.0   \n2   John Holland  Boston Celtics    30.0       SG  27.0    6-5   205.0   \n3    R.J. Hunter  Boston Celtics    28.0       SG  22.0    6-5   185.0   \n4  Jonas Jerebko  Boston Celtics     8.0       PF  29.0   6-10   231.0   \n5   Amir Johnson  Boston Celtics    90.0       PF  29.0    6-9   240.0   \n6  Jordan Mickey  Boston Celtics    55.0       PF  21.0    6-8   235.0   \n7   Kelly Olynyk  Boston Celtics    41.0        C  25.0    7-0   238.0   \n8   Terry Rozier  Boston Celtics    12.0       PG  22.0    6-2   190.0   \n9   Marcus Smart  Boston Celtics    36.0       PG  22.0    6-4   220.0   \n\n             College      Salary  \n0              Texas   7730337.0  \n1          Marquette   6796117.0  \n2  Boston University         NaN  \n3      Georgia State   1148640.0  \n4                NaN   5000000.0  \n5                NaN  12000000.0  \n6                LSU   1170960.0  \n7            Gonzaga   2165160.0  \n8         Louisville   1824360.0  \n9     Oklahoma State   3431040.0  "
          },
          "metadata": {}
        }
      ]
    },
    {
      "metadata": {
        "trusted": true
      },
      "cell_type": "code",
      "source": "#Columns\nlist(dt_nba)",
      "execution_count": 2,
      "outputs": [
        {
          "output_type": "execute_result",
          "execution_count": 2,
          "data": {
            "text/plain": "['Name',\n 'Team',\n 'Number',\n 'Position',\n 'Age',\n 'Height',\n 'Weight',\n 'College',\n 'Salary']"
          },
          "metadata": {}
        }
      ]
    },
    {
      "metadata": {},
      "cell_type": "markdown",
      "source": "## Aggregate Information"
    },
    {
      "metadata": {
        "trusted": true
      },
      "cell_type": "code",
      "source": "#GROUP BY : DATA TYPE : COUNT(*)\ndt_nba.get_dtype_counts()",
      "execution_count": 3,
      "outputs": [
        {
          "output_type": "execute_result",
          "execution_count": 3,
          "data": {
            "text/plain": "float64    4\nobject     5\ndtype: int64"
          },
          "metadata": {}
        }
      ]
    },
    {
      "metadata": {
        "trusted": true
      },
      "cell_type": "code",
      "source": "#For each column perform Aggregate function : MAX  : outputs a series\ndt_nba.max()",
      "execution_count": 4,
      "outputs": [
        {
          "output_type": "execute_result",
          "execution_count": 4,
          "data": {
            "text/plain": "Name             Zaza Pachulia\nTeam        Washington Wizards\nNumber                      99\nPosition                    SG\nAge                         40\nHeight                     7-3\nWeight                     307\nSalary                 2.5e+07\ndtype: object"
          },
          "metadata": {}
        }
      ]
    },
    {
      "metadata": {
        "trusted": true
      },
      "cell_type": "code",
      "source": "#For each column perform Aggregate function : Standard Dev : outputs a series\npd.options.display.float_format = '{:.4f}'.format\ndt_nba.std()",
      "execution_count": 5,
      "outputs": [
        {
          "output_type": "execute_result",
          "execution_count": 5,
          "data": {
            "text/plain": "Number        15.9661\nAge            4.4040\nWeight        26.3683\nSalary   5229237.5989\ndtype: float64"
          },
          "metadata": {}
        }
      ]
    },
    {
      "metadata": {
        "trusted": true
      },
      "cell_type": "code",
      "source": "#For each column perform Aggregate function : Median : outputs a series\ndt_nba.median()  # min / sum",
      "execution_count": 6,
      "outputs": [
        {
          "output_type": "execute_result",
          "execution_count": 6,
          "data": {
            "text/plain": "Number        13.0000\nAge           26.0000\nWeight       220.0000\nSalary   2839073.0000\ndtype: float64"
          },
          "metadata": {}
        }
      ]
    },
    {
      "metadata": {},
      "cell_type": "markdown",
      "source": "## Get data via dictionary"
    },
    {
      "metadata": {
        "trusted": true
      },
      "cell_type": "code",
      "source": "# to convert data frames into dictionary creates an array of dictionary\nlen(dict(dt_nba))  #shows 9 columns",
      "execution_count": 7,
      "outputs": [
        {
          "output_type": "execute_result",
          "execution_count": 7,
          "data": {
            "text/plain": "9"
          },
          "metadata": {}
        }
      ]
    },
    {
      "metadata": {
        "trusted": true
      },
      "cell_type": "code",
      "source": "#dictionary is key-value pair\n#to reference a dictionary : use column name as key\ndict(dt_nba)[\"Name\"].head()",
      "execution_count": 8,
      "outputs": [
        {
          "output_type": "execute_result",
          "execution_count": 8,
          "data": {
            "text/plain": "0    Avery Bradley\n1      Jae Crowder\n2     John Holland\n3      R.J. Hunter\n4    Jonas Jerebko\nName: Name, dtype: object"
          },
          "metadata": {}
        }
      ]
    },
    {
      "metadata": {
        "trusted": true
      },
      "cell_type": "code",
      "source": "dict(dt_nba)[\"Age\"].head()",
      "execution_count": 9,
      "outputs": [
        {
          "output_type": "execute_result",
          "execution_count": 9,
          "data": {
            "text/plain": "0   25.0000\n1   25.0000\n2   27.0000\n3   22.0000\n4   29.0000\nName: Age, dtype: float64"
          },
          "metadata": {}
        }
      ]
    },
    {
      "metadata": {
        "trusted": true
      },
      "cell_type": "code",
      "source": "dict(dt_nba)[\"Salary\"].tail()",
      "execution_count": 10,
      "outputs": [
        {
          "output_type": "execute_result",
          "execution_count": 10,
          "data": {
            "text/plain": "452   2239800.0000\n453   2433333.0000\n454    900000.0000\n455   2900000.0000\n456    947276.0000\nName: Salary, dtype: float64"
          },
          "metadata": {}
        }
      ]
    },
    {
      "metadata": {},
      "cell_type": "markdown",
      "source": "## Get data via direct column call - Returns Series"
    },
    {
      "metadata": {
        "trusted": true
      },
      "cell_type": "code",
      "source": "type(dt_nba.Name)",
      "execution_count": 11,
      "outputs": [
        {
          "output_type": "execute_result",
          "execution_count": 11,
          "data": {
            "text/plain": "pandas.core.series.Series"
          },
          "metadata": {}
        }
      ]
    },
    {
      "metadata": {
        "trusted": true
      },
      "cell_type": "code",
      "source": "dt_nba.Name.head()",
      "execution_count": 12,
      "outputs": [
        {
          "output_type": "execute_result",
          "execution_count": 12,
          "data": {
            "text/plain": "0    Avery Bradley\n1      Jae Crowder\n2     John Holland\n3      R.J. Hunter\n4    Jonas Jerebko\nName: Name, dtype: object"
          },
          "metadata": {}
        }
      ]
    },
    {
      "metadata": {
        "trusted": true
      },
      "cell_type": "code",
      "source": "dt_nba.Name[:5] #equivalent to head : 5 rows",
      "execution_count": 13,
      "outputs": [
        {
          "output_type": "execute_result",
          "execution_count": 13,
          "data": {
            "text/plain": "0    Avery Bradley\n1      Jae Crowder\n2     John Holland\n3      R.J. Hunter\n4    Jonas Jerebko\nName: Name, dtype: object"
          },
          "metadata": {}
        }
      ]
    },
    {
      "metadata": {
        "trusted": true
      },
      "cell_type": "code",
      "source": "dt_nba.Age.head()",
      "execution_count": 14,
      "outputs": [
        {
          "output_type": "execute_result",
          "execution_count": 14,
          "data": {
            "text/plain": "0   25.0000\n1   25.0000\n2   27.0000\n3   22.0000\n4   29.0000\nName: Age, dtype: float64"
          },
          "metadata": {}
        }
      ]
    },
    {
      "metadata": {
        "trusted": true
      },
      "cell_type": "code",
      "source": "dt_nba.Salary.tail()",
      "execution_count": 15,
      "outputs": [
        {
          "output_type": "execute_result",
          "execution_count": 15,
          "data": {
            "text/plain": "452   2239800.0000\n453   2433333.0000\n454    900000.0000\n455   2900000.0000\n456    947276.0000\nName: Salary, dtype: float64"
          },
          "metadata": {}
        }
      ]
    },
    {
      "metadata": {},
      "cell_type": "markdown",
      "source": "## Get data via \"string\" column call - Returns Series"
    },
    {
      "metadata": {
        "trusted": true
      },
      "cell_type": "code",
      "source": "type(dt_nba[\"Name\"])",
      "execution_count": 16,
      "outputs": [
        {
          "output_type": "execute_result",
          "execution_count": 16,
          "data": {
            "text/plain": "pandas.core.series.Series"
          },
          "metadata": {}
        }
      ]
    },
    {
      "metadata": {
        "trusted": true
      },
      "cell_type": "code",
      "source": "dt_nba[\"Name\"].head()",
      "execution_count": 17,
      "outputs": [
        {
          "output_type": "execute_result",
          "execution_count": 17,
          "data": {
            "text/plain": "0    Avery Bradley\n1      Jae Crowder\n2     John Holland\n3      R.J. Hunter\n4    Jonas Jerebko\nName: Name, dtype: object"
          },
          "metadata": {}
        }
      ]
    },
    {
      "metadata": {
        "trusted": true
      },
      "cell_type": "code",
      "source": "dt_nba[\"Age\"].head()",
      "execution_count": 18,
      "outputs": [
        {
          "output_type": "execute_result",
          "execution_count": 18,
          "data": {
            "text/plain": "0   25.0000\n1   25.0000\n2   27.0000\n3   22.0000\n4   29.0000\nName: Age, dtype: float64"
          },
          "metadata": {}
        }
      ]
    },
    {
      "metadata": {
        "trusted": true
      },
      "cell_type": "code",
      "source": "dt_nba[\"Salary\"].tail()",
      "execution_count": 19,
      "outputs": [
        {
          "output_type": "execute_result",
          "execution_count": 19,
          "data": {
            "text/plain": "452   2239800.0000\n453   2433333.0000\n454    900000.0000\n455   2900000.0000\n456    947276.0000\nName: Salary, dtype: float64"
          },
          "metadata": {}
        }
      ]
    },
    {
      "metadata": {},
      "cell_type": "markdown",
      "source": "## Multiple Columns"
    },
    {
      "metadata": {
        "trusted": true
      },
      "cell_type": "code",
      "source": "dt_nba[[\"Name\",\"Team\",\"Salary\"]][:5]",
      "execution_count": 20,
      "outputs": [
        {
          "output_type": "execute_result",
          "execution_count": 20,
          "data": {
            "text/html": "<div>\n<style scoped>\n    .dataframe tbody tr th:only-of-type {\n        vertical-align: middle;\n    }\n\n    .dataframe tbody tr th {\n        vertical-align: top;\n    }\n\n    .dataframe thead th {\n        text-align: right;\n    }\n</style>\n<table border=\"1\" class=\"dataframe\">\n  <thead>\n    <tr style=\"text-align: right;\">\n      <th></th>\n      <th>Name</th>\n      <th>Team</th>\n      <th>Salary</th>\n    </tr>\n  </thead>\n  <tbody>\n    <tr>\n      <th>0</th>\n      <td>Avery Bradley</td>\n      <td>Boston Celtics</td>\n      <td>7730337.0000</td>\n    </tr>\n    <tr>\n      <th>1</th>\n      <td>Jae Crowder</td>\n      <td>Boston Celtics</td>\n      <td>6796117.0000</td>\n    </tr>\n    <tr>\n      <th>2</th>\n      <td>John Holland</td>\n      <td>Boston Celtics</td>\n      <td>nan</td>\n    </tr>\n    <tr>\n      <th>3</th>\n      <td>R.J. Hunter</td>\n      <td>Boston Celtics</td>\n      <td>1148640.0000</td>\n    </tr>\n    <tr>\n      <th>4</th>\n      <td>Jonas Jerebko</td>\n      <td>Boston Celtics</td>\n      <td>5000000.0000</td>\n    </tr>\n  </tbody>\n</table>\n</div>",
            "text/plain": "            Name            Team       Salary\n0  Avery Bradley  Boston Celtics 7730337.0000\n1    Jae Crowder  Boston Celtics 6796117.0000\n2   John Holland  Boston Celtics          nan\n3    R.J. Hunter  Boston Celtics 1148640.0000\n4  Jonas Jerebko  Boston Celtics 5000000.0000"
          },
          "metadata": {}
        }
      ]
    },
    {
      "metadata": {
        "trusted": true
      },
      "cell_type": "code",
      "source": "columns_to_select = [\"Name\",\"Team\",\"Salary\"]\ndt_nba[columns_to_select].head()",
      "execution_count": 21,
      "outputs": [
        {
          "output_type": "execute_result",
          "execution_count": 21,
          "data": {
            "text/html": "<div>\n<style scoped>\n    .dataframe tbody tr th:only-of-type {\n        vertical-align: middle;\n    }\n\n    .dataframe tbody tr th {\n        vertical-align: top;\n    }\n\n    .dataframe thead th {\n        text-align: right;\n    }\n</style>\n<table border=\"1\" class=\"dataframe\">\n  <thead>\n    <tr style=\"text-align: right;\">\n      <th></th>\n      <th>Name</th>\n      <th>Team</th>\n      <th>Salary</th>\n    </tr>\n  </thead>\n  <tbody>\n    <tr>\n      <th>0</th>\n      <td>Avery Bradley</td>\n      <td>Boston Celtics</td>\n      <td>7730337.0000</td>\n    </tr>\n    <tr>\n      <th>1</th>\n      <td>Jae Crowder</td>\n      <td>Boston Celtics</td>\n      <td>6796117.0000</td>\n    </tr>\n    <tr>\n      <th>2</th>\n      <td>John Holland</td>\n      <td>Boston Celtics</td>\n      <td>nan</td>\n    </tr>\n    <tr>\n      <th>3</th>\n      <td>R.J. Hunter</td>\n      <td>Boston Celtics</td>\n      <td>1148640.0000</td>\n    </tr>\n    <tr>\n      <th>4</th>\n      <td>Jonas Jerebko</td>\n      <td>Boston Celtics</td>\n      <td>5000000.0000</td>\n    </tr>\n  </tbody>\n</table>\n</div>",
            "text/plain": "            Name            Team       Salary\n0  Avery Bradley  Boston Celtics 7730337.0000\n1    Jae Crowder  Boston Celtics 6796117.0000\n2   John Holland  Boston Celtics          nan\n3    R.J. Hunter  Boston Celtics 1148640.0000\n4  Jonas Jerebko  Boston Celtics 5000000.0000"
          },
          "metadata": {}
        }
      ]
    }
  ],
  "metadata": {
    "kernelspec": {
      "name": "python36",
      "display_name": "Python 3.6",
      "language": "python"
    },
    "language_info": {
      "mimetype": "text/x-python",
      "nbconvert_exporter": "python",
      "name": "python",
      "pygments_lexer": "ipython3",
      "version": "3.6.6",
      "file_extension": ".py",
      "codemirror_mode": {
        "version": 3,
        "name": "ipython"
      }
    }
  },
  "nbformat": 4,
  "nbformat_minor": 2
}