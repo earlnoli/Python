{
  "cells": [
    {
      "metadata": {
        "collapsed": true
      },
      "cell_type": "markdown",
      "source": "# Python - Pandas - Data Frame - Filter Conditions"
    },
    {
      "metadata": {
        "trusted": true
      },
      "cell_type": "code",
      "source": "import pandas as pd    #python data analysis\n\n#format settings\npd.options.display.float_format = '{:.4f}'.format\n\n#read from CSV\nstr_path_data = \"..//..//data//\"\ndt_nba = pd.read_csv(str_path_data + \"nba.csv\")\ndt_nba = dt_nba.dropna(how=\"all\") #remove all row where all data is null\ndt_nba.head(10)",
      "execution_count": 1,
      "outputs": [
        {
          "output_type": "execute_result",
          "execution_count": 1,
          "data": {
            "text/html": "<div>\n<style scoped>\n    .dataframe tbody tr th:only-of-type {\n        vertical-align: middle;\n    }\n\n    .dataframe tbody tr th {\n        vertical-align: top;\n    }\n\n    .dataframe thead th {\n        text-align: right;\n    }\n</style>\n<table border=\"1\" class=\"dataframe\">\n  <thead>\n    <tr style=\"text-align: right;\">\n      <th></th>\n      <th>Name</th>\n      <th>Team</th>\n      <th>Number</th>\n      <th>Position</th>\n      <th>Age</th>\n      <th>Height</th>\n      <th>Weight</th>\n      <th>College</th>\n      <th>Salary</th>\n    </tr>\n  </thead>\n  <tbody>\n    <tr>\n      <th>0</th>\n      <td>Avery Bradley</td>\n      <td>Boston Celtics</td>\n      <td>0.0000</td>\n      <td>PG</td>\n      <td>25.0000</td>\n      <td>6-2</td>\n      <td>180.0000</td>\n      <td>Texas</td>\n      <td>7730337.0000</td>\n    </tr>\n    <tr>\n      <th>1</th>\n      <td>Jae Crowder</td>\n      <td>Boston Celtics</td>\n      <td>99.0000</td>\n      <td>SF</td>\n      <td>25.0000</td>\n      <td>6-6</td>\n      <td>235.0000</td>\n      <td>Marquette</td>\n      <td>6796117.0000</td>\n    </tr>\n    <tr>\n      <th>2</th>\n      <td>John Holland</td>\n      <td>Boston Celtics</td>\n      <td>30.0000</td>\n      <td>SG</td>\n      <td>27.0000</td>\n      <td>6-5</td>\n      <td>205.0000</td>\n      <td>Boston University</td>\n      <td>nan</td>\n    </tr>\n    <tr>\n      <th>3</th>\n      <td>R.J. Hunter</td>\n      <td>Boston Celtics</td>\n      <td>28.0000</td>\n      <td>SG</td>\n      <td>22.0000</td>\n      <td>6-5</td>\n      <td>185.0000</td>\n      <td>Georgia State</td>\n      <td>1148640.0000</td>\n    </tr>\n    <tr>\n      <th>4</th>\n      <td>Jonas Jerebko</td>\n      <td>Boston Celtics</td>\n      <td>8.0000</td>\n      <td>PF</td>\n      <td>29.0000</td>\n      <td>6-10</td>\n      <td>231.0000</td>\n      <td>NaN</td>\n      <td>5000000.0000</td>\n    </tr>\n    <tr>\n      <th>5</th>\n      <td>Amir Johnson</td>\n      <td>Boston Celtics</td>\n      <td>90.0000</td>\n      <td>PF</td>\n      <td>29.0000</td>\n      <td>6-9</td>\n      <td>240.0000</td>\n      <td>NaN</td>\n      <td>12000000.0000</td>\n    </tr>\n    <tr>\n      <th>6</th>\n      <td>Jordan Mickey</td>\n      <td>Boston Celtics</td>\n      <td>55.0000</td>\n      <td>PF</td>\n      <td>21.0000</td>\n      <td>6-8</td>\n      <td>235.0000</td>\n      <td>LSU</td>\n      <td>1170960.0000</td>\n    </tr>\n    <tr>\n      <th>7</th>\n      <td>Kelly Olynyk</td>\n      <td>Boston Celtics</td>\n      <td>41.0000</td>\n      <td>C</td>\n      <td>25.0000</td>\n      <td>7-0</td>\n      <td>238.0000</td>\n      <td>Gonzaga</td>\n      <td>2165160.0000</td>\n    </tr>\n    <tr>\n      <th>8</th>\n      <td>Terry Rozier</td>\n      <td>Boston Celtics</td>\n      <td>12.0000</td>\n      <td>PG</td>\n      <td>22.0000</td>\n      <td>6-2</td>\n      <td>190.0000</td>\n      <td>Louisville</td>\n      <td>1824360.0000</td>\n    </tr>\n    <tr>\n      <th>9</th>\n      <td>Marcus Smart</td>\n      <td>Boston Celtics</td>\n      <td>36.0000</td>\n      <td>PG</td>\n      <td>22.0000</td>\n      <td>6-4</td>\n      <td>220.0000</td>\n      <td>Oklahoma State</td>\n      <td>3431040.0000</td>\n    </tr>\n  </tbody>\n</table>\n</div>",
            "text/plain": "            Name            Team  Number Position     Age Height   Weight  \\\n0  Avery Bradley  Boston Celtics  0.0000       PG 25.0000    6-2 180.0000   \n1    Jae Crowder  Boston Celtics 99.0000       SF 25.0000    6-6 235.0000   \n2   John Holland  Boston Celtics 30.0000       SG 27.0000    6-5 205.0000   \n3    R.J. Hunter  Boston Celtics 28.0000       SG 22.0000    6-5 185.0000   \n4  Jonas Jerebko  Boston Celtics  8.0000       PF 29.0000   6-10 231.0000   \n5   Amir Johnson  Boston Celtics 90.0000       PF 29.0000    6-9 240.0000   \n6  Jordan Mickey  Boston Celtics 55.0000       PF 21.0000    6-8 235.0000   \n7   Kelly Olynyk  Boston Celtics 41.0000        C 25.0000    7-0 238.0000   \n8   Terry Rozier  Boston Celtics 12.0000       PG 22.0000    6-2 190.0000   \n9   Marcus Smart  Boston Celtics 36.0000       PG 22.0000    6-4 220.0000   \n\n             College        Salary  \n0              Texas  7730337.0000  \n1          Marquette  6796117.0000  \n2  Boston University           nan  \n3      Georgia State  1148640.0000  \n4                NaN  5000000.0000  \n5                NaN 12000000.0000  \n6                LSU  1170960.0000  \n7            Gonzaga  2165160.0000  \n8         Louisville  1824360.0000  \n9     Oklahoma State  3431040.0000  "
          },
          "metadata": {}
        }
      ]
    },
    {
      "metadata": {
        "trusted": true
      },
      "cell_type": "code",
      "source": "#Columns\nlist(dt_nba)",
      "execution_count": 2,
      "outputs": [
        {
          "output_type": "execute_result",
          "execution_count": 2,
          "data": {
            "text/plain": "['Name',\n 'Team',\n 'Number',\n 'Position',\n 'Age',\n 'Height',\n 'Weight',\n 'College',\n 'Salary']"
          },
          "metadata": {}
        }
      ]
    },
    {
      "metadata": {},
      "cell_type": "markdown",
      "source": "##  Filter Conditions using Boolean filters\n\nDataFrame[Bool]  --> if true then return row.  if false, hide row."
    },
    {
      "metadata": {
        "trusted": true
      },
      "cell_type": "code",
      "source": "#selecting a column and making a condition out of it will return a bool.\n(dt_nba[\"Salary\"] > 5000000).head()",
      "execution_count": 3,
      "outputs": [
        {
          "output_type": "execute_result",
          "execution_count": 3,
          "data": {
            "text/plain": "0     True\n1     True\n2    False\n3    False\n4    False\nName: Salary, dtype: bool"
          },
          "metadata": {}
        }
      ]
    },
    {
      "metadata": {
        "trusted": true
      },
      "cell_type": "code",
      "source": "dt_nba[(dt_nba[\"Salary\"] > 20000000)]\n",
      "execution_count": 4,
      "outputs": [
        {
          "output_type": "execute_result",
          "execution_count": 4,
          "data": {
            "text/html": "<div>\n<style scoped>\n    .dataframe tbody tr th:only-of-type {\n        vertical-align: middle;\n    }\n\n    .dataframe tbody tr th {\n        vertical-align: top;\n    }\n\n    .dataframe thead th {\n        text-align: right;\n    }\n</style>\n<table border=\"1\" class=\"dataframe\">\n  <thead>\n    <tr style=\"text-align: right;\">\n      <th></th>\n      <th>Name</th>\n      <th>Team</th>\n      <th>Number</th>\n      <th>Position</th>\n      <th>Age</th>\n      <th>Height</th>\n      <th>Weight</th>\n      <th>College</th>\n      <th>Salary</th>\n    </tr>\n  </thead>\n  <tbody>\n    <tr>\n      <th>33</th>\n      <td>Carmelo Anthony</td>\n      <td>New York Knicks</td>\n      <td>7.0000</td>\n      <td>SF</td>\n      <td>32.0000</td>\n      <td>6-8</td>\n      <td>240.0000</td>\n      <td>Syracuse</td>\n      <td>22875000.0000</td>\n    </tr>\n    <tr>\n      <th>100</th>\n      <td>Chris Paul</td>\n      <td>Los Angeles Clippers</td>\n      <td>3.0000</td>\n      <td>PG</td>\n      <td>31.0000</td>\n      <td>6-0</td>\n      <td>175.0000</td>\n      <td>Wake Forest</td>\n      <td>21468695.0000</td>\n    </tr>\n    <tr>\n      <th>109</th>\n      <td>Kobe Bryant</td>\n      <td>Los Angeles Lakers</td>\n      <td>24.0000</td>\n      <td>SF</td>\n      <td>37.0000</td>\n      <td>6-6</td>\n      <td>212.0000</td>\n      <td>NaN</td>\n      <td>25000000.0000</td>\n    </tr>\n    <tr>\n      <th>164</th>\n      <td>Derrick Rose</td>\n      <td>Chicago Bulls</td>\n      <td>1.0000</td>\n      <td>PG</td>\n      <td>27.0000</td>\n      <td>6-3</td>\n      <td>190.0000</td>\n      <td>Memphis</td>\n      <td>20093064.0000</td>\n    </tr>\n    <tr>\n      <th>169</th>\n      <td>LeBron James</td>\n      <td>Cleveland Cavaliers</td>\n      <td>23.0000</td>\n      <td>SF</td>\n      <td>31.0000</td>\n      <td>6-8</td>\n      <td>250.0000</td>\n      <td>NaN</td>\n      <td>22970500.0000</td>\n    </tr>\n    <tr>\n      <th>251</th>\n      <td>Dwight Howard</td>\n      <td>Houston Rockets</td>\n      <td>12.0000</td>\n      <td>C</td>\n      <td>30.0000</td>\n      <td>6-11</td>\n      <td>265.0000</td>\n      <td>NaN</td>\n      <td>22359364.0000</td>\n    </tr>\n    <tr>\n      <th>339</th>\n      <td>Chris Bosh</td>\n      <td>Miami Heat</td>\n      <td>1.0000</td>\n      <td>PF</td>\n      <td>32.0000</td>\n      <td>6-11</td>\n      <td>235.0000</td>\n      <td>Georgia Tech</td>\n      <td>22192730.0000</td>\n    </tr>\n    <tr>\n      <th>414</th>\n      <td>Kevin Durant</td>\n      <td>Oklahoma City Thunder</td>\n      <td>35.0000</td>\n      <td>SF</td>\n      <td>27.0000</td>\n      <td>6-9</td>\n      <td>240.0000</td>\n      <td>Texas</td>\n      <td>20158622.0000</td>\n    </tr>\n  </tbody>\n</table>\n</div>",
            "text/plain": "                Name                   Team  Number Position     Age Height  \\\n33   Carmelo Anthony        New York Knicks  7.0000       SF 32.0000    6-8   \n100       Chris Paul   Los Angeles Clippers  3.0000       PG 31.0000    6-0   \n109      Kobe Bryant     Los Angeles Lakers 24.0000       SF 37.0000    6-6   \n164     Derrick Rose          Chicago Bulls  1.0000       PG 27.0000    6-3   \n169     LeBron James    Cleveland Cavaliers 23.0000       SF 31.0000    6-8   \n251    Dwight Howard        Houston Rockets 12.0000        C 30.0000   6-11   \n339       Chris Bosh             Miami Heat  1.0000       PF 32.0000   6-11   \n414     Kevin Durant  Oklahoma City Thunder 35.0000       SF 27.0000    6-9   \n\n      Weight       College        Salary  \n33  240.0000      Syracuse 22875000.0000  \n100 175.0000   Wake Forest 21468695.0000  \n109 212.0000           NaN 25000000.0000  \n164 190.0000       Memphis 20093064.0000  \n169 250.0000           NaN 22970500.0000  \n251 265.0000           NaN 22359364.0000  \n339 235.0000  Georgia Tech 22192730.0000  \n414 240.0000         Texas 20158622.0000  "
          },
          "metadata": {}
        }
      ]
    },
    {
      "metadata": {
        "trusted": true
      },
      "cell_type": "code",
      "source": "# AND condition\n#    note: additional brackets are needed for each boolean output.\ndt_nba[(dt_nba[\"Salary\"] > 20000000) & (dt_nba[\"Age\"]<=31)]",
      "execution_count": 5,
      "outputs": [
        {
          "output_type": "execute_result",
          "execution_count": 5,
          "data": {
            "text/html": "<div>\n<style scoped>\n    .dataframe tbody tr th:only-of-type {\n        vertical-align: middle;\n    }\n\n    .dataframe tbody tr th {\n        vertical-align: top;\n    }\n\n    .dataframe thead th {\n        text-align: right;\n    }\n</style>\n<table border=\"1\" class=\"dataframe\">\n  <thead>\n    <tr style=\"text-align: right;\">\n      <th></th>\n      <th>Name</th>\n      <th>Team</th>\n      <th>Number</th>\n      <th>Position</th>\n      <th>Age</th>\n      <th>Height</th>\n      <th>Weight</th>\n      <th>College</th>\n      <th>Salary</th>\n    </tr>\n  </thead>\n  <tbody>\n    <tr>\n      <th>100</th>\n      <td>Chris Paul</td>\n      <td>Los Angeles Clippers</td>\n      <td>3.0000</td>\n      <td>PG</td>\n      <td>31.0000</td>\n      <td>6-0</td>\n      <td>175.0000</td>\n      <td>Wake Forest</td>\n      <td>21468695.0000</td>\n    </tr>\n    <tr>\n      <th>164</th>\n      <td>Derrick Rose</td>\n      <td>Chicago Bulls</td>\n      <td>1.0000</td>\n      <td>PG</td>\n      <td>27.0000</td>\n      <td>6-3</td>\n      <td>190.0000</td>\n      <td>Memphis</td>\n      <td>20093064.0000</td>\n    </tr>\n    <tr>\n      <th>169</th>\n      <td>LeBron James</td>\n      <td>Cleveland Cavaliers</td>\n      <td>23.0000</td>\n      <td>SF</td>\n      <td>31.0000</td>\n      <td>6-8</td>\n      <td>250.0000</td>\n      <td>NaN</td>\n      <td>22970500.0000</td>\n    </tr>\n    <tr>\n      <th>251</th>\n      <td>Dwight Howard</td>\n      <td>Houston Rockets</td>\n      <td>12.0000</td>\n      <td>C</td>\n      <td>30.0000</td>\n      <td>6-11</td>\n      <td>265.0000</td>\n      <td>NaN</td>\n      <td>22359364.0000</td>\n    </tr>\n    <tr>\n      <th>414</th>\n      <td>Kevin Durant</td>\n      <td>Oklahoma City Thunder</td>\n      <td>35.0000</td>\n      <td>SF</td>\n      <td>27.0000</td>\n      <td>6-9</td>\n      <td>240.0000</td>\n      <td>Texas</td>\n      <td>20158622.0000</td>\n    </tr>\n  </tbody>\n</table>\n</div>",
            "text/plain": "              Name                   Team  Number Position     Age Height  \\\n100     Chris Paul   Los Angeles Clippers  3.0000       PG 31.0000    6-0   \n164   Derrick Rose          Chicago Bulls  1.0000       PG 27.0000    6-3   \n169   LeBron James    Cleveland Cavaliers 23.0000       SF 31.0000    6-8   \n251  Dwight Howard        Houston Rockets 12.0000        C 30.0000   6-11   \n414   Kevin Durant  Oklahoma City Thunder 35.0000       SF 27.0000    6-9   \n\n      Weight      College        Salary  \n100 175.0000  Wake Forest 21468695.0000  \n164 190.0000      Memphis 20093064.0000  \n169 250.0000          NaN 22970500.0000  \n251 265.0000          NaN 22359364.0000  \n414 240.0000        Texas 20158622.0000  "
          },
          "metadata": {}
        }
      ]
    },
    {
      "metadata": {
        "trusted": true
      },
      "cell_type": "code",
      "source": "# AND condition using variables\nmask1 = dt_nba[\"Salary\"] > 20000000\nmask2 = dt_nba[\"Age\"]<=30\n\nmask2.head()",
      "execution_count": 6,
      "outputs": [
        {
          "output_type": "execute_result",
          "execution_count": 6,
          "data": {
            "text/plain": "0    True\n1    True\n2    True\n3    True\n4    True\nName: Age, dtype: bool"
          },
          "metadata": {}
        }
      ]
    },
    {
      "metadata": {
        "trusted": true
      },
      "cell_type": "code",
      "source": "# &  = AND\n# |  = OR\n\ndt_nba[mask1 & mask2]",
      "execution_count": 7,
      "outputs": [
        {
          "output_type": "execute_result",
          "execution_count": 7,
          "data": {
            "text/html": "<div>\n<style scoped>\n    .dataframe tbody tr th:only-of-type {\n        vertical-align: middle;\n    }\n\n    .dataframe tbody tr th {\n        vertical-align: top;\n    }\n\n    .dataframe thead th {\n        text-align: right;\n    }\n</style>\n<table border=\"1\" class=\"dataframe\">\n  <thead>\n    <tr style=\"text-align: right;\">\n      <th></th>\n      <th>Name</th>\n      <th>Team</th>\n      <th>Number</th>\n      <th>Position</th>\n      <th>Age</th>\n      <th>Height</th>\n      <th>Weight</th>\n      <th>College</th>\n      <th>Salary</th>\n    </tr>\n  </thead>\n  <tbody>\n    <tr>\n      <th>164</th>\n      <td>Derrick Rose</td>\n      <td>Chicago Bulls</td>\n      <td>1.0000</td>\n      <td>PG</td>\n      <td>27.0000</td>\n      <td>6-3</td>\n      <td>190.0000</td>\n      <td>Memphis</td>\n      <td>20093064.0000</td>\n    </tr>\n    <tr>\n      <th>251</th>\n      <td>Dwight Howard</td>\n      <td>Houston Rockets</td>\n      <td>12.0000</td>\n      <td>C</td>\n      <td>30.0000</td>\n      <td>6-11</td>\n      <td>265.0000</td>\n      <td>NaN</td>\n      <td>22359364.0000</td>\n    </tr>\n    <tr>\n      <th>414</th>\n      <td>Kevin Durant</td>\n      <td>Oklahoma City Thunder</td>\n      <td>35.0000</td>\n      <td>SF</td>\n      <td>27.0000</td>\n      <td>6-9</td>\n      <td>240.0000</td>\n      <td>Texas</td>\n      <td>20158622.0000</td>\n    </tr>\n  </tbody>\n</table>\n</div>",
            "text/plain": "              Name                   Team  Number Position     Age Height  \\\n164   Derrick Rose          Chicago Bulls  1.0000       PG 27.0000    6-3   \n251  Dwight Howard        Houston Rockets 12.0000        C 30.0000   6-11   \n414   Kevin Durant  Oklahoma City Thunder 35.0000       SF 27.0000    6-9   \n\n      Weight  College        Salary  \n164 190.0000  Memphis 20093064.0000  \n251 265.0000      NaN 22359364.0000  \n414 240.0000    Texas 20158622.0000  "
          },
          "metadata": {}
        }
      ]
    },
    {
      "metadata": {},
      "cell_type": "markdown",
      "source": "##  Filter : Query function (string)"
    },
    {
      "metadata": {
        "trusted": true
      },
      "cell_type": "code",
      "source": "dt_nba.query(\"Salary > 20000000 and Age <=31\")",
      "execution_count": 8,
      "outputs": [
        {
          "output_type": "execute_result",
          "execution_count": 8,
          "data": {
            "text/html": "<div>\n<style scoped>\n    .dataframe tbody tr th:only-of-type {\n        vertical-align: middle;\n    }\n\n    .dataframe tbody tr th {\n        vertical-align: top;\n    }\n\n    .dataframe thead th {\n        text-align: right;\n    }\n</style>\n<table border=\"1\" class=\"dataframe\">\n  <thead>\n    <tr style=\"text-align: right;\">\n      <th></th>\n      <th>Name</th>\n      <th>Team</th>\n      <th>Number</th>\n      <th>Position</th>\n      <th>Age</th>\n      <th>Height</th>\n      <th>Weight</th>\n      <th>College</th>\n      <th>Salary</th>\n    </tr>\n  </thead>\n  <tbody>\n    <tr>\n      <th>100</th>\n      <td>Chris Paul</td>\n      <td>Los Angeles Clippers</td>\n      <td>3.0000</td>\n      <td>PG</td>\n      <td>31.0000</td>\n      <td>6-0</td>\n      <td>175.0000</td>\n      <td>Wake Forest</td>\n      <td>21468695.0000</td>\n    </tr>\n    <tr>\n      <th>164</th>\n      <td>Derrick Rose</td>\n      <td>Chicago Bulls</td>\n      <td>1.0000</td>\n      <td>PG</td>\n      <td>27.0000</td>\n      <td>6-3</td>\n      <td>190.0000</td>\n      <td>Memphis</td>\n      <td>20093064.0000</td>\n    </tr>\n    <tr>\n      <th>169</th>\n      <td>LeBron James</td>\n      <td>Cleveland Cavaliers</td>\n      <td>23.0000</td>\n      <td>SF</td>\n      <td>31.0000</td>\n      <td>6-8</td>\n      <td>250.0000</td>\n      <td>NaN</td>\n      <td>22970500.0000</td>\n    </tr>\n    <tr>\n      <th>251</th>\n      <td>Dwight Howard</td>\n      <td>Houston Rockets</td>\n      <td>12.0000</td>\n      <td>C</td>\n      <td>30.0000</td>\n      <td>6-11</td>\n      <td>265.0000</td>\n      <td>NaN</td>\n      <td>22359364.0000</td>\n    </tr>\n    <tr>\n      <th>414</th>\n      <td>Kevin Durant</td>\n      <td>Oklahoma City Thunder</td>\n      <td>35.0000</td>\n      <td>SF</td>\n      <td>27.0000</td>\n      <td>6-9</td>\n      <td>240.0000</td>\n      <td>Texas</td>\n      <td>20158622.0000</td>\n    </tr>\n  </tbody>\n</table>\n</div>",
            "text/plain": "              Name                   Team  Number Position     Age Height  \\\n100     Chris Paul   Los Angeles Clippers  3.0000       PG 31.0000    6-0   \n164   Derrick Rose          Chicago Bulls  1.0000       PG 27.0000    6-3   \n169   LeBron James    Cleveland Cavaliers 23.0000       SF 31.0000    6-8   \n251  Dwight Howard        Houston Rockets 12.0000        C 30.0000   6-11   \n414   Kevin Durant  Oklahoma City Thunder 35.0000       SF 27.0000    6-9   \n\n      Weight      College        Salary  \n100 175.0000  Wake Forest 21468695.0000  \n164 190.0000      Memphis 20093064.0000  \n169 250.0000          NaN 22970500.0000  \n251 265.0000          NaN 22359364.0000  \n414 240.0000        Texas 20158622.0000  "
          },
          "metadata": {}
        }
      ]
    },
    {
      "metadata": {},
      "cell_type": "markdown",
      "source": "## Filter : IN condition"
    },
    {
      "metadata": {
        "trusted": true
      },
      "cell_type": "code",
      "source": "mask_college = dt_nba[\"College\"].isin([\"LSU\",\"Texas\",\"Memphis\"])\nmask_position = dt_nba[\"Position\"].isin([\"PG\",\"SF\"])\n\ndt_nba[mask_college & mask_position]\n",
      "execution_count": 9,
      "outputs": [
        {
          "output_type": "execute_result",
          "execution_count": 9,
          "data": {
            "text/html": "<div>\n<style scoped>\n    .dataframe tbody tr th:only-of-type {\n        vertical-align: middle;\n    }\n\n    .dataframe tbody tr th {\n        vertical-align: top;\n    }\n\n    .dataframe thead th {\n        text-align: right;\n    }\n</style>\n<table border=\"1\" class=\"dataframe\">\n  <thead>\n    <tr style=\"text-align: right;\">\n      <th></th>\n      <th>Name</th>\n      <th>Team</th>\n      <th>Number</th>\n      <th>Position</th>\n      <th>Age</th>\n      <th>Height</th>\n      <th>Weight</th>\n      <th>College</th>\n      <th>Salary</th>\n    </tr>\n  </thead>\n  <tbody>\n    <tr>\n      <th>0</th>\n      <td>Avery Bradley</td>\n      <td>Boston Celtics</td>\n      <td>0.0000</td>\n      <td>PG</td>\n      <td>25.0000</td>\n      <td>6-2</td>\n      <td>180.0000</td>\n      <td>Texas</td>\n      <td>7730337.0000</td>\n    </tr>\n    <tr>\n      <th>66</th>\n      <td>Cory Joseph</td>\n      <td>Toronto Raptors</td>\n      <td>6.0000</td>\n      <td>PG</td>\n      <td>24.0000</td>\n      <td>6-3</td>\n      <td>190.0000</td>\n      <td>Texas</td>\n      <td>7000000.0000</td>\n    </tr>\n    <tr>\n      <th>133</th>\n      <td>P.J. Tucker</td>\n      <td>Phoenix Suns</td>\n      <td>17.0000</td>\n      <td>SF</td>\n      <td>31.0000</td>\n      <td>6-6</td>\n      <td>245.0000</td>\n      <td>Texas</td>\n      <td>5500000.0000</td>\n    </tr>\n    <tr>\n      <th>164</th>\n      <td>Derrick Rose</td>\n      <td>Chicago Bulls</td>\n      <td>1.0000</td>\n      <td>PG</td>\n      <td>27.0000</td>\n      <td>6-3</td>\n      <td>190.0000</td>\n      <td>Memphis</td>\n      <td>20093064.0000</td>\n    </tr>\n    <tr>\n      <th>381</th>\n      <td>Marcus Thornton</td>\n      <td>Washington Wizards</td>\n      <td>15.0000</td>\n      <td>SF</td>\n      <td>29.0000</td>\n      <td>6-4</td>\n      <td>205.0000</td>\n      <td>LSU</td>\n      <td>200600.0000</td>\n    </tr>\n    <tr>\n      <th>384</th>\n      <td>D.J. Augustin</td>\n      <td>Denver Nuggets</td>\n      <td>12.0000</td>\n      <td>PG</td>\n      <td>28.0000</td>\n      <td>6-0</td>\n      <td>183.0000</td>\n      <td>Texas</td>\n      <td>3000000.0000</td>\n    </tr>\n    <tr>\n      <th>385</th>\n      <td>Will Barton</td>\n      <td>Denver Nuggets</td>\n      <td>5.0000</td>\n      <td>SF</td>\n      <td>25.0000</td>\n      <td>6-6</td>\n      <td>175.0000</td>\n      <td>Memphis</td>\n      <td>3533333.0000</td>\n    </tr>\n    <tr>\n      <th>414</th>\n      <td>Kevin Durant</td>\n      <td>Oklahoma City Thunder</td>\n      <td>35.0000</td>\n      <td>SF</td>\n      <td>27.0000</td>\n      <td>6-9</td>\n      <td>240.0000</td>\n      <td>Texas</td>\n      <td>20158622.0000</td>\n    </tr>\n  </tbody>\n</table>\n</div>",
            "text/plain": "                Name                   Team  Number Position     Age Height  \\\n0      Avery Bradley         Boston Celtics  0.0000       PG 25.0000    6-2   \n66       Cory Joseph        Toronto Raptors  6.0000       PG 24.0000    6-3   \n133      P.J. Tucker           Phoenix Suns 17.0000       SF 31.0000    6-6   \n164     Derrick Rose          Chicago Bulls  1.0000       PG 27.0000    6-3   \n381  Marcus Thornton     Washington Wizards 15.0000       SF 29.0000    6-4   \n384    D.J. Augustin         Denver Nuggets 12.0000       PG 28.0000    6-0   \n385      Will Barton         Denver Nuggets  5.0000       SF 25.0000    6-6   \n414     Kevin Durant  Oklahoma City Thunder 35.0000       SF 27.0000    6-9   \n\n      Weight  College        Salary  \n0   180.0000    Texas  7730337.0000  \n66  190.0000    Texas  7000000.0000  \n133 245.0000    Texas  5500000.0000  \n164 190.0000  Memphis 20093064.0000  \n381 205.0000      LSU   200600.0000  \n384 183.0000    Texas  3000000.0000  \n385 175.0000  Memphis  3533333.0000  \n414 240.0000    Texas 20158622.0000  "
          },
          "metadata": {}
        }
      ]
    },
    {
      "metadata": {},
      "cell_type": "markdown",
      "source": "## Filter : ISNULL / NOTNULL"
    },
    {
      "metadata": {
        "trusted": true
      },
      "cell_type": "code",
      "source": "mask_has_college = dt_nba[\"College\"].notnull()\nmask_no_salary = dt_nba[\"Salary\"].isnull()\n\ndt_nba[mask_has_college & mask_no_salary]",
      "execution_count": 10,
      "outputs": [
        {
          "output_type": "execute_result",
          "execution_count": 10,
          "data": {
            "text/html": "<div>\n<style scoped>\n    .dataframe tbody tr th:only-of-type {\n        vertical-align: middle;\n    }\n\n    .dataframe tbody tr th {\n        vertical-align: top;\n    }\n\n    .dataframe thead th {\n        text-align: right;\n    }\n</style>\n<table border=\"1\" class=\"dataframe\">\n  <thead>\n    <tr style=\"text-align: right;\">\n      <th></th>\n      <th>Name</th>\n      <th>Team</th>\n      <th>Number</th>\n      <th>Position</th>\n      <th>Age</th>\n      <th>Height</th>\n      <th>Weight</th>\n      <th>College</th>\n      <th>Salary</th>\n    </tr>\n  </thead>\n  <tbody>\n    <tr>\n      <th>2</th>\n      <td>John Holland</td>\n      <td>Boston Celtics</td>\n      <td>30.0000</td>\n      <td>SG</td>\n      <td>27.0000</td>\n      <td>6-5</td>\n      <td>205.0000</td>\n      <td>Boston University</td>\n      <td>nan</td>\n    </tr>\n    <tr>\n      <th>46</th>\n      <td>Elton Brand</td>\n      <td>Philadelphia 76ers</td>\n      <td>42.0000</td>\n      <td>PF</td>\n      <td>37.0000</td>\n      <td>6-9</td>\n      <td>254.0000</td>\n      <td>Duke</td>\n      <td>nan</td>\n    </tr>\n    <tr>\n      <th>171</th>\n      <td>Dahntay Jones</td>\n      <td>Cleveland Cavaliers</td>\n      <td>30.0000</td>\n      <td>SG</td>\n      <td>35.0000</td>\n      <td>6-6</td>\n      <td>225.0000</td>\n      <td>Duke</td>\n      <td>nan</td>\n    </tr>\n    <tr>\n      <th>264</th>\n      <td>Jordan Farmar</td>\n      <td>Memphis Grizzlies</td>\n      <td>4.0000</td>\n      <td>PG</td>\n      <td>29.0000</td>\n      <td>6-2</td>\n      <td>180.0000</td>\n      <td>UCLA</td>\n      <td>nan</td>\n    </tr>\n    <tr>\n      <th>269</th>\n      <td>Ray McCallum</td>\n      <td>Memphis Grizzlies</td>\n      <td>5.0000</td>\n      <td>PG</td>\n      <td>24.0000</td>\n      <td>6-3</td>\n      <td>190.0000</td>\n      <td>Detroit</td>\n      <td>nan</td>\n    </tr>\n    <tr>\n      <th>270</th>\n      <td>Xavier Munford</td>\n      <td>Memphis Grizzlies</td>\n      <td>14.0000</td>\n      <td>PG</td>\n      <td>24.0000</td>\n      <td>6-3</td>\n      <td>180.0000</td>\n      <td>Rhode Island</td>\n      <td>nan</td>\n    </tr>\n    <tr>\n      <th>273</th>\n      <td>Alex Stepheson</td>\n      <td>Memphis Grizzlies</td>\n      <td>35.0000</td>\n      <td>PF</td>\n      <td>28.0000</td>\n      <td>6-10</td>\n      <td>270.0000</td>\n      <td>USC</td>\n      <td>nan</td>\n    </tr>\n    <tr>\n      <th>350</th>\n      <td>Briante Weber</td>\n      <td>Miami Heat</td>\n      <td>12.0000</td>\n      <td>PG</td>\n      <td>23.0000</td>\n      <td>6-2</td>\n      <td>165.0000</td>\n      <td>Virginia Commonwealth</td>\n      <td>nan</td>\n    </tr>\n    <tr>\n      <th>409</th>\n      <td>Greg Smith</td>\n      <td>Minnesota Timberwolves</td>\n      <td>4.0000</td>\n      <td>PF</td>\n      <td>25.0000</td>\n      <td>6-10</td>\n      <td>250.0000</td>\n      <td>Fresno State</td>\n      <td>nan</td>\n    </tr>\n  </tbody>\n</table>\n</div>",
            "text/plain": "               Name                    Team  Number Position     Age Height  \\\n2      John Holland          Boston Celtics 30.0000       SG 27.0000    6-5   \n46      Elton Brand      Philadelphia 76ers 42.0000       PF 37.0000    6-9   \n171   Dahntay Jones     Cleveland Cavaliers 30.0000       SG 35.0000    6-6   \n264   Jordan Farmar       Memphis Grizzlies  4.0000       PG 29.0000    6-2   \n269    Ray McCallum       Memphis Grizzlies  5.0000       PG 24.0000    6-3   \n270  Xavier Munford       Memphis Grizzlies 14.0000       PG 24.0000    6-3   \n273  Alex Stepheson       Memphis Grizzlies 35.0000       PF 28.0000   6-10   \n350   Briante Weber              Miami Heat 12.0000       PG 23.0000    6-2   \n409      Greg Smith  Minnesota Timberwolves  4.0000       PF 25.0000   6-10   \n\n      Weight                College  Salary  \n2   205.0000      Boston University     nan  \n46  254.0000                   Duke     nan  \n171 225.0000                   Duke     nan  \n264 180.0000                   UCLA     nan  \n269 190.0000                Detroit     nan  \n270 180.0000           Rhode Island     nan  \n273 270.0000                    USC     nan  \n350 165.0000  Virginia Commonwealth     nan  \n409 250.0000           Fresno State     nan  "
          },
          "metadata": {}
        }
      ]
    },
    {
      "metadata": {},
      "cell_type": "markdown",
      "source": "## Filter : Between"
    },
    {
      "metadata": {
        "trusted": true
      },
      "cell_type": "code",
      "source": "mask_salary_range = dt_nba[\"Age\"].between(21,23)\n\ndt_nba[mask_salary_range].head(10)",
      "execution_count": 11,
      "outputs": [
        {
          "output_type": "execute_result",
          "execution_count": 11,
          "data": {
            "text/html": "<div>\n<style scoped>\n    .dataframe tbody tr th:only-of-type {\n        vertical-align: middle;\n    }\n\n    .dataframe tbody tr th {\n        vertical-align: top;\n    }\n\n    .dataframe thead th {\n        text-align: right;\n    }\n</style>\n<table border=\"1\" class=\"dataframe\">\n  <thead>\n    <tr style=\"text-align: right;\">\n      <th></th>\n      <th>Name</th>\n      <th>Team</th>\n      <th>Number</th>\n      <th>Position</th>\n      <th>Age</th>\n      <th>Height</th>\n      <th>Weight</th>\n      <th>College</th>\n      <th>Salary</th>\n    </tr>\n  </thead>\n  <tbody>\n    <tr>\n      <th>3</th>\n      <td>R.J. Hunter</td>\n      <td>Boston Celtics</td>\n      <td>28.0000</td>\n      <td>SG</td>\n      <td>22.0000</td>\n      <td>6-5</td>\n      <td>185.0000</td>\n      <td>Georgia State</td>\n      <td>1148640.0000</td>\n    </tr>\n    <tr>\n      <th>6</th>\n      <td>Jordan Mickey</td>\n      <td>Boston Celtics</td>\n      <td>55.0000</td>\n      <td>PF</td>\n      <td>21.0000</td>\n      <td>6-8</td>\n      <td>235.0000</td>\n      <td>LSU</td>\n      <td>1170960.0000</td>\n    </tr>\n    <tr>\n      <th>8</th>\n      <td>Terry Rozier</td>\n      <td>Boston Celtics</td>\n      <td>12.0000</td>\n      <td>PG</td>\n      <td>22.0000</td>\n      <td>6-2</td>\n      <td>190.0000</td>\n      <td>Louisville</td>\n      <td>1824360.0000</td>\n    </tr>\n    <tr>\n      <th>9</th>\n      <td>Marcus Smart</td>\n      <td>Boston Celtics</td>\n      <td>36.0000</td>\n      <td>PG</td>\n      <td>22.0000</td>\n      <td>6-4</td>\n      <td>220.0000</td>\n      <td>Oklahoma State</td>\n      <td>3431040.0000</td>\n    </tr>\n    <tr>\n      <th>18</th>\n      <td>Rondae Hollis-Jefferson</td>\n      <td>Brooklyn Nets</td>\n      <td>24.0000</td>\n      <td>SG</td>\n      <td>21.0000</td>\n      <td>6-7</td>\n      <td>220.0000</td>\n      <td>Arizona</td>\n      <td>1335480.0000</td>\n    </tr>\n    <tr>\n      <th>20</th>\n      <td>Sergey Karasev</td>\n      <td>Brooklyn Nets</td>\n      <td>10.0000</td>\n      <td>SG</td>\n      <td>22.0000</td>\n      <td>6-7</td>\n      <td>208.0000</td>\n      <td>NaN</td>\n      <td>1599840.0000</td>\n    </tr>\n    <tr>\n      <th>22</th>\n      <td>Shane Larkin</td>\n      <td>Brooklyn Nets</td>\n      <td>0.0000</td>\n      <td>PG</td>\n      <td>23.0000</td>\n      <td>5-11</td>\n      <td>175.0000</td>\n      <td>Miami (FL)</td>\n      <td>1500000.0000</td>\n    </tr>\n    <tr>\n      <th>24</th>\n      <td>Chris McCullough</td>\n      <td>Brooklyn Nets</td>\n      <td>1.0000</td>\n      <td>PF</td>\n      <td>21.0000</td>\n      <td>6-11</td>\n      <td>200.0000</td>\n      <td>Syracuse</td>\n      <td>1140240.0000</td>\n    </tr>\n    <tr>\n      <th>32</th>\n      <td>Thanasis Antetokounmpo</td>\n      <td>New York Knicks</td>\n      <td>43.0000</td>\n      <td>SF</td>\n      <td>23.0000</td>\n      <td>6-7</td>\n      <td>205.0000</td>\n      <td>NaN</td>\n      <td>30888.0000</td>\n    </tr>\n    <tr>\n      <th>37</th>\n      <td>Jerian Grant</td>\n      <td>New York Knicks</td>\n      <td>13.0000</td>\n      <td>PG</td>\n      <td>23.0000</td>\n      <td>6-4</td>\n      <td>195.0000</td>\n      <td>Notre Dame</td>\n      <td>1572360.0000</td>\n    </tr>\n  </tbody>\n</table>\n</div>",
            "text/plain": "                       Name             Team  Number Position     Age Height  \\\n3               R.J. Hunter   Boston Celtics 28.0000       SG 22.0000    6-5   \n6             Jordan Mickey   Boston Celtics 55.0000       PF 21.0000    6-8   \n8              Terry Rozier   Boston Celtics 12.0000       PG 22.0000    6-2   \n9              Marcus Smart   Boston Celtics 36.0000       PG 22.0000    6-4   \n18  Rondae Hollis-Jefferson    Brooklyn Nets 24.0000       SG 21.0000    6-7   \n20           Sergey Karasev    Brooklyn Nets 10.0000       SG 22.0000    6-7   \n22             Shane Larkin    Brooklyn Nets  0.0000       PG 23.0000   5-11   \n24         Chris McCullough    Brooklyn Nets  1.0000       PF 21.0000   6-11   \n32   Thanasis Antetokounmpo  New York Knicks 43.0000       SF 23.0000    6-7   \n37             Jerian Grant  New York Knicks 13.0000       PG 23.0000    6-4   \n\n     Weight         College       Salary  \n3  185.0000   Georgia State 1148640.0000  \n6  235.0000             LSU 1170960.0000  \n8  190.0000      Louisville 1824360.0000  \n9  220.0000  Oklahoma State 3431040.0000  \n18 220.0000         Arizona 1335480.0000  \n20 208.0000             NaN 1599840.0000  \n22 175.0000      Miami (FL) 1500000.0000  \n24 200.0000        Syracuse 1140240.0000  \n32 205.0000             NaN   30888.0000  \n37 195.0000      Notre Dame 1572360.0000  "
          },
          "metadata": {}
        }
      ]
    },
    {
      "metadata": {},
      "cell_type": "markdown",
      "source": "## Find Duplicates"
    },
    {
      "metadata": {
        "trusted": true
      },
      "cell_type": "code",
      "source": "# Note :  ~ = NOT\n\nmask_no_duplicate_college =  ~dt_nba[\"College\"].duplicated()\n\ndt_nba[mask_no_duplicate_college].sort_values(\"College\").head(10)",
      "execution_count": 12,
      "outputs": [
        {
          "output_type": "execute_result",
          "execution_count": 12,
          "data": {
            "text/html": "<div>\n<style scoped>\n    .dataframe tbody tr th:only-of-type {\n        vertical-align: middle;\n    }\n\n    .dataframe tbody tr th {\n        vertical-align: top;\n    }\n\n    .dataframe thead th {\n        text-align: right;\n    }\n</style>\n<table border=\"1\" class=\"dataframe\">\n  <thead>\n    <tr style=\"text-align: right;\">\n      <th></th>\n      <th>Name</th>\n      <th>Team</th>\n      <th>Number</th>\n      <th>Position</th>\n      <th>Age</th>\n      <th>Height</th>\n      <th>Weight</th>\n      <th>College</th>\n      <th>Salary</th>\n    </tr>\n  </thead>\n  <tbody>\n    <tr>\n      <th>180</th>\n      <td>Mo Williams</td>\n      <td>Cleveland Cavaliers</td>\n      <td>52.0000</td>\n      <td>PG</td>\n      <td>33.0000</td>\n      <td>6-1</td>\n      <td>198.0000</td>\n      <td>Alabama</td>\n      <td>2100000.0000</td>\n    </tr>\n    <tr>\n      <th>18</th>\n      <td>Rondae Hollis-Jefferson</td>\n      <td>Brooklyn Nets</td>\n      <td>24.0000</td>\n      <td>SG</td>\n      <td>21.0000</td>\n      <td>6-7</td>\n      <td>220.0000</td>\n      <td>Arizona</td>\n      <td>1335480.0000</td>\n    </tr>\n    <tr>\n      <th>92</th>\n      <td>Jeff Ayres</td>\n      <td>Los Angeles Clippers</td>\n      <td>19.0000</td>\n      <td>PF</td>\n      <td>29.0000</td>\n      <td>6-9</td>\n      <td>250.0000</td>\n      <td>Arizona State</td>\n      <td>111444.0000</td>\n    </tr>\n    <tr>\n      <th>163</th>\n      <td>Bobby Portis</td>\n      <td>Chicago Bulls</td>\n      <td>5.0000</td>\n      <td>PF</td>\n      <td>21.0000</td>\n      <td>6-11</td>\n      <td>230.0000</td>\n      <td>Arkansas</td>\n      <td>1391160.0000</td>\n    </tr>\n    <tr>\n      <th>136</th>\n      <td>Quincy Acy</td>\n      <td>Sacramento Kings</td>\n      <td>13.0000</td>\n      <td>SF</td>\n      <td>25.0000</td>\n      <td>6-7</td>\n      <td>240.0000</td>\n      <td>Baylor</td>\n      <td>981348.0000</td>\n    </tr>\n    <tr>\n      <th>79</th>\n      <td>Ian Clark</td>\n      <td>Golden State Warriors</td>\n      <td>21.0000</td>\n      <td>SG</td>\n      <td>25.0000</td>\n      <td>6-3</td>\n      <td>175.0000</td>\n      <td>Belmont</td>\n      <td>947276.0000</td>\n    </tr>\n    <tr>\n      <th>259</th>\n      <td>Chris Andersen</td>\n      <td>Memphis Grizzlies</td>\n      <td>7.0000</td>\n      <td>PF</td>\n      <td>37.0000</td>\n      <td>6-10</td>\n      <td>245.0000</td>\n      <td>Blinn College</td>\n      <td>5000000.0000</td>\n    </tr>\n    <tr>\n      <th>191</th>\n      <td>Reggie Jackson</td>\n      <td>Detroit Pistons</td>\n      <td>1.0000</td>\n      <td>PG</td>\n      <td>26.0000</td>\n      <td>6-3</td>\n      <td>208.0000</td>\n      <td>Boston College</td>\n      <td>13913044.0000</td>\n    </tr>\n    <tr>\n      <th>2</th>\n      <td>John Holland</td>\n      <td>Boston Celtics</td>\n      <td>30.0000</td>\n      <td>SG</td>\n      <td>27.0000</td>\n      <td>6-5</td>\n      <td>205.0000</td>\n      <td>Boston University</td>\n      <td>nan</td>\n    </tr>\n    <tr>\n      <th>51</th>\n      <td>Richaun Holmes</td>\n      <td>Philadelphia 76ers</td>\n      <td>22.0000</td>\n      <td>PF</td>\n      <td>22.0000</td>\n      <td>6-10</td>\n      <td>245.0000</td>\n      <td>Bowling Green</td>\n      <td>1074169.0000</td>\n    </tr>\n  </tbody>\n</table>\n</div>",
            "text/plain": "                        Name                   Team  Number Position     Age  \\\n180              Mo Williams    Cleveland Cavaliers 52.0000       PG 33.0000   \n18   Rondae Hollis-Jefferson          Brooklyn Nets 24.0000       SG 21.0000   \n92                Jeff Ayres   Los Angeles Clippers 19.0000       PF 29.0000   \n163             Bobby Portis          Chicago Bulls  5.0000       PF 21.0000   \n136               Quincy Acy       Sacramento Kings 13.0000       SF 25.0000   \n79                 Ian Clark  Golden State Warriors 21.0000       SG 25.0000   \n259           Chris Andersen      Memphis Grizzlies  7.0000       PF 37.0000   \n191           Reggie Jackson        Detroit Pistons  1.0000       PG 26.0000   \n2               John Holland         Boston Celtics 30.0000       SG 27.0000   \n51            Richaun Holmes     Philadelphia 76ers 22.0000       PF 22.0000   \n\n    Height   Weight            College        Salary  \n180    6-1 198.0000            Alabama  2100000.0000  \n18     6-7 220.0000            Arizona  1335480.0000  \n92     6-9 250.0000      Arizona State   111444.0000  \n163   6-11 230.0000           Arkansas  1391160.0000  \n136    6-7 240.0000             Baylor   981348.0000  \n79     6-3 175.0000            Belmont   947276.0000  \n259   6-10 245.0000      Blinn College  5000000.0000  \n191    6-3 208.0000     Boston College 13913044.0000  \n2      6-5 205.0000  Boston University           nan  \n51    6-10 245.0000      Bowling Green  1074169.0000  "
          },
          "metadata": {}
        }
      ]
    },
    {
      "metadata": {},
      "cell_type": "markdown",
      "source": "## Find Duplicates and Drop them"
    },
    {
      "metadata": {
        "trusted": true
      },
      "cell_type": "code",
      "source": "dt_nba.drop_duplicates(subset=[\"Position\",\"Team\"], keep=\"first\").head(10)",
      "execution_count": 13,
      "outputs": [
        {
          "output_type": "execute_result",
          "execution_count": 13,
          "data": {
            "text/html": "<div>\n<style scoped>\n    .dataframe tbody tr th:only-of-type {\n        vertical-align: middle;\n    }\n\n    .dataframe tbody tr th {\n        vertical-align: top;\n    }\n\n    .dataframe thead th {\n        text-align: right;\n    }\n</style>\n<table border=\"1\" class=\"dataframe\">\n  <thead>\n    <tr style=\"text-align: right;\">\n      <th></th>\n      <th>Name</th>\n      <th>Team</th>\n      <th>Number</th>\n      <th>Position</th>\n      <th>Age</th>\n      <th>Height</th>\n      <th>Weight</th>\n      <th>College</th>\n      <th>Salary</th>\n    </tr>\n  </thead>\n  <tbody>\n    <tr>\n      <th>0</th>\n      <td>Avery Bradley</td>\n      <td>Boston Celtics</td>\n      <td>0.0000</td>\n      <td>PG</td>\n      <td>25.0000</td>\n      <td>6-2</td>\n      <td>180.0000</td>\n      <td>Texas</td>\n      <td>7730337.0000</td>\n    </tr>\n    <tr>\n      <th>1</th>\n      <td>Jae Crowder</td>\n      <td>Boston Celtics</td>\n      <td>99.0000</td>\n      <td>SF</td>\n      <td>25.0000</td>\n      <td>6-6</td>\n      <td>235.0000</td>\n      <td>Marquette</td>\n      <td>6796117.0000</td>\n    </tr>\n    <tr>\n      <th>2</th>\n      <td>John Holland</td>\n      <td>Boston Celtics</td>\n      <td>30.0000</td>\n      <td>SG</td>\n      <td>27.0000</td>\n      <td>6-5</td>\n      <td>205.0000</td>\n      <td>Boston University</td>\n      <td>nan</td>\n    </tr>\n    <tr>\n      <th>4</th>\n      <td>Jonas Jerebko</td>\n      <td>Boston Celtics</td>\n      <td>8.0000</td>\n      <td>PF</td>\n      <td>29.0000</td>\n      <td>6-10</td>\n      <td>231.0000</td>\n      <td>NaN</td>\n      <td>5000000.0000</td>\n    </tr>\n    <tr>\n      <th>7</th>\n      <td>Kelly Olynyk</td>\n      <td>Boston Celtics</td>\n      <td>41.0000</td>\n      <td>C</td>\n      <td>25.0000</td>\n      <td>7-0</td>\n      <td>238.0000</td>\n      <td>Gonzaga</td>\n      <td>2165160.0000</td>\n    </tr>\n    <tr>\n      <th>15</th>\n      <td>Bojan Bogdanovic</td>\n      <td>Brooklyn Nets</td>\n      <td>44.0000</td>\n      <td>SG</td>\n      <td>27.0000</td>\n      <td>6-8</td>\n      <td>216.0000</td>\n      <td>NaN</td>\n      <td>3425510.0000</td>\n    </tr>\n    <tr>\n      <th>19</th>\n      <td>Jarrett Jack</td>\n      <td>Brooklyn Nets</td>\n      <td>2.0000</td>\n      <td>PG</td>\n      <td>32.0000</td>\n      <td>6-3</td>\n      <td>200.0000</td>\n      <td>Georgia Tech</td>\n      <td>6300000.0000</td>\n    </tr>\n    <tr>\n      <th>23</th>\n      <td>Brook Lopez</td>\n      <td>Brooklyn Nets</td>\n      <td>11.0000</td>\n      <td>C</td>\n      <td>28.0000</td>\n      <td>7-0</td>\n      <td>275.0000</td>\n      <td>Stanford</td>\n      <td>19689000.0000</td>\n    </tr>\n    <tr>\n      <th>24</th>\n      <td>Chris McCullough</td>\n      <td>Brooklyn Nets</td>\n      <td>1.0000</td>\n      <td>PF</td>\n      <td>21.0000</td>\n      <td>6-11</td>\n      <td>200.0000</td>\n      <td>Syracuse</td>\n      <td>1140240.0000</td>\n    </tr>\n    <tr>\n      <th>30</th>\n      <td>Arron Afflalo</td>\n      <td>New York Knicks</td>\n      <td>4.0000</td>\n      <td>SG</td>\n      <td>30.0000</td>\n      <td>6-5</td>\n      <td>210.0000</td>\n      <td>UCLA</td>\n      <td>8000000.0000</td>\n    </tr>\n  </tbody>\n</table>\n</div>",
            "text/plain": "                Name             Team  Number Position     Age Height  \\\n0      Avery Bradley   Boston Celtics  0.0000       PG 25.0000    6-2   \n1        Jae Crowder   Boston Celtics 99.0000       SF 25.0000    6-6   \n2       John Holland   Boston Celtics 30.0000       SG 27.0000    6-5   \n4      Jonas Jerebko   Boston Celtics  8.0000       PF 29.0000   6-10   \n7       Kelly Olynyk   Boston Celtics 41.0000        C 25.0000    7-0   \n15  Bojan Bogdanovic    Brooklyn Nets 44.0000       SG 27.0000    6-8   \n19      Jarrett Jack    Brooklyn Nets  2.0000       PG 32.0000    6-3   \n23       Brook Lopez    Brooklyn Nets 11.0000        C 28.0000    7-0   \n24  Chris McCullough    Brooklyn Nets  1.0000       PF 21.0000   6-11   \n30     Arron Afflalo  New York Knicks  4.0000       SG 30.0000    6-5   \n\n     Weight            College        Salary  \n0  180.0000              Texas  7730337.0000  \n1  235.0000          Marquette  6796117.0000  \n2  205.0000  Boston University           nan  \n4  231.0000                NaN  5000000.0000  \n7  238.0000            Gonzaga  2165160.0000  \n15 216.0000                NaN  3425510.0000  \n19 200.0000       Georgia Tech  6300000.0000  \n23 275.0000           Stanford 19689000.0000  \n24 200.0000           Syracuse  1140240.0000  \n30 210.0000               UCLA  8000000.0000  "
          },
          "metadata": {}
        }
      ]
    },
    {
      "metadata": {},
      "cell_type": "markdown",
      "source": "### Unique Values"
    },
    {
      "metadata": {
        "trusted": true
      },
      "cell_type": "code",
      "source": "dt_nba[\"Team\"].unique()",
      "execution_count": 14,
      "outputs": [
        {
          "output_type": "execute_result",
          "execution_count": 14,
          "data": {
            "text/plain": "array(['Boston Celtics', 'Brooklyn Nets', 'New York Knicks',\n       'Philadelphia 76ers', 'Toronto Raptors', 'Golden State Warriors',\n       'Los Angeles Clippers', 'Los Angeles Lakers', 'Phoenix Suns',\n       'Sacramento Kings', 'Chicago Bulls', 'Cleveland Cavaliers',\n       'Detroit Pistons', 'Indiana Pacers', 'Milwaukee Bucks',\n       'Dallas Mavericks', 'Houston Rockets', 'Memphis Grizzlies',\n       'New Orleans Pelicans', 'San Antonio Spurs', 'Atlanta Hawks',\n       'Charlotte Hornets', 'Miami Heat', 'Orlando Magic',\n       'Washington Wizards', 'Denver Nuggets', 'Minnesota Timberwolves',\n       'Oklahoma City Thunder', 'Portland Trail Blazers', 'Utah Jazz'],\n      dtype=object)"
          },
          "metadata": {}
        }
      ]
    },
    {
      "metadata": {
        "trusted": true
      },
      "cell_type": "code",
      "source": "#number of unique values\ndt_nba[\"Team\"].nunique(dropna=False)  #note : NA is by default not counted.",
      "execution_count": 15,
      "outputs": [
        {
          "output_type": "execute_result",
          "execution_count": 15,
          "data": {
            "text/plain": "30"
          },
          "metadata": {}
        }
      ]
    }
  ],
  "metadata": {
    "kernelspec": {
      "name": "python36",
      "display_name": "Python 3.6",
      "language": "python"
    },
    "language_info": {
      "mimetype": "text/x-python",
      "nbconvert_exporter": "python",
      "name": "python",
      "pygments_lexer": "ipython3",
      "version": "3.6.6",
      "file_extension": ".py",
      "codemirror_mode": {
        "version": 3,
        "name": "ipython"
      }
    }
  },
  "nbformat": 4,
  "nbformat_minor": 2
}