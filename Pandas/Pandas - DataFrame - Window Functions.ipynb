{
  "cells": [
    {
      "metadata": {
        "collapsed": true
      },
      "cell_type": "markdown",
      "source": "# Python - Pandas - Data Frame - Window Function"
    },
    {
      "metadata": {
        "trusted": true
      },
      "cell_type": "code",
      "source": "import pandas as pd    #python data analysis\nimport numpy as np     #numeric python\nimport matplotlib.pyplot as plt\n%matplotlib inline\n\n#format settings\npd.options.display.float_format = '{:.4f}'.format\n\n#read from CSV\nstr_path_data = \"..//..//data//\"\ndt_nba = pd.read_csv(str_path_data + \"nba.csv\")\ndt_nba = dt_nba.dropna(how=\"all\") #remove all row where all data is null\ndt_nba.head(10)",
      "execution_count": 1,
      "outputs": [
        {
          "output_type": "execute_result",
          "execution_count": 1,
          "data": {
            "text/html": "<div>\n<style scoped>\n    .dataframe tbody tr th:only-of-type {\n        vertical-align: middle;\n    }\n\n    .dataframe tbody tr th {\n        vertical-align: top;\n    }\n\n    .dataframe thead th {\n        text-align: right;\n    }\n</style>\n<table border=\"1\" class=\"dataframe\">\n  <thead>\n    <tr style=\"text-align: right;\">\n      <th></th>\n      <th>Name</th>\n      <th>Team</th>\n      <th>Number</th>\n      <th>Position</th>\n      <th>Age</th>\n      <th>Height</th>\n      <th>Weight</th>\n      <th>College</th>\n      <th>Salary</th>\n    </tr>\n  </thead>\n  <tbody>\n    <tr>\n      <th>0</th>\n      <td>Avery Bradley</td>\n      <td>Boston Celtics</td>\n      <td>0.0000</td>\n      <td>PG</td>\n      <td>25.0000</td>\n      <td>6-2</td>\n      <td>180.0000</td>\n      <td>Texas</td>\n      <td>7730337.0000</td>\n    </tr>\n    <tr>\n      <th>1</th>\n      <td>Jae Crowder</td>\n      <td>Boston Celtics</td>\n      <td>99.0000</td>\n      <td>SF</td>\n      <td>25.0000</td>\n      <td>6-6</td>\n      <td>235.0000</td>\n      <td>Marquette</td>\n      <td>6796117.0000</td>\n    </tr>\n    <tr>\n      <th>2</th>\n      <td>John Holland</td>\n      <td>Boston Celtics</td>\n      <td>30.0000</td>\n      <td>SG</td>\n      <td>27.0000</td>\n      <td>6-5</td>\n      <td>205.0000</td>\n      <td>Boston University</td>\n      <td>nan</td>\n    </tr>\n    <tr>\n      <th>3</th>\n      <td>R.J. Hunter</td>\n      <td>Boston Celtics</td>\n      <td>28.0000</td>\n      <td>SG</td>\n      <td>22.0000</td>\n      <td>6-5</td>\n      <td>185.0000</td>\n      <td>Georgia State</td>\n      <td>1148640.0000</td>\n    </tr>\n    <tr>\n      <th>4</th>\n      <td>Jonas Jerebko</td>\n      <td>Boston Celtics</td>\n      <td>8.0000</td>\n      <td>PF</td>\n      <td>29.0000</td>\n      <td>6-10</td>\n      <td>231.0000</td>\n      <td>NaN</td>\n      <td>5000000.0000</td>\n    </tr>\n    <tr>\n      <th>5</th>\n      <td>Amir Johnson</td>\n      <td>Boston Celtics</td>\n      <td>90.0000</td>\n      <td>PF</td>\n      <td>29.0000</td>\n      <td>6-9</td>\n      <td>240.0000</td>\n      <td>NaN</td>\n      <td>12000000.0000</td>\n    </tr>\n    <tr>\n      <th>6</th>\n      <td>Jordan Mickey</td>\n      <td>Boston Celtics</td>\n      <td>55.0000</td>\n      <td>PF</td>\n      <td>21.0000</td>\n      <td>6-8</td>\n      <td>235.0000</td>\n      <td>LSU</td>\n      <td>1170960.0000</td>\n    </tr>\n    <tr>\n      <th>7</th>\n      <td>Kelly Olynyk</td>\n      <td>Boston Celtics</td>\n      <td>41.0000</td>\n      <td>C</td>\n      <td>25.0000</td>\n      <td>7-0</td>\n      <td>238.0000</td>\n      <td>Gonzaga</td>\n      <td>2165160.0000</td>\n    </tr>\n    <tr>\n      <th>8</th>\n      <td>Terry Rozier</td>\n      <td>Boston Celtics</td>\n      <td>12.0000</td>\n      <td>PG</td>\n      <td>22.0000</td>\n      <td>6-2</td>\n      <td>190.0000</td>\n      <td>Louisville</td>\n      <td>1824360.0000</td>\n    </tr>\n    <tr>\n      <th>9</th>\n      <td>Marcus Smart</td>\n      <td>Boston Celtics</td>\n      <td>36.0000</td>\n      <td>PG</td>\n      <td>22.0000</td>\n      <td>6-4</td>\n      <td>220.0000</td>\n      <td>Oklahoma State</td>\n      <td>3431040.0000</td>\n    </tr>\n  </tbody>\n</table>\n</div>",
            "text/plain": "            Name            Team  Number Position     Age Height   Weight  \\\n0  Avery Bradley  Boston Celtics  0.0000       PG 25.0000    6-2 180.0000   \n1    Jae Crowder  Boston Celtics 99.0000       SF 25.0000    6-6 235.0000   \n2   John Holland  Boston Celtics 30.0000       SG 27.0000    6-5 205.0000   \n3    R.J. Hunter  Boston Celtics 28.0000       SG 22.0000    6-5 185.0000   \n4  Jonas Jerebko  Boston Celtics  8.0000       PF 29.0000   6-10 231.0000   \n5   Amir Johnson  Boston Celtics 90.0000       PF 29.0000    6-9 240.0000   \n6  Jordan Mickey  Boston Celtics 55.0000       PF 21.0000    6-8 235.0000   \n7   Kelly Olynyk  Boston Celtics 41.0000        C 25.0000    7-0 238.0000   \n8   Terry Rozier  Boston Celtics 12.0000       PG 22.0000    6-2 190.0000   \n9   Marcus Smart  Boston Celtics 36.0000       PG 22.0000    6-4 220.0000   \n\n             College        Salary  \n0              Texas  7730337.0000  \n1          Marquette  6796117.0000  \n2  Boston University           nan  \n3      Georgia State  1148640.0000  \n4                NaN  5000000.0000  \n5                NaN 12000000.0000  \n6                LSU  1170960.0000  \n7            Gonzaga  2165160.0000  \n8         Louisville  1824360.0000  \n9     Oklahoma State  3431040.0000  "
          },
          "metadata": {}
        }
      ]
    },
    {
      "metadata": {
        "trusted": true
      },
      "cell_type": "code",
      "source": "#Columns\nlist(dt_nba)",
      "execution_count": 2,
      "outputs": [
        {
          "output_type": "execute_result",
          "execution_count": 2,
          "data": {
            "text/plain": "['Name',\n 'Team',\n 'Number',\n 'Position',\n 'Age',\n 'Height',\n 'Weight',\n 'College',\n 'Salary']"
          },
          "metadata": {}
        }
      ]
    },
    {
      "metadata": {},
      "cell_type": "markdown",
      "source": "## Partitition By Column  (Sum/Mean/Max/Min)"
    },
    {
      "metadata": {
        "trusted": true
      },
      "cell_type": "code",
      "source": "#groupby('$PartionColumn$')['$AggregateColumn$'].transform('$AggreateMethod$')[0:20]\n\n# =AVG(Salary) OVER (PARTITION BY Team)\ndt_nba[\"TeamAverageSalary\"] = dt_nba.groupby('Team')['Salary'].transform('mean')\n\ndt_nba[[\"Name\",\"Team\",\"Salary\",\"TeamAverageSalary\"]].head(10)",
      "execution_count": 3,
      "outputs": [
        {
          "output_type": "execute_result",
          "execution_count": 3,
          "data": {
            "text/html": "<div>\n<style scoped>\n    .dataframe tbody tr th:only-of-type {\n        vertical-align: middle;\n    }\n\n    .dataframe tbody tr th {\n        vertical-align: top;\n    }\n\n    .dataframe thead th {\n        text-align: right;\n    }\n</style>\n<table border=\"1\" class=\"dataframe\">\n  <thead>\n    <tr style=\"text-align: right;\">\n      <th></th>\n      <th>Name</th>\n      <th>Team</th>\n      <th>Salary</th>\n      <th>TeamAverageSalary</th>\n    </tr>\n  </thead>\n  <tbody>\n    <tr>\n      <th>0</th>\n      <td>Avery Bradley</td>\n      <td>Boston Celtics</td>\n      <td>7730337.0000</td>\n      <td>4181504.8571</td>\n    </tr>\n    <tr>\n      <th>1</th>\n      <td>Jae Crowder</td>\n      <td>Boston Celtics</td>\n      <td>6796117.0000</td>\n      <td>4181504.8571</td>\n    </tr>\n    <tr>\n      <th>2</th>\n      <td>John Holland</td>\n      <td>Boston Celtics</td>\n      <td>nan</td>\n      <td>4181504.8571</td>\n    </tr>\n    <tr>\n      <th>3</th>\n      <td>R.J. Hunter</td>\n      <td>Boston Celtics</td>\n      <td>1148640.0000</td>\n      <td>4181504.8571</td>\n    </tr>\n    <tr>\n      <th>4</th>\n      <td>Jonas Jerebko</td>\n      <td>Boston Celtics</td>\n      <td>5000000.0000</td>\n      <td>4181504.8571</td>\n    </tr>\n    <tr>\n      <th>5</th>\n      <td>Amir Johnson</td>\n      <td>Boston Celtics</td>\n      <td>12000000.0000</td>\n      <td>4181504.8571</td>\n    </tr>\n    <tr>\n      <th>6</th>\n      <td>Jordan Mickey</td>\n      <td>Boston Celtics</td>\n      <td>1170960.0000</td>\n      <td>4181504.8571</td>\n    </tr>\n    <tr>\n      <th>7</th>\n      <td>Kelly Olynyk</td>\n      <td>Boston Celtics</td>\n      <td>2165160.0000</td>\n      <td>4181504.8571</td>\n    </tr>\n    <tr>\n      <th>8</th>\n      <td>Terry Rozier</td>\n      <td>Boston Celtics</td>\n      <td>1824360.0000</td>\n      <td>4181504.8571</td>\n    </tr>\n    <tr>\n      <th>9</th>\n      <td>Marcus Smart</td>\n      <td>Boston Celtics</td>\n      <td>3431040.0000</td>\n      <td>4181504.8571</td>\n    </tr>\n  </tbody>\n</table>\n</div>",
            "text/plain": "            Name            Team        Salary  TeamAverageSalary\n0  Avery Bradley  Boston Celtics  7730337.0000       4181504.8571\n1    Jae Crowder  Boston Celtics  6796117.0000       4181504.8571\n2   John Holland  Boston Celtics           nan       4181504.8571\n3    R.J. Hunter  Boston Celtics  1148640.0000       4181504.8571\n4  Jonas Jerebko  Boston Celtics  5000000.0000       4181504.8571\n5   Amir Johnson  Boston Celtics 12000000.0000       4181504.8571\n6  Jordan Mickey  Boston Celtics  1170960.0000       4181504.8571\n7   Kelly Olynyk  Boston Celtics  2165160.0000       4181504.8571\n8   Terry Rozier  Boston Celtics  1824360.0000       4181504.8571\n9   Marcus Smart  Boston Celtics  3431040.0000       4181504.8571"
          },
          "metadata": {}
        }
      ]
    },
    {
      "metadata": {},
      "cell_type": "markdown",
      "source": "### Query Filter\n\nDataFrame[Bool]  --> if true then return row.  if false, hide row."
    },
    {
      "metadata": {
        "trusted": true
      },
      "cell_type": "code",
      "source": "#selecting a column and making a condition out of it will return a bool.\n(dt_nba[\"Salary\"] > 5000000).head()",
      "execution_count": 4,
      "outputs": [
        {
          "output_type": "execute_result",
          "execution_count": 4,
          "data": {
            "text/plain": "0     True\n1     True\n2    False\n3    False\n4    False\nName: Salary, dtype: bool"
          },
          "metadata": {}
        }
      ]
    },
    {
      "metadata": {
        "trusted": true
      },
      "cell_type": "code",
      "source": "dt_nba[(dt_nba[\"Salary\"] > 20000000)]\n",
      "execution_count": 5,
      "outputs": [
        {
          "output_type": "execute_result",
          "execution_count": 5,
          "data": {
            "text/html": "<div>\n<style scoped>\n    .dataframe tbody tr th:only-of-type {\n        vertical-align: middle;\n    }\n\n    .dataframe tbody tr th {\n        vertical-align: top;\n    }\n\n    .dataframe thead th {\n        text-align: right;\n    }\n</style>\n<table border=\"1\" class=\"dataframe\">\n  <thead>\n    <tr style=\"text-align: right;\">\n      <th></th>\n      <th>Name</th>\n      <th>Team</th>\n      <th>Number</th>\n      <th>Position</th>\n      <th>Age</th>\n      <th>Height</th>\n      <th>Weight</th>\n      <th>College</th>\n      <th>Salary</th>\n      <th>TeamAverageSalary</th>\n    </tr>\n  </thead>\n  <tbody>\n    <tr>\n      <th>33</th>\n      <td>Carmelo Anthony</td>\n      <td>New York Knicks</td>\n      <td>7.0000</td>\n      <td>SF</td>\n      <td>32.0000</td>\n      <td>6-8</td>\n      <td>240.0000</td>\n      <td>Syracuse</td>\n      <td>22875000.0000</td>\n      <td>4581493.6250</td>\n    </tr>\n    <tr>\n      <th>100</th>\n      <td>Chris Paul</td>\n      <td>Los Angeles Clippers</td>\n      <td>3.0000</td>\n      <td>PG</td>\n      <td>31.0000</td>\n      <td>6-0</td>\n      <td>175.0000</td>\n      <td>Wake Forest</td>\n      <td>21468695.0000</td>\n      <td>6323642.6667</td>\n    </tr>\n    <tr>\n      <th>109</th>\n      <td>Kobe Bryant</td>\n      <td>Los Angeles Lakers</td>\n      <td>24.0000</td>\n      <td>SF</td>\n      <td>37.0000</td>\n      <td>6-6</td>\n      <td>212.0000</td>\n      <td>NaN</td>\n      <td>25000000.0000</td>\n      <td>4784695.4000</td>\n    </tr>\n    <tr>\n      <th>164</th>\n      <td>Derrick Rose</td>\n      <td>Chicago Bulls</td>\n      <td>1.0000</td>\n      <td>PG</td>\n      <td>27.0000</td>\n      <td>6-3</td>\n      <td>190.0000</td>\n      <td>Memphis</td>\n      <td>20093064.0000</td>\n      <td>5785558.5333</td>\n    </tr>\n    <tr>\n      <th>169</th>\n      <td>LeBron James</td>\n      <td>Cleveland Cavaliers</td>\n      <td>23.0000</td>\n      <td>SF</td>\n      <td>31.0000</td>\n      <td>6-8</td>\n      <td>250.0000</td>\n      <td>NaN</td>\n      <td>22970500.0000</td>\n      <td>7642049.2143</td>\n    </tr>\n    <tr>\n      <th>251</th>\n      <td>Dwight Howard</td>\n      <td>Houston Rockets</td>\n      <td>12.0000</td>\n      <td>C</td>\n      <td>30.0000</td>\n      <td>6-11</td>\n      <td>265.0000</td>\n      <td>NaN</td>\n      <td>22359364.0000</td>\n      <td>5018868.0667</td>\n    </tr>\n    <tr>\n      <th>339</th>\n      <td>Chris Bosh</td>\n      <td>Miami Heat</td>\n      <td>1.0000</td>\n      <td>PF</td>\n      <td>32.0000</td>\n      <td>6-11</td>\n      <td>235.0000</td>\n      <td>Georgia Tech</td>\n      <td>22192730.0000</td>\n      <td>6347359.4615</td>\n    </tr>\n    <tr>\n      <th>414</th>\n      <td>Kevin Durant</td>\n      <td>Oklahoma City Thunder</td>\n      <td>35.0000</td>\n      <td>SF</td>\n      <td>27.0000</td>\n      <td>6-9</td>\n      <td>240.0000</td>\n      <td>Texas</td>\n      <td>20158622.0000</td>\n      <td>6251019.8667</td>\n    </tr>\n  </tbody>\n</table>\n</div>",
            "text/plain": "                Name                   Team  Number Position     Age Height  \\\n33   Carmelo Anthony        New York Knicks  7.0000       SF 32.0000    6-8   \n100       Chris Paul   Los Angeles Clippers  3.0000       PG 31.0000    6-0   \n109      Kobe Bryant     Los Angeles Lakers 24.0000       SF 37.0000    6-6   \n164     Derrick Rose          Chicago Bulls  1.0000       PG 27.0000    6-3   \n169     LeBron James    Cleveland Cavaliers 23.0000       SF 31.0000    6-8   \n251    Dwight Howard        Houston Rockets 12.0000        C 30.0000   6-11   \n339       Chris Bosh             Miami Heat  1.0000       PF 32.0000   6-11   \n414     Kevin Durant  Oklahoma City Thunder 35.0000       SF 27.0000    6-9   \n\n      Weight       College        Salary  TeamAverageSalary  \n33  240.0000      Syracuse 22875000.0000       4581493.6250  \n100 175.0000   Wake Forest 21468695.0000       6323642.6667  \n109 212.0000           NaN 25000000.0000       4784695.4000  \n164 190.0000       Memphis 20093064.0000       5785558.5333  \n169 250.0000           NaN 22970500.0000       7642049.2143  \n251 265.0000           NaN 22359364.0000       5018868.0667  \n339 235.0000  Georgia Tech 22192730.0000       6347359.4615  \n414 240.0000         Texas 20158622.0000       6251019.8667  "
          },
          "metadata": {}
        }
      ]
    },
    {
      "metadata": {
        "trusted": true
      },
      "cell_type": "code",
      "source": "dt_nba[(dt_nba[\"Salary\"] > 20000000) & (dt_nba[\"Age\"]<=31)]",
      "execution_count": 6,
      "outputs": [
        {
          "output_type": "execute_result",
          "execution_count": 6,
          "data": {
            "text/html": "<div>\n<style scoped>\n    .dataframe tbody tr th:only-of-type {\n        vertical-align: middle;\n    }\n\n    .dataframe tbody tr th {\n        vertical-align: top;\n    }\n\n    .dataframe thead th {\n        text-align: right;\n    }\n</style>\n<table border=\"1\" class=\"dataframe\">\n  <thead>\n    <tr style=\"text-align: right;\">\n      <th></th>\n      <th>Name</th>\n      <th>Team</th>\n      <th>Number</th>\n      <th>Position</th>\n      <th>Age</th>\n      <th>Height</th>\n      <th>Weight</th>\n      <th>College</th>\n      <th>Salary</th>\n      <th>TeamAverageSalary</th>\n    </tr>\n  </thead>\n  <tbody>\n    <tr>\n      <th>100</th>\n      <td>Chris Paul</td>\n      <td>Los Angeles Clippers</td>\n      <td>3.0000</td>\n      <td>PG</td>\n      <td>31.0000</td>\n      <td>6-0</td>\n      <td>175.0000</td>\n      <td>Wake Forest</td>\n      <td>21468695.0000</td>\n      <td>6323642.6667</td>\n    </tr>\n    <tr>\n      <th>164</th>\n      <td>Derrick Rose</td>\n      <td>Chicago Bulls</td>\n      <td>1.0000</td>\n      <td>PG</td>\n      <td>27.0000</td>\n      <td>6-3</td>\n      <td>190.0000</td>\n      <td>Memphis</td>\n      <td>20093064.0000</td>\n      <td>5785558.5333</td>\n    </tr>\n    <tr>\n      <th>169</th>\n      <td>LeBron James</td>\n      <td>Cleveland Cavaliers</td>\n      <td>23.0000</td>\n      <td>SF</td>\n      <td>31.0000</td>\n      <td>6-8</td>\n      <td>250.0000</td>\n      <td>NaN</td>\n      <td>22970500.0000</td>\n      <td>7642049.2143</td>\n    </tr>\n    <tr>\n      <th>251</th>\n      <td>Dwight Howard</td>\n      <td>Houston Rockets</td>\n      <td>12.0000</td>\n      <td>C</td>\n      <td>30.0000</td>\n      <td>6-11</td>\n      <td>265.0000</td>\n      <td>NaN</td>\n      <td>22359364.0000</td>\n      <td>5018868.0667</td>\n    </tr>\n    <tr>\n      <th>414</th>\n      <td>Kevin Durant</td>\n      <td>Oklahoma City Thunder</td>\n      <td>35.0000</td>\n      <td>SF</td>\n      <td>27.0000</td>\n      <td>6-9</td>\n      <td>240.0000</td>\n      <td>Texas</td>\n      <td>20158622.0000</td>\n      <td>6251019.8667</td>\n    </tr>\n  </tbody>\n</table>\n</div>",
            "text/plain": "              Name                   Team  Number Position     Age Height  \\\n100     Chris Paul   Los Angeles Clippers  3.0000       PG 31.0000    6-0   \n164   Derrick Rose          Chicago Bulls  1.0000       PG 27.0000    6-3   \n169   LeBron James    Cleveland Cavaliers 23.0000       SF 31.0000    6-8   \n251  Dwight Howard        Houston Rockets 12.0000        C 30.0000   6-11   \n414   Kevin Durant  Oklahoma City Thunder 35.0000       SF 27.0000    6-9   \n\n      Weight      College        Salary  TeamAverageSalary  \n100 175.0000  Wake Forest 21468695.0000       6323642.6667  \n164 190.0000      Memphis 20093064.0000       5785558.5333  \n169 250.0000          NaN 22970500.0000       7642049.2143  \n251 265.0000          NaN 22359364.0000       5018868.0667  \n414 240.0000        Texas 20158622.0000       6251019.8667  "
          },
          "metadata": {}
        }
      ]
    },
    {
      "metadata": {
        "trusted": true
      },
      "cell_type": "code",
      "source": "dt_nba.query(\"Salary > 20000000 and Age <=31\")",
      "execution_count": 7,
      "outputs": [
        {
          "output_type": "execute_result",
          "execution_count": 7,
          "data": {
            "text/html": "<div>\n<style scoped>\n    .dataframe tbody tr th:only-of-type {\n        vertical-align: middle;\n    }\n\n    .dataframe tbody tr th {\n        vertical-align: top;\n    }\n\n    .dataframe thead th {\n        text-align: right;\n    }\n</style>\n<table border=\"1\" class=\"dataframe\">\n  <thead>\n    <tr style=\"text-align: right;\">\n      <th></th>\n      <th>Name</th>\n      <th>Team</th>\n      <th>Number</th>\n      <th>Position</th>\n      <th>Age</th>\n      <th>Height</th>\n      <th>Weight</th>\n      <th>College</th>\n      <th>Salary</th>\n      <th>TeamAverageSalary</th>\n    </tr>\n  </thead>\n  <tbody>\n    <tr>\n      <th>100</th>\n      <td>Chris Paul</td>\n      <td>Los Angeles Clippers</td>\n      <td>3.0000</td>\n      <td>PG</td>\n      <td>31.0000</td>\n      <td>6-0</td>\n      <td>175.0000</td>\n      <td>Wake Forest</td>\n      <td>21468695.0000</td>\n      <td>6323642.6667</td>\n    </tr>\n    <tr>\n      <th>164</th>\n      <td>Derrick Rose</td>\n      <td>Chicago Bulls</td>\n      <td>1.0000</td>\n      <td>PG</td>\n      <td>27.0000</td>\n      <td>6-3</td>\n      <td>190.0000</td>\n      <td>Memphis</td>\n      <td>20093064.0000</td>\n      <td>5785558.5333</td>\n    </tr>\n    <tr>\n      <th>169</th>\n      <td>LeBron James</td>\n      <td>Cleveland Cavaliers</td>\n      <td>23.0000</td>\n      <td>SF</td>\n      <td>31.0000</td>\n      <td>6-8</td>\n      <td>250.0000</td>\n      <td>NaN</td>\n      <td>22970500.0000</td>\n      <td>7642049.2143</td>\n    </tr>\n    <tr>\n      <th>251</th>\n      <td>Dwight Howard</td>\n      <td>Houston Rockets</td>\n      <td>12.0000</td>\n      <td>C</td>\n      <td>30.0000</td>\n      <td>6-11</td>\n      <td>265.0000</td>\n      <td>NaN</td>\n      <td>22359364.0000</td>\n      <td>5018868.0667</td>\n    </tr>\n    <tr>\n      <th>414</th>\n      <td>Kevin Durant</td>\n      <td>Oklahoma City Thunder</td>\n      <td>35.0000</td>\n      <td>SF</td>\n      <td>27.0000</td>\n      <td>6-9</td>\n      <td>240.0000</td>\n      <td>Texas</td>\n      <td>20158622.0000</td>\n      <td>6251019.8667</td>\n    </tr>\n  </tbody>\n</table>\n</div>",
            "text/plain": "              Name                   Team  Number Position     Age Height  \\\n100     Chris Paul   Los Angeles Clippers  3.0000       PG 31.0000    6-0   \n164   Derrick Rose          Chicago Bulls  1.0000       PG 27.0000    6-3   \n169   LeBron James    Cleveland Cavaliers 23.0000       SF 31.0000    6-8   \n251  Dwight Howard        Houston Rockets 12.0000        C 30.0000   6-11   \n414   Kevin Durant  Oklahoma City Thunder 35.0000       SF 27.0000    6-9   \n\n      Weight      College        Salary  TeamAverageSalary  \n100 175.0000  Wake Forest 21468695.0000       6323642.6667  \n164 190.0000      Memphis 20093064.0000       5785558.5333  \n169 250.0000          NaN 22970500.0000       7642049.2143  \n251 265.0000          NaN 22359364.0000       5018868.0667  \n414 240.0000        Texas 20158622.0000       6251019.8667  "
          },
          "metadata": {}
        }
      ]
    },
    {
      "metadata": {},
      "cell_type": "markdown",
      "source": "## RowNumber() with Filter"
    },
    {
      "metadata": {
        "trusted": true
      },
      "cell_type": "markdown",
      "source": "### Syntax: \n\ngroupby('$PartionColumn$')['$AggregateColumn$'].transform('$AggreateMethod$')[0:20]\n"
    },
    {
      "metadata": {
        "trusted": true
      },
      "cell_type": "code",
      "source": "#Syntax Type : 1\n#=ROW_NUMBER() OVER (PARTITION BY Team)\ndt_nba[\"RowID\"] = dt_nba.groupby('Team')['Name'].transform(lambda x: x.rank()).astype(int)",
      "execution_count": 8,
      "outputs": []
    },
    {
      "metadata": {
        "trusted": true
      },
      "cell_type": "code",
      "source": "#Syntax Type : 2\n# =ROW_NUMBER() OVER (PARTITION BY Team ORDER BY Name) : using cumcount() needs presorted data\ndt_nba[\"RowID2\"] = dt_nba.sort_values([\"Team\",\"Name\"]).groupby('Team')['Name'].cumcount() + 1",
      "execution_count": 9,
      "outputs": []
    },
    {
      "metadata": {
        "trusted": true
      },
      "cell_type": "code",
      "source": "#Count nulls in dataframe\ndt_nba.isnull().sum()",
      "execution_count": 10,
      "outputs": [
        {
          "output_type": "execute_result",
          "execution_count": 10,
          "data": {
            "text/plain": "Name                  0\nTeam                  0\nNumber                0\nPosition              0\nAge                   0\nHeight                0\nWeight                0\nCollege              84\nSalary               11\nTeamAverageSalary     0\nRowID                 0\nRowID2                0\ndtype: int64"
          },
          "metadata": {}
        }
      ]
    },
    {
      "metadata": {
        "trusted": true
      },
      "cell_type": "code",
      "source": "dt_nba[[\"Name\",\"Team\",\"Salary\",\"TeamAverageSalary\",\"RowID\",\"RowID2\"]].head(10)",
      "execution_count": 11,
      "outputs": [
        {
          "output_type": "execute_result",
          "execution_count": 11,
          "data": {
            "text/html": "<div>\n<style scoped>\n    .dataframe tbody tr th:only-of-type {\n        vertical-align: middle;\n    }\n\n    .dataframe tbody tr th {\n        vertical-align: top;\n    }\n\n    .dataframe thead th {\n        text-align: right;\n    }\n</style>\n<table border=\"1\" class=\"dataframe\">\n  <thead>\n    <tr style=\"text-align: right;\">\n      <th></th>\n      <th>Name</th>\n      <th>Team</th>\n      <th>Salary</th>\n      <th>TeamAverageSalary</th>\n      <th>RowID</th>\n      <th>RowID2</th>\n    </tr>\n  </thead>\n  <tbody>\n    <tr>\n      <th>0</th>\n      <td>Avery Bradley</td>\n      <td>Boston Celtics</td>\n      <td>7730337.0000</td>\n      <td>4181504.8571</td>\n      <td>2</td>\n      <td>2</td>\n    </tr>\n    <tr>\n      <th>1</th>\n      <td>Jae Crowder</td>\n      <td>Boston Celtics</td>\n      <td>6796117.0000</td>\n      <td>4181504.8571</td>\n      <td>5</td>\n      <td>5</td>\n    </tr>\n    <tr>\n      <th>2</th>\n      <td>John Holland</td>\n      <td>Boston Celtics</td>\n      <td>nan</td>\n      <td>4181504.8571</td>\n      <td>8</td>\n      <td>8</td>\n    </tr>\n    <tr>\n      <th>3</th>\n      <td>R.J. Hunter</td>\n      <td>Boston Celtics</td>\n      <td>1148640.0000</td>\n      <td>4181504.8571</td>\n      <td>13</td>\n      <td>13</td>\n    </tr>\n    <tr>\n      <th>4</th>\n      <td>Jonas Jerebko</td>\n      <td>Boston Celtics</td>\n      <td>5000000.0000</td>\n      <td>4181504.8571</td>\n      <td>9</td>\n      <td>9</td>\n    </tr>\n    <tr>\n      <th>5</th>\n      <td>Amir Johnson</td>\n      <td>Boston Celtics</td>\n      <td>12000000.0000</td>\n      <td>4181504.8571</td>\n      <td>1</td>\n      <td>1</td>\n    </tr>\n    <tr>\n      <th>6</th>\n      <td>Jordan Mickey</td>\n      <td>Boston Celtics</td>\n      <td>1170960.0000</td>\n      <td>4181504.8571</td>\n      <td>10</td>\n      <td>10</td>\n    </tr>\n    <tr>\n      <th>7</th>\n      <td>Kelly Olynyk</td>\n      <td>Boston Celtics</td>\n      <td>2165160.0000</td>\n      <td>4181504.8571</td>\n      <td>11</td>\n      <td>11</td>\n    </tr>\n    <tr>\n      <th>8</th>\n      <td>Terry Rozier</td>\n      <td>Boston Celtics</td>\n      <td>1824360.0000</td>\n      <td>4181504.8571</td>\n      <td>14</td>\n      <td>14</td>\n    </tr>\n    <tr>\n      <th>9</th>\n      <td>Marcus Smart</td>\n      <td>Boston Celtics</td>\n      <td>3431040.0000</td>\n      <td>4181504.8571</td>\n      <td>12</td>\n      <td>12</td>\n    </tr>\n  </tbody>\n</table>\n</div>",
            "text/plain": "            Name            Team        Salary  TeamAverageSalary  RowID  \\\n0  Avery Bradley  Boston Celtics  7730337.0000       4181504.8571      2   \n1    Jae Crowder  Boston Celtics  6796117.0000       4181504.8571      5   \n2   John Holland  Boston Celtics           nan       4181504.8571      8   \n3    R.J. Hunter  Boston Celtics  1148640.0000       4181504.8571     13   \n4  Jonas Jerebko  Boston Celtics  5000000.0000       4181504.8571      9   \n5   Amir Johnson  Boston Celtics 12000000.0000       4181504.8571      1   \n6  Jordan Mickey  Boston Celtics  1170960.0000       4181504.8571     10   \n7   Kelly Olynyk  Boston Celtics  2165160.0000       4181504.8571     11   \n8   Terry Rozier  Boston Celtics  1824360.0000       4181504.8571     14   \n9   Marcus Smart  Boston Celtics  3431040.0000       4181504.8571     12   \n\n   RowID2  \n0       2  \n1       5  \n2       8  \n3      13  \n4       9  \n5       1  \n6      10  \n7      11  \n8      14  \n9      12  "
          },
          "metadata": {}
        }
      ]
    },
    {
      "metadata": {
        "trusted": true
      },
      "cell_type": "code",
      "source": "# dt_nba[[\"Name\",\"Team\",\"Salary\",\"TeamAverageSalary\",\"RowID\"]] => new data frame\n# .sort_values([\"Team\",\"Name\"])  => sort data by Team and Name\n# [condition] => filter\n\ndt_nba_sorted = dt_nba[[\"Name\",\"Team\",\"Salary\",\"TeamAverageSalary\",\"RowID\",\"RowID2\"]].sort_values([\"Team\",\"Name\"])\n\n#show only rows that have rowid < 5\ndt_nba_sorted[dt_nba_sorted[\"RowID2\"]<=3][:20]\n\n#NOTE : Filter =  DT[Boolean] ==>>  EG :  DT[DT[\"Column\"]<>0]",
      "execution_count": 12,
      "outputs": [
        {
          "output_type": "execute_result",
          "execution_count": 12,
          "data": {
            "text/html": "<div>\n<style scoped>\n    .dataframe tbody tr th:only-of-type {\n        vertical-align: middle;\n    }\n\n    .dataframe tbody tr th {\n        vertical-align: top;\n    }\n\n    .dataframe thead th {\n        text-align: right;\n    }\n</style>\n<table border=\"1\" class=\"dataframe\">\n  <thead>\n    <tr style=\"text-align: right;\">\n      <th></th>\n      <th>Name</th>\n      <th>Team</th>\n      <th>Salary</th>\n      <th>TeamAverageSalary</th>\n      <th>RowID</th>\n      <th>RowID2</th>\n    </tr>\n  </thead>\n  <tbody>\n    <tr>\n      <th>312</th>\n      <td>Al Horford</td>\n      <td>Atlanta Hawks</td>\n      <td>12000000.0000</td>\n      <td>4860196.6667</td>\n      <td>1</td>\n      <td>1</td>\n    </tr>\n    <tr>\n      <th>318</th>\n      <td>Dennis Schroder</td>\n      <td>Atlanta Hawks</td>\n      <td>1763400.0000</td>\n      <td>4860196.6667</td>\n      <td>2</td>\n      <td>2</td>\n    </tr>\n    <tr>\n      <th>323</th>\n      <td>Jeff Teague</td>\n      <td>Atlanta Hawks</td>\n      <td>8000000.0000</td>\n      <td>4860196.6667</td>\n      <td>3</td>\n      <td>3</td>\n    </tr>\n    <tr>\n      <th>5</th>\n      <td>Amir Johnson</td>\n      <td>Boston Celtics</td>\n      <td>12000000.0000</td>\n      <td>4181504.8571</td>\n      <td>1</td>\n      <td>1</td>\n    </tr>\n    <tr>\n      <th>0</th>\n      <td>Avery Bradley</td>\n      <td>Boston Celtics</td>\n      <td>7730337.0000</td>\n      <td>4181504.8571</td>\n      <td>2</td>\n      <td>2</td>\n    </tr>\n    <tr>\n      <th>12</th>\n      <td>Evan Turner</td>\n      <td>Boston Celtics</td>\n      <td>3425510.0000</td>\n      <td>4181504.8571</td>\n      <td>3</td>\n      <td>3</td>\n    </tr>\n    <tr>\n      <th>15</th>\n      <td>Bojan Bogdanovic</td>\n      <td>Brooklyn Nets</td>\n      <td>3425510.0000</td>\n      <td>3501898.3333</td>\n      <td>1</td>\n      <td>1</td>\n    </tr>\n    <tr>\n      <th>23</th>\n      <td>Brook Lopez</td>\n      <td>Brooklyn Nets</td>\n      <td>19689000.0000</td>\n      <td>3501898.3333</td>\n      <td>2</td>\n      <td>2</td>\n    </tr>\n    <tr>\n      <th>24</th>\n      <td>Chris McCullough</td>\n      <td>Brooklyn Nets</td>\n      <td>1140240.0000</td>\n      <td>3501898.3333</td>\n      <td>3</td>\n      <td>3</td>\n    </tr>\n    <tr>\n      <th>328</th>\n      <td>Aaron Harrison</td>\n      <td>Charlotte Hornets</td>\n      <td>525093.0000</td>\n      <td>5222728.0000</td>\n      <td>1</td>\n      <td>1</td>\n    </tr>\n    <tr>\n      <th>330</th>\n      <td>Al Jefferson</td>\n      <td>Charlotte Hornets</td>\n      <td>13500000.0000</td>\n      <td>5222728.0000</td>\n      <td>2</td>\n      <td>2</td>\n    </tr>\n    <tr>\n      <th>338</th>\n      <td>Cody Zeller</td>\n      <td>Charlotte Hornets</td>\n      <td>4204200.0000</td>\n      <td>5222728.0000</td>\n      <td>3</td>\n      <td>3</td>\n    </tr>\n    <tr>\n      <th>152</th>\n      <td>Aaron Brooks</td>\n      <td>Chicago Bulls</td>\n      <td>2250000.0000</td>\n      <td>5785558.5333</td>\n      <td>1</td>\n      <td>1</td>\n    </tr>\n    <tr>\n      <th>163</th>\n      <td>Bobby Portis</td>\n      <td>Chicago Bulls</td>\n      <td>1391160.0000</td>\n      <td>5785558.5333</td>\n      <td>2</td>\n      <td>2</td>\n    </tr>\n    <tr>\n      <th>151</th>\n      <td>Cameron Bairstow</td>\n      <td>Chicago Bulls</td>\n      <td>845059.0000</td>\n      <td>5785558.5333</td>\n      <td>3</td>\n      <td>3</td>\n    </tr>\n    <tr>\n      <th>167</th>\n      <td>Channing Frye</td>\n      <td>Cleveland Cavaliers</td>\n      <td>8193029.0000</td>\n      <td>7642049.2143</td>\n      <td>1</td>\n      <td>1</td>\n    </tr>\n    <tr>\n      <th>171</th>\n      <td>Dahntay Jones</td>\n      <td>Cleveland Cavaliers</td>\n      <td>nan</td>\n      <td>7642049.2143</td>\n      <td>2</td>\n      <td>2</td>\n    </tr>\n    <tr>\n      <th>177</th>\n      <td>Iman Shumpert</td>\n      <td>Cleveland Cavaliers</td>\n      <td>8988765.0000</td>\n      <td>7642049.2143</td>\n      <td>3</td>\n      <td>3</td>\n    </tr>\n    <tr>\n      <th>238</th>\n      <td>Chandler Parsons</td>\n      <td>Dallas Mavericks</td>\n      <td>15361500.0000</td>\n      <td>4746582.1333</td>\n      <td>1</td>\n      <td>1</td>\n    </tr>\n    <tr>\n      <th>240</th>\n      <td>Charlie Villanueva</td>\n      <td>Dallas Mavericks</td>\n      <td>947276.0000</td>\n      <td>4746582.1333</td>\n      <td>2</td>\n      <td>2</td>\n    </tr>\n  </tbody>\n</table>\n</div>",
            "text/plain": "                   Name                 Team        Salary  TeamAverageSalary  \\\n312          Al Horford        Atlanta Hawks 12000000.0000       4860196.6667   \n318     Dennis Schroder        Atlanta Hawks  1763400.0000       4860196.6667   \n323         Jeff Teague        Atlanta Hawks  8000000.0000       4860196.6667   \n5          Amir Johnson       Boston Celtics 12000000.0000       4181504.8571   \n0         Avery Bradley       Boston Celtics  7730337.0000       4181504.8571   \n12          Evan Turner       Boston Celtics  3425510.0000       4181504.8571   \n15     Bojan Bogdanovic        Brooklyn Nets  3425510.0000       3501898.3333   \n23          Brook Lopez        Brooklyn Nets 19689000.0000       3501898.3333   \n24     Chris McCullough        Brooklyn Nets  1140240.0000       3501898.3333   \n328      Aaron Harrison    Charlotte Hornets   525093.0000       5222728.0000   \n330        Al Jefferson    Charlotte Hornets 13500000.0000       5222728.0000   \n338         Cody Zeller    Charlotte Hornets  4204200.0000       5222728.0000   \n152        Aaron Brooks        Chicago Bulls  2250000.0000       5785558.5333   \n163        Bobby Portis        Chicago Bulls  1391160.0000       5785558.5333   \n151    Cameron Bairstow        Chicago Bulls   845059.0000       5785558.5333   \n167       Channing Frye  Cleveland Cavaliers  8193029.0000       7642049.2143   \n171       Dahntay Jones  Cleveland Cavaliers           nan       7642049.2143   \n177       Iman Shumpert  Cleveland Cavaliers  8988765.0000       7642049.2143   \n238    Chandler Parsons     Dallas Mavericks 15361500.0000       4746582.1333   \n240  Charlie Villanueva     Dallas Mavericks   947276.0000       4746582.1333   \n\n     RowID  RowID2  \n312      1       1  \n318      2       2  \n323      3       3  \n5        1       1  \n0        2       2  \n12       3       3  \n15       1       1  \n23       2       2  \n24       3       3  \n328      1       1  \n330      2       2  \n338      3       3  \n152      1       1  \n163      2       2  \n151      3       3  \n167      1       1  \n171      2       2  \n177      3       3  \n238      1       1  \n240      2       2  "
          },
          "metadata": {}
        }
      ]
    },
    {
      "metadata": {
        "trusted": true
      },
      "cell_type": "code",
      "source": "dt_nba_sorted.query(\"RowID2<=3\").head(12)",
      "execution_count": 13,
      "outputs": [
        {
          "output_type": "execute_result",
          "execution_count": 13,
          "data": {
            "text/html": "<div>\n<style scoped>\n    .dataframe tbody tr th:only-of-type {\n        vertical-align: middle;\n    }\n\n    .dataframe tbody tr th {\n        vertical-align: top;\n    }\n\n    .dataframe thead th {\n        text-align: right;\n    }\n</style>\n<table border=\"1\" class=\"dataframe\">\n  <thead>\n    <tr style=\"text-align: right;\">\n      <th></th>\n      <th>Name</th>\n      <th>Team</th>\n      <th>Salary</th>\n      <th>TeamAverageSalary</th>\n      <th>RowID</th>\n      <th>RowID2</th>\n    </tr>\n  </thead>\n  <tbody>\n    <tr>\n      <th>312</th>\n      <td>Al Horford</td>\n      <td>Atlanta Hawks</td>\n      <td>12000000.0000</td>\n      <td>4860196.6667</td>\n      <td>1</td>\n      <td>1</td>\n    </tr>\n    <tr>\n      <th>318</th>\n      <td>Dennis Schroder</td>\n      <td>Atlanta Hawks</td>\n      <td>1763400.0000</td>\n      <td>4860196.6667</td>\n      <td>2</td>\n      <td>2</td>\n    </tr>\n    <tr>\n      <th>323</th>\n      <td>Jeff Teague</td>\n      <td>Atlanta Hawks</td>\n      <td>8000000.0000</td>\n      <td>4860196.6667</td>\n      <td>3</td>\n      <td>3</td>\n    </tr>\n    <tr>\n      <th>5</th>\n      <td>Amir Johnson</td>\n      <td>Boston Celtics</td>\n      <td>12000000.0000</td>\n      <td>4181504.8571</td>\n      <td>1</td>\n      <td>1</td>\n    </tr>\n    <tr>\n      <th>0</th>\n      <td>Avery Bradley</td>\n      <td>Boston Celtics</td>\n      <td>7730337.0000</td>\n      <td>4181504.8571</td>\n      <td>2</td>\n      <td>2</td>\n    </tr>\n    <tr>\n      <th>12</th>\n      <td>Evan Turner</td>\n      <td>Boston Celtics</td>\n      <td>3425510.0000</td>\n      <td>4181504.8571</td>\n      <td>3</td>\n      <td>3</td>\n    </tr>\n    <tr>\n      <th>15</th>\n      <td>Bojan Bogdanovic</td>\n      <td>Brooklyn Nets</td>\n      <td>3425510.0000</td>\n      <td>3501898.3333</td>\n      <td>1</td>\n      <td>1</td>\n    </tr>\n    <tr>\n      <th>23</th>\n      <td>Brook Lopez</td>\n      <td>Brooklyn Nets</td>\n      <td>19689000.0000</td>\n      <td>3501898.3333</td>\n      <td>2</td>\n      <td>2</td>\n    </tr>\n    <tr>\n      <th>24</th>\n      <td>Chris McCullough</td>\n      <td>Brooklyn Nets</td>\n      <td>1140240.0000</td>\n      <td>3501898.3333</td>\n      <td>3</td>\n      <td>3</td>\n    </tr>\n    <tr>\n      <th>328</th>\n      <td>Aaron Harrison</td>\n      <td>Charlotte Hornets</td>\n      <td>525093.0000</td>\n      <td>5222728.0000</td>\n      <td>1</td>\n      <td>1</td>\n    </tr>\n    <tr>\n      <th>330</th>\n      <td>Al Jefferson</td>\n      <td>Charlotte Hornets</td>\n      <td>13500000.0000</td>\n      <td>5222728.0000</td>\n      <td>2</td>\n      <td>2</td>\n    </tr>\n    <tr>\n      <th>338</th>\n      <td>Cody Zeller</td>\n      <td>Charlotte Hornets</td>\n      <td>4204200.0000</td>\n      <td>5222728.0000</td>\n      <td>3</td>\n      <td>3</td>\n    </tr>\n  </tbody>\n</table>\n</div>",
            "text/plain": "                 Name               Team        Salary  TeamAverageSalary  \\\n312        Al Horford      Atlanta Hawks 12000000.0000       4860196.6667   \n318   Dennis Schroder      Atlanta Hawks  1763400.0000       4860196.6667   \n323       Jeff Teague      Atlanta Hawks  8000000.0000       4860196.6667   \n5        Amir Johnson     Boston Celtics 12000000.0000       4181504.8571   \n0       Avery Bradley     Boston Celtics  7730337.0000       4181504.8571   \n12        Evan Turner     Boston Celtics  3425510.0000       4181504.8571   \n15   Bojan Bogdanovic      Brooklyn Nets  3425510.0000       3501898.3333   \n23        Brook Lopez      Brooklyn Nets 19689000.0000       3501898.3333   \n24   Chris McCullough      Brooklyn Nets  1140240.0000       3501898.3333   \n328    Aaron Harrison  Charlotte Hornets   525093.0000       5222728.0000   \n330      Al Jefferson  Charlotte Hornets 13500000.0000       5222728.0000   \n338       Cody Zeller  Charlotte Hornets  4204200.0000       5222728.0000   \n\n     RowID  RowID2  \n312      1       1  \n318      2       2  \n323      3       3  \n5        1       1  \n0        2       2  \n12       3       3  \n15       1       1  \n23       2       2  \n24       3       3  \n328      1       1  \n330      2       2  \n338      3       3  "
          },
          "metadata": {}
        }
      ]
    }
  ],
  "metadata": {
    "kernelspec": {
      "name": "python36",
      "display_name": "Python 3.6",
      "language": "python"
    },
    "language_info": {
      "mimetype": "text/x-python",
      "nbconvert_exporter": "python",
      "name": "python",
      "pygments_lexer": "ipython3",
      "version": "3.6.6",
      "file_extension": ".py",
      "codemirror_mode": {
        "version": 3,
        "name": "ipython"
      }
    }
  },
  "nbformat": 4,
  "nbformat_minor": 2
}