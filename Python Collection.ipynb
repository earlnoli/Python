{
  "cells": [
    {
      "metadata": {},
      "cell_type": "markdown",
      "source": "# Python Collection\n\n\n## 1) Dictionary with str Index"
    },
    {
      "metadata": {
        "trusted": true
      },
      "cell_type": "code",
      "source": "import pandas as pd\n\n#squeeze will make a value pair\n#index_col - declare the index of the dictionary\ndf_pokemon = pd.read_csv(\"data//pokemon.csv\",index_col=\"Pokemon\",squeeze=True)\ndf_pokemon.sort_index(inplace=True)\ndf_pokemon.head(8)",
      "execution_count": 4,
      "outputs": [
        {
          "output_type": "execute_result",
          "execution_count": 4,
          "data": {
            "text/plain": "Pokemon\nAbomasnow       Grass\nAbra          Psychic\nAbsol            Dark\nAccelgor          Bug\nAegislash       Steel\nAerodactyl       Rock\nAggron          Steel\nAipom          Normal\nName: Type, dtype: object"
          },
          "metadata": {}
        }
      ]
    },
    {
      "metadata": {
        "trusted": true
      },
      "cell_type": "code",
      "source": "df_pokemon[\"Charmander\":\"Cherubi\"],df_pokemon[[\"Ivysaur\",\"Charizard\"]]",
      "execution_count": 5,
      "outputs": [
        {
          "output_type": "execute_result",
          "execution_count": 5,
          "data": {
            "text/plain": "(Pokemon\n Charmander      Fire\n Charmeleon      Fire\n Chatot        Normal\n Cherrim        Grass\n Cherubi        Grass\n Name: Type, dtype: object, Pokemon\n Ivysaur      Grass\n Charizard     Fire\n Name: Type, dtype: object)"
          },
          "metadata": {}
        }
      ]
    },
    {
      "metadata": {
        "trusted": true
      },
      "cell_type": "code",
      "source": "df_pokemon.get(key=[\"Charizard\",\"Digimon\"])  # get returns NAN if not exists",
      "execution_count": 7,
      "outputs": [
        {
          "output_type": "execute_result",
          "execution_count": 7,
          "data": {
            "text/plain": "Pokemon\nCharizard    Fire\nDigimon       NaN\nName: Type, dtype: object"
          },
          "metadata": {}
        }
      ]
    },
    {
      "metadata": {},
      "cell_type": "markdown",
      "source": "## 2) Aggregation Methods"
    },
    {
      "metadata": {
        "trusted": true
      },
      "cell_type": "code",
      "source": "df_pokemon.count() #excluses NAN  vs   len(df_pokemon)",
      "execution_count": 8,
      "outputs": [
        {
          "output_type": "execute_result",
          "execution_count": 8,
          "data": {
            "text/plain": "721"
          },
          "metadata": {}
        }
      ]
    },
    {
      "metadata": {
        "trusted": true
      },
      "cell_type": "code",
      "source": "df_google = pd.read_csv(\"data//google_stock_price.csv\",squeeze=True)",
      "execution_count": 29,
      "outputs": []
    },
    {
      "metadata": {
        "trusted": true
      },
      "cell_type": "code",
      "source": "df_google[1000:1010]",
      "execution_count": 102,
      "outputs": [
        {
          "output_type": "execute_result",
          "execution_count": 102,
          "data": {
            "text/plain": "1000    247.26\n1001    250.17\n1002    251.05\n1003    249.76\n1004    252.49\n1005    254.82\n1006    248.90\n1007    245.00\n1008    242.26\n1009    243.02\nName: Stock Price, dtype: float64"
          },
          "metadata": {}
        }
      ]
    },
    {
      "metadata": {
        "trusted": true
      },
      "cell_type": "code",
      "source": "df_google.std() #standard deviation",
      "execution_count": 26,
      "outputs": [
        {
          "output_type": "execute_result",
          "execution_count": 26,
          "data": {
            "text/plain": "173.18720477113106"
          },
          "metadata": {}
        }
      ]
    },
    {
      "metadata": {
        "trusted": true
      },
      "cell_type": "code",
      "source": "{\n\"Median\" : df_google.median()\n,\"Mean\" : df_google.mean()\n,\"Max\" : df_google.max()\n,\"Min\" : df_google.min()   \n,\"Index Max\" : df_google.idxmax() #index that holds highest value\n,\"Index Min\" : df_google.idxmin() #index that holds lowest value\n}\n    ",
      "execution_count": 11,
      "outputs": [
        {
          "output_type": "execute_result",
          "execution_count": 11,
          "data": {
            "text/plain": "{'Median': 283.315,\n 'Mean': 334.31009296148744,\n 'Max': 782.22,\n 'Min': 49.95,\n 'Index Max': 3011,\n 'Index Min': 11}"
          },
          "metadata": {}
        }
      ]
    },
    {
      "metadata": {
        "trusted": true
      },
      "cell_type": "code",
      "source": "#group by count\ndf_pokemon.value_counts(ascending=True)",
      "execution_count": 12,
      "outputs": [
        {
          "output_type": "execute_result",
          "execution_count": 12,
          "data": {
            "text/plain": "Flying        3\nFairy        17\nSteel        22\nIce          23\nGhost        23\nDragon       24\nFighting     25\nPoison       28\nDark         28\nGround       30\nElectric     36\nRock         41\nFire         47\nPsychic      47\nBug          63\nGrass        66\nNormal       93\nWater       105\nName: Type, dtype: int64"
          },
          "metadata": {}
        }
      ]
    },
    {
      "metadata": {
        "trusted": true
      },
      "cell_type": "code",
      "source": "#normalize with breakdown by percentage (SUM=100%)\ndf_pokemon.value_counts(normalize=True).sum(),df_pokemon.value_counts(normalize=True)",
      "execution_count": 13,
      "outputs": [
        {
          "output_type": "execute_result",
          "execution_count": 13,
          "data": {
            "text/plain": "(0.9999999999999999, Water       0.145631\n Normal      0.128988\n Grass       0.091540\n Bug         0.087379\n Psychic     0.065187\n Fire        0.065187\n Rock        0.056865\n Electric    0.049931\n Ground      0.041609\n Dark        0.038835\n Poison      0.038835\n Fighting    0.034674\n Dragon      0.033287\n Ghost       0.031900\n Ice         0.031900\n Steel       0.030513\n Fairy       0.023578\n Flying      0.004161\n Name: Type, dtype: float64)"
          },
          "metadata": {}
        }
      ]
    },
    {
      "metadata": {
        "trusted": true
      },
      "cell_type": "code",
      "source": " #mode is a series\ntype(df_google.mode()),df_google.mode()",
      "execution_count": 14,
      "outputs": [
        {
          "output_type": "execute_result",
          "execution_count": 14,
          "data": {
            "text/plain": "(pandas.core.series.Series, 0    291.21\n dtype: float64)"
          },
          "metadata": {}
        }
      ]
    },
    {
      "metadata": {
        "trusted": true
      },
      "cell_type": "markdown",
      "source": "## 2) Apply"
    },
    {
      "metadata": {
        "trusted": true
      },
      "cell_type": "code",
      "source": "def CheckPerformance(val):\n    if val <230:\n        ret = \"Poor\"\n    elif val <250:\n        ret = \"Okay\"\n    elif val >=270 and val <= 300:\n        ret = \"Nice\"\n    else: ret = \"Great\"\n    return ret\n    \ndf_google[1000:1010].apply(CheckPerformance)",
      "execution_count": 36,
      "outputs": [
        {
          "output_type": "execute_result",
          "execution_count": 36,
          "data": {
            "text/plain": "1000     Okay\n1001    Great\n1002    Great\n1003     Okay\n1004    Great\n1005    Great\n1006     Okay\n1007     Okay\n1008     Okay\n1009     Okay\nName: Stock Price, dtype: object"
          },
          "metadata": {}
        }
      ]
    },
    {
      "metadata": {},
      "cell_type": "markdown",
      "source": "## 3) Apply - Lambda"
    },
    {
      "metadata": {
        "trusted": true
      },
      "cell_type": "code",
      "source": "df_google[1000:1010].apply(lambda stock_price : if )",
      "execution_count": 42,
      "outputs": [
        {
          "output_type": "execute_result",
          "execution_count": 42,
          "data": {
            "text/plain": "1000    24726.0\n1001    25017.0\n1002    25105.0\n1003    24976.0\n1004    25249.0\n1005    25482.0\n1006    24890.0\n1007    24500.0\n1008    24226.0\n1009    24302.0\nName: Stock Price, dtype: float64"
          },
          "metadata": {}
        }
      ]
    },
    {
      "metadata": {
        "trusted": true
      },
      "cell_type": "code",
      "source": "#reduce function (CHECK MORE)\nfrom functools import reduce\nreduce(lambda d, i: (i[0] < 7 and d.__setitem__(*i[::-1]), d)[-1], [{}, *{1:2, 3:4, 5:6, 7:8}.items()])   ",
      "execution_count": 66,
      "outputs": [
        {
          "output_type": "execute_result",
          "execution_count": 66,
          "data": {
            "text/plain": "{2: 1, 4: 3, 6: 5}"
          },
          "metadata": {}
        }
      ]
    },
    {
      "metadata": {},
      "cell_type": "markdown",
      "source": "## 4) Map - JOIN / MERGE"
    },
    {
      "metadata": {
        "trusted": true
      },
      "cell_type": "code",
      "source": "df_nba1 = pd.read_csv(\"data//nba.csv\",squeeze=True,usecols=[\"Name\",\"Age\"])\ndf_nba1[:5]",
      "execution_count": 80,
      "outputs": [
        {
          "output_type": "execute_result",
          "execution_count": 80,
          "data": {
            "text/html": "<div>\n<style scoped>\n    .dataframe tbody tr th:only-of-type {\n        vertical-align: middle;\n    }\n\n    .dataframe tbody tr th {\n        vertical-align: top;\n    }\n\n    .dataframe thead th {\n        text-align: right;\n    }\n</style>\n<table border=\"1\" class=\"dataframe\">\n  <thead>\n    <tr style=\"text-align: right;\">\n      <th></th>\n      <th>Name</th>\n      <th>Age</th>\n    </tr>\n  </thead>\n  <tbody>\n    <tr>\n      <th>0</th>\n      <td>Avery Bradley</td>\n      <td>25.0</td>\n    </tr>\n    <tr>\n      <th>1</th>\n      <td>Jae Crowder</td>\n      <td>25.0</td>\n    </tr>\n    <tr>\n      <th>2</th>\n      <td>John Holland</td>\n      <td>27.0</td>\n    </tr>\n    <tr>\n      <th>3</th>\n      <td>R.J. Hunter</td>\n      <td>22.0</td>\n    </tr>\n    <tr>\n      <th>4</th>\n      <td>Jonas Jerebko</td>\n      <td>29.0</td>\n    </tr>\n  </tbody>\n</table>\n</div>",
            "text/plain": "            Name   Age\n0  Avery Bradley  25.0\n1    Jae Crowder  25.0\n2   John Holland  27.0\n3    R.J. Hunter  22.0\n4  Jonas Jerebko  29.0"
          },
          "metadata": {}
        }
      ]
    },
    {
      "metadata": {
        "trusted": true
      },
      "cell_type": "code",
      "source": "df_nba2 = pd.read_csv(\"data//nba.csv\",squeeze=True,usecols=[\"Name\",\"Weight\",\"Height\"])\n#df_nba2[\"Name\"] = df_nba2[\"Name\"] + '*'\ndf_nba2[:5]",
      "execution_count": 90,
      "outputs": [
        {
          "output_type": "execute_result",
          "execution_count": 90,
          "data": {
            "text/html": "<div>\n<style scoped>\n    .dataframe tbody tr th:only-of-type {\n        vertical-align: middle;\n    }\n\n    .dataframe tbody tr th {\n        vertical-align: top;\n    }\n\n    .dataframe thead th {\n        text-align: right;\n    }\n</style>\n<table border=\"1\" class=\"dataframe\">\n  <thead>\n    <tr style=\"text-align: right;\">\n      <th></th>\n      <th>Name</th>\n      <th>Height</th>\n      <th>Weight</th>\n    </tr>\n  </thead>\n  <tbody>\n    <tr>\n      <th>0</th>\n      <td>Avery Bradley</td>\n      <td>6-2</td>\n      <td>180.0</td>\n    </tr>\n    <tr>\n      <th>1</th>\n      <td>Jae Crowder</td>\n      <td>6-6</td>\n      <td>235.0</td>\n    </tr>\n    <tr>\n      <th>2</th>\n      <td>John Holland</td>\n      <td>6-5</td>\n      <td>205.0</td>\n    </tr>\n    <tr>\n      <th>3</th>\n      <td>R.J. Hunter</td>\n      <td>6-5</td>\n      <td>185.0</td>\n    </tr>\n    <tr>\n      <th>4</th>\n      <td>Jonas Jerebko</td>\n      <td>6-10</td>\n      <td>231.0</td>\n    </tr>\n  </tbody>\n</table>\n</div>",
            "text/plain": "            Name Height  Weight\n0  Avery Bradley    6-2   180.0\n1    Jae Crowder    6-6   235.0\n2   John Holland    6-5   205.0\n3    R.J. Hunter    6-5   185.0\n4  Jonas Jerebko   6-10   231.0"
          },
          "metadata": {}
        }
      ]
    },
    {
      "metadata": {
        "trusted": true
      },
      "cell_type": "code",
      "source": "df_nba1.join(df_nba2, how='left', lsuffix='', rsuffix='_right')[:10]",
      "execution_count": 91,
      "outputs": [
        {
          "output_type": "execute_result",
          "execution_count": 91,
          "data": {
            "text/html": "<div>\n<style scoped>\n    .dataframe tbody tr th:only-of-type {\n        vertical-align: middle;\n    }\n\n    .dataframe tbody tr th {\n        vertical-align: top;\n    }\n\n    .dataframe thead th {\n        text-align: right;\n    }\n</style>\n<table border=\"1\" class=\"dataframe\">\n  <thead>\n    <tr style=\"text-align: right;\">\n      <th></th>\n      <th>Name</th>\n      <th>Age</th>\n      <th>Name_right</th>\n      <th>Height</th>\n      <th>Weight</th>\n    </tr>\n  </thead>\n  <tbody>\n    <tr>\n      <th>0</th>\n      <td>Avery Bradley</td>\n      <td>25.0</td>\n      <td>Avery Bradley</td>\n      <td>6-2</td>\n      <td>180.0</td>\n    </tr>\n    <tr>\n      <th>1</th>\n      <td>Jae Crowder</td>\n      <td>25.0</td>\n      <td>Jae Crowder</td>\n      <td>6-6</td>\n      <td>235.0</td>\n    </tr>\n    <tr>\n      <th>2</th>\n      <td>John Holland</td>\n      <td>27.0</td>\n      <td>John Holland</td>\n      <td>6-5</td>\n      <td>205.0</td>\n    </tr>\n    <tr>\n      <th>3</th>\n      <td>R.J. Hunter</td>\n      <td>22.0</td>\n      <td>R.J. Hunter</td>\n      <td>6-5</td>\n      <td>185.0</td>\n    </tr>\n    <tr>\n      <th>4</th>\n      <td>Jonas Jerebko</td>\n      <td>29.0</td>\n      <td>Jonas Jerebko</td>\n      <td>6-10</td>\n      <td>231.0</td>\n    </tr>\n    <tr>\n      <th>5</th>\n      <td>Amir Johnson</td>\n      <td>29.0</td>\n      <td>Amir Johnson</td>\n      <td>6-9</td>\n      <td>240.0</td>\n    </tr>\n    <tr>\n      <th>6</th>\n      <td>Jordan Mickey</td>\n      <td>21.0</td>\n      <td>Jordan Mickey</td>\n      <td>6-8</td>\n      <td>235.0</td>\n    </tr>\n    <tr>\n      <th>7</th>\n      <td>Kelly Olynyk</td>\n      <td>25.0</td>\n      <td>Kelly Olynyk</td>\n      <td>7-0</td>\n      <td>238.0</td>\n    </tr>\n    <tr>\n      <th>8</th>\n      <td>Terry Rozier</td>\n      <td>22.0</td>\n      <td>Terry Rozier</td>\n      <td>6-2</td>\n      <td>190.0</td>\n    </tr>\n    <tr>\n      <th>9</th>\n      <td>Marcus Smart</td>\n      <td>22.0</td>\n      <td>Marcus Smart</td>\n      <td>6-4</td>\n      <td>220.0</td>\n    </tr>\n  </tbody>\n</table>\n</div>",
            "text/plain": "            Name   Age     Name_right Height  Weight\n0  Avery Bradley  25.0  Avery Bradley    6-2   180.0\n1    Jae Crowder  25.0    Jae Crowder    6-6   235.0\n2   John Holland  27.0   John Holland    6-5   205.0\n3    R.J. Hunter  22.0    R.J. Hunter    6-5   185.0\n4  Jonas Jerebko  29.0  Jonas Jerebko   6-10   231.0\n5   Amir Johnson  29.0   Amir Johnson    6-9   240.0\n6  Jordan Mickey  21.0  Jordan Mickey    6-8   235.0\n7   Kelly Olynyk  25.0   Kelly Olynyk    7-0   238.0\n8   Terry Rozier  22.0   Terry Rozier    6-2   190.0\n9   Marcus Smart  22.0   Marcus Smart    6-4   220.0"
          },
          "metadata": {}
        }
      ]
    },
    {
      "metadata": {
        "trusted": true
      },
      "cell_type": "code",
      "source": "df_nba1.merge(df_nba2, how='left')[:10]",
      "execution_count": 92,
      "outputs": [
        {
          "output_type": "execute_result",
          "execution_count": 92,
          "data": {
            "text/html": "<div>\n<style scoped>\n    .dataframe tbody tr th:only-of-type {\n        vertical-align: middle;\n    }\n\n    .dataframe tbody tr th {\n        vertical-align: top;\n    }\n\n    .dataframe thead th {\n        text-align: right;\n    }\n</style>\n<table border=\"1\" class=\"dataframe\">\n  <thead>\n    <tr style=\"text-align: right;\">\n      <th></th>\n      <th>Name</th>\n      <th>Age</th>\n      <th>Height</th>\n      <th>Weight</th>\n    </tr>\n  </thead>\n  <tbody>\n    <tr>\n      <th>0</th>\n      <td>Avery Bradley</td>\n      <td>25.0</td>\n      <td>6-2</td>\n      <td>180.0</td>\n    </tr>\n    <tr>\n      <th>1</th>\n      <td>Jae Crowder</td>\n      <td>25.0</td>\n      <td>6-6</td>\n      <td>235.0</td>\n    </tr>\n    <tr>\n      <th>2</th>\n      <td>John Holland</td>\n      <td>27.0</td>\n      <td>6-5</td>\n      <td>205.0</td>\n    </tr>\n    <tr>\n      <th>3</th>\n      <td>R.J. Hunter</td>\n      <td>22.0</td>\n      <td>6-5</td>\n      <td>185.0</td>\n    </tr>\n    <tr>\n      <th>4</th>\n      <td>Jonas Jerebko</td>\n      <td>29.0</td>\n      <td>6-10</td>\n      <td>231.0</td>\n    </tr>\n    <tr>\n      <th>5</th>\n      <td>Amir Johnson</td>\n      <td>29.0</td>\n      <td>6-9</td>\n      <td>240.0</td>\n    </tr>\n    <tr>\n      <th>6</th>\n      <td>Jordan Mickey</td>\n      <td>21.0</td>\n      <td>6-8</td>\n      <td>235.0</td>\n    </tr>\n    <tr>\n      <th>7</th>\n      <td>Kelly Olynyk</td>\n      <td>25.0</td>\n      <td>7-0</td>\n      <td>238.0</td>\n    </tr>\n    <tr>\n      <th>8</th>\n      <td>Terry Rozier</td>\n      <td>22.0</td>\n      <td>6-2</td>\n      <td>190.0</td>\n    </tr>\n    <tr>\n      <th>9</th>\n      <td>Marcus Smart</td>\n      <td>22.0</td>\n      <td>6-4</td>\n      <td>220.0</td>\n    </tr>\n  </tbody>\n</table>\n</div>",
            "text/plain": "            Name   Age Height  Weight\n0  Avery Bradley  25.0    6-2   180.0\n1    Jae Crowder  25.0    6-6   235.0\n2   John Holland  27.0    6-5   205.0\n3    R.J. Hunter  22.0    6-5   185.0\n4  Jonas Jerebko  29.0   6-10   231.0\n5   Amir Johnson  29.0    6-9   240.0\n6  Jordan Mickey  21.0    6-8   235.0\n7   Kelly Olynyk  25.0    7-0   238.0\n8   Terry Rozier  22.0    6-2   190.0\n9   Marcus Smart  22.0    6-4   220.0"
          },
          "metadata": {}
        }
      ]
    }
  ],
  "metadata": {
    "kernelspec": {
      "name": "python36",
      "display_name": "Python 3.6",
      "language": "python"
    },
    "language_info": {
      "mimetype": "text/x-python",
      "nbconvert_exporter": "python",
      "name": "python",
      "pygments_lexer": "ipython3",
      "version": "3.6.6",
      "file_extension": ".py",
      "codemirror_mode": {
        "version": 3,
        "name": "ipython"
      }
    }
  },
  "nbformat": 4,
  "nbformat_minor": 1
}